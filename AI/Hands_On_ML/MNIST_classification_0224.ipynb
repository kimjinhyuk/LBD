{
 "cells": [
  {
   "cell_type": "code",
   "execution_count": 1,
   "id": "married-compression",
   "metadata": {
    "ExecuteTime": {
     "end_time": "2021-02-24T07:36:49.760387Z",
     "start_time": "2021-02-24T07:36:32.217754Z"
    }
   },
   "outputs": [
    {
     "data": {
      "text/plain": [
       "dict_keys(['data', 'target', 'frame', 'feature_names', 'target_names', 'DESCR', 'details', 'categories', 'url'])"
      ]
     },
     "execution_count": 1,
     "metadata": {},
     "output_type": "execute_result"
    }
   ],
   "source": [
    "#데이터셋을 설명하는 DESCR 키\n",
    "#샘플이 하나의 행, 특성이 하나의 열로 구성된 배열을 가진 data 키\n",
    "#레이블 배열을 담은 target 키\n",
    "from sklearn.datasets import fetch_openml\n",
    "import numpy as np\n",
    "mnist = fetch_openml('mnist_784', version=1)\n",
    "mnist.keys()"
   ]
  },
  {
   "cell_type": "code",
   "execution_count": 2,
   "id": "regular-issue",
   "metadata": {
    "ExecuteTime": {
     "end_time": "2021-02-24T07:36:49.768191Z",
     "start_time": "2021-02-24T07:36:49.765695Z"
    }
   },
   "outputs": [
    {
     "data": {
      "text/plain": [
       "(70000,)"
      ]
     },
     "execution_count": 2,
     "metadata": {},
     "output_type": "execute_result"
    }
   ],
   "source": [
    "X, y = mnist[\"data\"], mnist[\"target\"]\n",
    "X.shape\n",
    "y.shape"
   ]
  },
  {
   "cell_type": "code",
   "execution_count": 3,
   "id": "proof-mapping",
   "metadata": {
    "ExecuteTime": {
     "end_time": "2021-02-24T07:36:50.006136Z",
     "start_time": "2021-02-24T07:36:49.773395Z"
    }
   },
   "outputs": [
    {
     "data": {
      "image/png": "[encoded data removed]",
      "text/plain": [
       "<Figure size 432x288 with 1 Axes>"
      ]
     },
     "metadata": {
      "needs_background": "light"
     },
     "output_type": "display_data"
    }
   ],
   "source": [
    "import matplotlib as mpl\n",
    "import matplotlib.pyplot as plt\n",
    "\n",
    "some_digit = X[0]\n",
    "some_digit_image = some_digit.reshape(28,28)\n",
    "\n",
    "plt.imshow(some_digit_image, cmap=\"binary\")\n",
    "plt.axis(\"off\")\n",
    "plt.show()"
   ]
  },
  {
   "cell_type": "code",
   "execution_count": 4,
   "id": "local-treat",
   "metadata": {
    "ExecuteTime": {
     "end_time": "2021-02-24T07:36:50.022368Z",
     "start_time": "2021-02-24T07:36:50.019385Z"
    }
   },
   "outputs": [
    {
     "data": {
      "text/plain": [
       "'5'"
      ]
     },
     "execution_count": 4,
     "metadata": {},
     "output_type": "execute_result"
    }
   ],
   "source": [
    "y[0]"
   ]
  },
  {
   "cell_type": "code",
   "execution_count": 5,
   "id": "initial-seminar",
   "metadata": {
    "ExecuteTime": {
     "end_time": "2021-02-24T07:36:50.045082Z",
     "start_time": "2021-02-24T07:36:50.038491Z"
    }
   },
   "outputs": [],
   "source": [
    "y = y.astype(np.uint8)"
   ]
  },
  {
   "cell_type": "code",
   "execution_count": 6,
   "id": "difficult-lying",
   "metadata": {
    "ExecuteTime": {
     "end_time": "2021-02-24T07:36:50.060741Z",
     "start_time": "2021-02-24T07:36:50.058937Z"
    }
   },
   "outputs": [],
   "source": [
    "X_train, X_test, y_train, y_test = X[:60000], X[60000:], y[:60000], y[60000:]"
   ]
  },
  {
   "cell_type": "code",
   "execution_count": 7,
   "id": "functional-maker",
   "metadata": {
    "ExecuteTime": {
     "end_time": "2021-02-24T07:36:50.098765Z",
     "start_time": "2021-02-24T07:36:50.096433Z"
    }
   },
   "outputs": [],
   "source": [
    "#5는 True이고 나머지 False\n",
    "y_train_5 = (y_train == 5)\n",
    "y_test_5 = (y_test == 5)"
   ]
  },
  {
   "cell_type": "code",
   "execution_count": 8,
   "id": "linear-jenny",
   "metadata": {
    "ExecuteTime": {
     "end_time": "2021-02-24T07:37:04.396856Z",
     "start_time": "2021-02-24T07:36:50.112181Z"
    }
   },
   "outputs": [
    {
     "data": {
      "text/plain": [
       "SGDClassifier(alpha=0.0001, average=False, class_weight=None,\n",
       "              early_stopping=False, epsilon=0.1, eta0=0.0, fit_intercept=True,\n",
       "              l1_ratio=0.15, learning_rate='optimal', loss='hinge',\n",
       "              max_iter=1000, n_iter_no_change=5, n_jobs=None, penalty='l2',\n",
       "              power_t=0.5, random_state=42, shuffle=True, tol=0.001,\n",
       "              validation_fraction=0.1, verbose=0, warm_start=False)"
      ]
     },
     "execution_count": 8,
     "metadata": {},
     "output_type": "execute_result"
    }
   ],
   "source": [
    "from sklearn.linear_model import SGDClassifier\n",
    "\n",
    "sgd_clf = SGDClassifier(random_state=42)\n",
    "sgd_clf.fit(X_train, y_train_5)"
   ]
  },
  {
   "cell_type": "code",
   "execution_count": 9,
   "id": "sudden-fault",
   "metadata": {
    "ExecuteTime": {
     "end_time": "2021-02-24T07:37:04.414027Z",
     "start_time": "2021-02-24T07:37:04.411417Z"
    }
   },
   "outputs": [
    {
     "data": {
      "text/plain": [
       "array([ True])"
      ]
     },
     "execution_count": 9,
     "metadata": {},
     "output_type": "execute_result"
    }
   ],
   "source": [
    "sgd_clf.predict([some_digit])"
   ]
  },
  {
   "cell_type": "code",
   "execution_count": 10,
   "id": "sustained-inspector",
   "metadata": {
    "ExecuteTime": {
     "end_time": "2021-02-24T07:37:04.431650Z",
     "start_time": "2021-02-24T07:37:04.428916Z"
    }
   },
   "outputs": [],
   "source": [
    "#분류기의 성능 평가는 회귀 모델보다 어렵기 때문에 확실한 이해가 필요!!"
   ]
  },
  {
   "cell_type": "code",
   "execution_count": 11,
   "id": "grave-arrest",
   "metadata": {
    "ExecuteTime": {
     "end_time": "2021-02-24T07:37:28.964578Z",
     "start_time": "2021-02-24T07:37:04.446999Z"
    }
   },
   "outputs": [
    {
     "name": "stdout",
     "output_type": "stream",
     "text": [
      "0.9669\n",
      "0.91625\n",
      "0.96785\n"
     ]
    }
   ],
   "source": [
    "#교차 검증은 모델을 평가하는 좋은 방법\n",
    "#사이킷 런이 제공하는 기능보다 교차 검증 과정을 더 많이 제어해야할 필요가 있음. 이때는 교차 검증 기능을 직접 구현. \n",
    "#사이킷런의 cross_val_score() 와 동일한 결과를 출력\n",
    "from sklearn.model_selection import StratifiedKFold\n",
    "from sklearn.base import clone\n",
    "\n",
    "skfolds = StratifiedKFold(n_splits=3, random_state=42, shuffle=True)\n",
    "\n",
    "for train_index, test_index in skfolds.split(X_train, y_train_5):\n",
    "    clone_clf = clone(sgd_clf)\n",
    "    X_train_folds = X_train[train_index]\n",
    "    y_train_folds = y_train_5[train_index]\n",
    "    X_test_fold = X_train[test_index]\n",
    "    y_test_fold = y_train_5[test_index]\n",
    "    \n",
    "    clone_clf.fit(X_train_folds, y_train_folds)\n",
    "    y_pred = clone_clf.predict(X_test_fold)\n",
    "    n_correct = sum(y_pred == y_test_fold)\n",
    "    print(n_correct / len(y_pred))\n"
   ]
  },
  {
   "cell_type": "code",
   "execution_count": 12,
   "id": "neutral-machinery",
   "metadata": {
    "ExecuteTime": {
     "end_time": "2021-02-24T07:37:47.762198Z",
     "start_time": "2021-02-24T07:37:28.985580Z"
    }
   },
   "outputs": [
    {
     "data": {
      "text/plain": [
       "array([0.95035, 0.96035, 0.9604 ])"
      ]
     },
     "execution_count": 12,
     "metadata": {},
     "output_type": "execute_result"
    }
   ],
   "source": [
    "from sklearn.model_selection import cross_val_score\n",
    "cross_val_score(sgd_clf, X_train, y_train_5, cv=3, scoring=\"accuracy\")"
   ]
  },
  {
   "cell_type": "code",
   "execution_count": 13,
   "id": "consolidated-platform",
   "metadata": {
    "ExecuteTime": {
     "end_time": "2021-02-24T07:37:47.783024Z",
     "start_time": "2021-02-24T07:37:47.780402Z"
    }
   },
   "outputs": [],
   "source": [
    "from sklearn.base import BaseEstimator\n",
    "\n",
    "class Never5Classifier(BaseEstimator):\n",
    "    def fit(self, X, y=None):\n",
    "        return self\n",
    "    def predict(self, X):\n",
    "        return np.zeros((len(X),1), dtype=bool)"
   ]
  },
  {
   "cell_type": "code",
   "execution_count": 14,
   "id": "geographic-voltage",
   "metadata": {
    "ExecuteTime": {
     "end_time": "2021-02-24T07:37:47.804206Z",
     "start_time": "2021-02-24T07:37:47.802493Z"
    }
   },
   "outputs": [],
   "source": [
    "never_5_clf = Never5Classifier()"
   ]
  },
  {
   "cell_type": "code",
   "execution_count": 15,
   "id": "special-money",
   "metadata": {
    "ExecuteTime": {
     "end_time": "2021-02-24T07:37:48.143365Z",
     "start_time": "2021-02-24T07:37:47.822082Z"
    }
   },
   "outputs": [
    {
     "data": {
      "text/plain": [
       "array([0.91125, 0.90855, 0.90915])"
      ]
     },
     "execution_count": 15,
     "metadata": {},
     "output_type": "execute_result"
    }
   ],
   "source": [
    "cross_val_score(never_5_clf, X_train, y_train_5, cv=3, scoring=\"accuracy\")"
   ]
  },
  {
   "cell_type": "code",
   "execution_count": 16,
   "id": "upset-gossip",
   "metadata": {
    "ExecuteTime": {
     "end_time": "2021-02-24T07:37:48.160541Z",
     "start_time": "2021-02-24T07:37:48.159030Z"
    }
   },
   "outputs": [],
   "source": [
    "#분류기의 성능을 평가하는 더 좋은 방법 confusion matrix"
   ]
  },
  {
   "cell_type": "code",
   "execution_count": 17,
   "id": "selected-surgery",
   "metadata": {
    "ExecuteTime": {
     "end_time": "2021-02-24T07:38:06.770931Z",
     "start_time": "2021-02-24T07:37:48.175840Z"
    }
   },
   "outputs": [],
   "source": [
    "from sklearn.model_selection import cross_val_predict\n",
    "y_train_pred = cross_val_predict(sgd_clf,X_train, y_train_5,cv=3)"
   ]
  },
  {
   "cell_type": "code",
   "execution_count": 18,
   "id": "checked-listing",
   "metadata": {
    "ExecuteTime": {
     "end_time": "2021-02-24T07:38:06.791219Z",
     "start_time": "2021-02-24T07:38:06.789371Z"
    }
   },
   "outputs": [],
   "source": [
    "from sklearn.metrics import confusion_matrix"
   ]
  },
  {
   "cell_type": "code",
   "execution_count": 19,
   "id": "received-customs",
   "metadata": {
    "ExecuteTime": {
     "end_time": "2021-02-24T07:38:06.836266Z",
     "start_time": "2021-02-24T07:38:06.809760Z"
    }
   },
   "outputs": [
    {
     "data": {
      "text/plain": [
       "array([[53892,   687],\n",
       "       [ 1891,  3530]])"
      ]
     },
     "execution_count": 19,
     "metadata": {},
     "output_type": "execute_result"
    }
   ],
   "source": [
    "confusion_matrix(y_train_5, y_train_pred)"
   ]
  },
  {
   "cell_type": "code",
   "execution_count": 20,
   "id": "promotional-income",
   "metadata": {
    "ExecuteTime": {
     "end_time": "2021-02-24T07:38:06.880149Z",
     "start_time": "2021-02-24T07:38:06.855235Z"
    }
   },
   "outputs": [
    {
     "data": {
      "text/plain": [
       "array([[54579,     0],\n",
       "       [    0,  5421]])"
      ]
     },
     "execution_count": 20,
     "metadata": {},
     "output_type": "execute_result"
    }
   ],
   "source": [
    "y_train_perfect_predictions = y_train_5  # 완변한척 하자\n",
    "confusion_matrix(y_train_5, y_train_perfect_predictions)"
   ]
  },
  {
   "cell_type": "code",
   "execution_count": 21,
   "id": "fatal-partnership",
   "metadata": {
    "ExecuteTime": {
     "end_time": "2021-02-24T07:38:06.897222Z",
     "start_time": "2021-02-24T07:38:06.895441Z"
    }
   },
   "outputs": [],
   "source": [
    "#양성 예측의 정확도 = 정밀도(precision) TP/TP+FP\n",
    "# 재현율(recall) = TP / TP_FN\n",
    "# 민감도(sensitivity)\n",
    "# 정밀도와 재현율을 계산하는 함수들\n",
    "from sklearn.metrics import precision_score, recall_score"
   ]
  },
  {
   "cell_type": "code",
   "execution_count": 22,
   "id": "laden-confusion",
   "metadata": {
    "ExecuteTime": {
     "end_time": "2021-02-24T07:38:06.927155Z",
     "start_time": "2021-02-24T07:38:06.913188Z"
    }
   },
   "outputs": [
    {
     "data": {
      "text/plain": [
       "0.8370879772350012"
      ]
     },
     "execution_count": 22,
     "metadata": {},
     "output_type": "execute_result"
    }
   ],
   "source": [
    "precision_score(y_train_5, y_train_pred)"
   ]
  },
  {
   "cell_type": "code",
   "execution_count": 23,
   "id": "understanding-argentina",
   "metadata": {
    "ExecuteTime": {
     "end_time": "2021-02-24T07:38:06.967784Z",
     "start_time": "2021-02-24T07:38:06.943296Z"
    }
   },
   "outputs": [
    {
     "data": {
      "text/plain": [
       "0.8370879772350012"
      ]
     },
     "execution_count": 23,
     "metadata": {},
     "output_type": "execute_result"
    }
   ],
   "source": [
    "cm = confusion_matrix(y_train_5, y_train_pred)\n",
    "cm[1, 1] / (cm[0, 1] + cm[1, 1])"
   ]
  },
  {
   "cell_type": "code",
   "execution_count": 24,
   "id": "present-scoop",
   "metadata": {
    "ExecuteTime": {
     "end_time": "2021-02-24T07:38:06.999046Z",
     "start_time": "2021-02-24T07:38:06.984665Z"
    }
   },
   "outputs": [
    {
     "data": {
      "text/plain": [
       "0.6511713705958311"
      ]
     },
     "execution_count": 24,
     "metadata": {},
     "output_type": "execute_result"
    }
   ],
   "source": [
    "recall_score(y_train_5, y_train_pred)"
   ]
  },
  {
   "cell_type": "code",
   "execution_count": 25,
   "id": "representative-technology",
   "metadata": {
    "ExecuteTime": {
     "end_time": "2021-02-24T07:38:07.017786Z",
     "start_time": "2021-02-24T07:38:07.014792Z"
    }
   },
   "outputs": [
    {
     "data": {
      "text/plain": [
       "0.6511713705958311"
      ]
     },
     "execution_count": 25,
     "metadata": {},
     "output_type": "execute_result"
    }
   ],
   "source": [
    "cm[1, 1] / (cm[1, 0] + cm[1, 1])"
   ]
  },
  {
   "cell_type": "code",
   "execution_count": 26,
   "id": "enhanced-macro",
   "metadata": {
    "ExecuteTime": {
     "end_time": "2021-02-24T07:38:07.049071Z",
     "start_time": "2021-02-24T07:38:07.035107Z"
    }
   },
   "outputs": [
    {
     "data": {
      "text/plain": [
       "0.7325171197343846"
      ]
     },
     "execution_count": 26,
     "metadata": {},
     "output_type": "execute_result"
    }
   ],
   "source": [
    "#F1 score\n",
    "from sklearn.metrics import f1_score\n",
    "f1_score(y_train_5,y_train_pred)"
   ]
  },
  {
   "cell_type": "code",
   "execution_count": 27,
   "id": "consecutive-temperature",
   "metadata": {
    "ExecuteTime": {
     "end_time": "2021-02-24T07:38:07.067048Z",
     "start_time": "2021-02-24T07:38:07.064402Z"
    }
   },
   "outputs": [
    {
     "data": {
      "text/plain": [
       "array([2164.22030239])"
      ]
     },
     "execution_count": 27,
     "metadata": {},
     "output_type": "execute_result"
    }
   ],
   "source": [
    "y_scores = sgd_clf.decision_function([some_digit])\n",
    "y_scores"
   ]
  },
  {
   "cell_type": "code",
   "execution_count": 28,
   "id": "comparative-estimate",
   "metadata": {
    "ExecuteTime": {
     "end_time": "2021-02-24T07:38:07.084998Z",
     "start_time": "2021-02-24T07:38:07.083331Z"
    }
   },
   "outputs": [],
   "source": [
    "threshold = 0\n",
    "y_some_digit_pred = (y_scores > threshold)"
   ]
  },
  {
   "cell_type": "code",
   "execution_count": 29,
   "id": "acute-backup",
   "metadata": {
    "ExecuteTime": {
     "end_time": "2021-02-24T07:38:07.104229Z",
     "start_time": "2021-02-24T07:38:07.102084Z"
    }
   },
   "outputs": [
    {
     "data": {
      "text/plain": [
       "array([ True])"
      ]
     },
     "execution_count": 29,
     "metadata": {},
     "output_type": "execute_result"
    }
   ],
   "source": [
    "y_some_digit_pred"
   ]
  },
  {
   "cell_type": "code",
   "execution_count": 30,
   "id": "provincial-poverty",
   "metadata": {
    "ExecuteTime": {
     "end_time": "2021-02-24T07:38:07.122676Z",
     "start_time": "2021-02-24T07:38:07.120341Z"
    }
   },
   "outputs": [
    {
     "data": {
      "text/plain": [
       "array([False])"
      ]
     },
     "execution_count": 30,
     "metadata": {},
     "output_type": "execute_result"
    }
   ],
   "source": [
    "threshold = 8000\n",
    "y_some_digit_pred = (y_scores > threshold)\n",
    "y_some_digit_pred"
   ]
  },
  {
   "cell_type": "code",
   "execution_count": 31,
   "id": "connected-pledge",
   "metadata": {
    "ExecuteTime": {
     "end_time": "2021-02-24T07:38:25.907664Z",
     "start_time": "2021-02-24T07:38:07.138235Z"
    }
   },
   "outputs": [],
   "source": [
    "y_scores = cross_val_predict(sgd_clf, X_train, y_train_5, cv=3, method=\"decision_function\")"
   ]
  },
  {
   "cell_type": "code",
   "execution_count": 32,
   "id": "difficult-cookie",
   "metadata": {
    "ExecuteTime": {
     "end_time": "2021-02-24T07:38:25.934018Z",
     "start_time": "2021-02-24T07:38:25.923826Z"
    }
   },
   "outputs": [],
   "source": [
    "from sklearn.metrics import precision_recall_curve\n",
    "precisions, recalls, thresholds = precision_recall_curve(y_train_5, y_scores)"
   ]
  },
  {
   "cell_type": "code",
   "execution_count": 51,
   "id": "everyday-seattle",
   "metadata": {
    "ExecuteTime": {
     "end_time": "2021-02-24T07:52:31.670787Z",
     "start_time": "2021-02-24T07:52:31.662856Z"
    }
   },
   "outputs": [
    {
     "data": {
      "text/plain": [
       "[]"
      ]
     },
     "execution_count": 51,
     "metadata": {},
     "output_type": "execute_result"
    }
   ],
   "source": [
    "import matplotlib.font_manager as fm\n",
    "\n",
    "# 설치된 폰트 출력\n",
    "# font_list = fm.findSystemFonts(fontpaths=None, fontext='ttf')\n",
    "font_list = [(f.name, f.fname) for f in fm.fontManager.ttflist if 'BM' in f.name]\n",
    "# print(len(font_list))\n",
    "font_list\n",
    "\n",
    "# font_list_mac = fm.OSXInstalledFonts()\n",
    "# print(len(font_list_mac))"
   ]
  },
  {
   "cell_type": "code",
   "execution_count": 34,
   "id": "strategic-documentary",
   "metadata": {
    "ExecuteTime": {
     "end_time": "2021-02-24T07:43:06.090205Z",
     "start_time": "2021-02-24T07:43:05.948459Z"
    }
   },
   "outputs": [
    {
     "name": "stderr",
     "output_type": "stream",
     "text": [
      "/Users/jin/opt/anaconda3/envs/jin_env/lib/python3.7/site-packages/matplotlib/backends/backend_agg.py:238: RuntimeWarning: Glyph 51076 missing from current font.\n",
      "  font.set_text(s, 0.0, flags=flags)\n",
      "/Users/jin/opt/anaconda3/envs/jin_env/lib/python3.7/site-packages/matplotlib/backends/backend_agg.py:238: RuntimeWarning: Glyph 44247 missing from current font.\n",
      "  font.set_text(s, 0.0, flags=flags)\n",
      "/Users/jin/opt/anaconda3/envs/jin_env/lib/python3.7/site-packages/matplotlib/backends/backend_agg.py:238: RuntimeWarning: Glyph 44050 missing from current font.\n",
      "  font.set_text(s, 0.0, flags=flags)\n",
      "/Users/jin/opt/anaconda3/envs/jin_env/lib/python3.7/site-packages/matplotlib/backends/backend_agg.py:238: RuntimeWarning: Glyph 51221 missing from current font.\n",
      "  font.set_text(s, 0.0, flags=flags)\n",
      "/Users/jin/opt/anaconda3/envs/jin_env/lib/python3.7/site-packages/matplotlib/backends/backend_agg.py:238: RuntimeWarning: Glyph 48128 missing from current font.\n",
      "  font.set_text(s, 0.0, flags=flags)\n",
      "/Users/jin/opt/anaconda3/envs/jin_env/lib/python3.7/site-packages/matplotlib/backends/backend_agg.py:238: RuntimeWarning: Glyph 46020 missing from current font.\n",
      "  font.set_text(s, 0.0, flags=flags)\n",
      "/Users/jin/opt/anaconda3/envs/jin_env/lib/python3.7/site-packages/matplotlib/backends/backend_agg.py:238: RuntimeWarning: Glyph 51116 missing from current font.\n",
      "  font.set_text(s, 0.0, flags=flags)\n",
      "/Users/jin/opt/anaconda3/envs/jin_env/lib/python3.7/site-packages/matplotlib/backends/backend_agg.py:238: RuntimeWarning: Glyph 54788 missing from current font.\n",
      "  font.set_text(s, 0.0, flags=flags)\n",
      "/Users/jin/opt/anaconda3/envs/jin_env/lib/python3.7/site-packages/matplotlib/backends/backend_agg.py:238: RuntimeWarning: Glyph 50984 missing from current font.\n",
      "  font.set_text(s, 0.0, flags=flags)\n",
      "/Users/jin/opt/anaconda3/envs/jin_env/lib/python3.7/site-packages/matplotlib/backends/backend_agg.py:201: RuntimeWarning: Glyph 51076 missing from current font.\n",
      "  font.set_text(s, 0, flags=flags)\n",
      "/Users/jin/opt/anaconda3/envs/jin_env/lib/python3.7/site-packages/matplotlib/backends/backend_agg.py:201: RuntimeWarning: Glyph 44247 missing from current font.\n",
      "  font.set_text(s, 0, flags=flags)\n",
      "/Users/jin/opt/anaconda3/envs/jin_env/lib/python3.7/site-packages/matplotlib/backends/backend_agg.py:201: RuntimeWarning: Glyph 44050 missing from current font.\n",
      "  font.set_text(s, 0, flags=flags)\n",
      "/Users/jin/opt/anaconda3/envs/jin_env/lib/python3.7/site-packages/matplotlib/backends/backend_agg.py:201: RuntimeWarning: Glyph 51221 missing from current font.\n",
      "  font.set_text(s, 0, flags=flags)\n",
      "/Users/jin/opt/anaconda3/envs/jin_env/lib/python3.7/site-packages/matplotlib/backends/backend_agg.py:201: RuntimeWarning: Glyph 48128 missing from current font.\n",
      "  font.set_text(s, 0, flags=flags)\n",
      "/Users/jin/opt/anaconda3/envs/jin_env/lib/python3.7/site-packages/matplotlib/backends/backend_agg.py:201: RuntimeWarning: Glyph 46020 missing from current font.\n",
      "  font.set_text(s, 0, flags=flags)\n",
      "/Users/jin/opt/anaconda3/envs/jin_env/lib/python3.7/site-packages/matplotlib/backends/backend_agg.py:201: RuntimeWarning: Glyph 51116 missing from current font.\n",
      "  font.set_text(s, 0, flags=flags)\n",
      "/Users/jin/opt/anaconda3/envs/jin_env/lib/python3.7/site-packages/matplotlib/backends/backend_agg.py:201: RuntimeWarning: Glyph 54788 missing from current font.\n",
      "  font.set_text(s, 0, flags=flags)\n",
      "/Users/jin/opt/anaconda3/envs/jin_env/lib/python3.7/site-packages/matplotlib/backends/backend_agg.py:201: RuntimeWarning: Glyph 50984 missing from current font.\n",
      "  font.set_text(s, 0, flags=flags)\n"
     ]
    },
    {
     "data": {
      "image/png": "[encoded data removed]",
      "text/plain": [
       "<Figure size 576x288 with 1 Axes>"
      ]
     },
     "metadata": {
      "needs_background": "light"
     },
     "output_type": "display_data"
    }
   ],
   "source": [
    "def plot_precision_recall_vs_threshold(precisions, recalls, thresholds):\n",
    "    plt.plot(thresholds, precisions[:-1], \"b--\", label=\"정밀도\")\n",
    "    plt.plot(thresholds, recalls[:-1], \"g-\", label=\"재현율\")\n",
    "    plt.legend(loc=\"center right\", fontsize=16) #임계값을 표시, 범례, 축 이름, 그리드 추가\n",
    "    plt.xlabel(\"임곗값\", fontsize=16) \n",
    "    plt.grid(True)\n",
    "    plt.rcParams['font.family'] = 'JetBrains Mono'\n",
    "    plt.axis([-50000, 50000, 0, 1])\n",
    "    \n",
    "    \n",
    "recall_90_precision = recalls[np.argmax(precisions >= 0.90)]\n",
    "threshold_90_precision = thresholds[np.argmax(precisions >= 0.90)]\n",
    "\n",
    "plt.figure(figsize=(8, 4))\n",
    "plot_precision_recall_vs_threshold(precisions, recalls, thresholds)\n",
    "plt.plot([threshold_90_precision, threshold_90_precision], [0., 0.9], \"r:\")\n",
    "plt.plot([-50000, threshold_90_precision], [0.9, 0.9], \"r:\")                                # Not shown\n",
    "plt.plot([-50000, threshold_90_precision], [recall_90_precision, recall_90_precision], \"r:\")# Not shown\n",
    "plt.plot([threshold_90_precision], [0.9], \"ro\")                                             # Not shown\n",
    "plt.plot([threshold_90_precision], [recall_90_precision], \"ro\") \n",
    "plt.style.use('ggplot')\n",
    "plt.show()"
   ]
  },
  {
   "cell_type": "code",
   "execution_count": null,
   "id": "capable-animal",
   "metadata": {},
   "outputs": [],
   "source": []
  },
  {
   "cell_type": "code",
   "execution_count": null,
   "id": "consecutive-sierra",
   "metadata": {},
   "outputs": [],
   "source": []
  }
 ],
 "metadata": {
  "kernelspec": {
   "display_name": "Python 3",
   "language": "python",
   "name": "python3"
  },
  "language_info": {
   "codemirror_mode": {
    "name": "ipython",
    "version": 3
   },
   "file_extension": ".py",
   "mimetype": "text/x-python",
   "name": "python",
   "nbconvert_exporter": "python",
   "pygments_lexer": "ipython3",
   "version": "3.7.9"
  },
  "toc": {
   "base_numbering": 1,
   "nav_menu": {},
   "number_sections": true,
   "sideBar": true,
   "skip_h1_title": false,
   "title_cell": "Table of Contents",
   "title_sidebar": "Contents",
   "toc_cell": false,
   "toc_position": {},
   "toc_section_display": true,
   "toc_window_display": false
  },
  "varInspector": {
   "cols": {
    "lenName": 16,
    "lenType": 16,
    "lenVar": 40
   },
   "kernels_config": {
    "python": {
     "delete_cmd_postfix": "",
     "delete_cmd_prefix": "del ",
     "library": "var_list.py",
     "varRefreshCmd": "print(var_dic_list())"
    },
    "r": {
     "delete_cmd_postfix": ") ",
     "delete_cmd_prefix": "rm(",
     "library": "var_list.r",
     "varRefreshCmd": "cat(var_dic_list()) "
    }
   },
   "types_to_exclude": [
    "module",
    "function",
    "builtin_function_or_method",
    "instance",
    "_Feature"
   ],
   "window_display": false
  }
 },
 "nbformat": 4,
 "nbformat_minor": 5
}
