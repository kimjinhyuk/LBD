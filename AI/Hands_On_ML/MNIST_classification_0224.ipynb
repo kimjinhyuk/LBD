{
 "cells": [
  {
   "cell_type": "code",
   "execution_count": 1,
   "id": "married-compression",
   "metadata": {
    "ExecuteTime": {
     "end_time": "2021-02-24T05:10:55.317438Z",
     "start_time": "2021-02-24T05:10:37.591273Z"
    }
   },
   "outputs": [
    {
     "data": {
      "text/plain": [
       "dict_keys(['data', 'target', 'frame', 'feature_names', 'target_names', 'DESCR', 'details', 'categories', 'url'])"
      ]
     },
     "execution_count": 1,
     "metadata": {},
     "output_type": "execute_result"
    }
   ],
   "source": [
    "#데이터셋을 설명하는 DESCR 키\n",
    "#샘플이 하나의 행, 특성이 하나의 열로 구성된 배열을 가진 data 키\n",
    "#레이블 배열을 담은 target 키\n",
    "from sklearn.datasets import fetch_openml\n",
    "import numpy as np\n",
    "mnist = fetch_openml('mnist_784', version=1)\n",
    "mnist.keys()"
   ]
  },
  {
   "cell_type": "code",
   "execution_count": 3,
   "id": "regular-issue",
   "metadata": {
    "ExecuteTime": {
     "end_time": "2021-02-24T05:12:40.054593Z",
     "start_time": "2021-02-24T05:12:40.046192Z"
    }
   },
   "outputs": [
    {
     "data": {
      "text/plain": [
       "(70000,)"
      ]
     },
     "execution_count": 3,
     "metadata": {},
     "output_type": "execute_result"
    }
   ],
   "source": [
    "X, y = mnist[\"data\"], mnist[\"target\"]\n",
    "X.shape\n",
    "y.shape"
   ]
  },
  {
   "cell_type": "code",
   "execution_count": 4,
   "id": "proof-mapping",
   "metadata": {
    "ExecuteTime": {
     "end_time": "2021-02-24T05:15:23.673854Z",
     "start_time": "2021-02-24T05:15:23.405552Z"
    }
   },
   "outputs": [
    {
     "data": {
      "image/png": "[encoded data removed]",
      "text/plain": [
       "<Figure size 432x288 with 1 Axes>"
      ]
     },
     "metadata": {
      "needs_background": "light"
     },
     "output_type": "display_data"
    }
   ],
   "source": [
    "import matplotlib as mpl\n",
    "import matplotlib.pyplot as plt\n",
    "\n",
    "some_digit = X[0]\n",
    "some_digit_image = some_digit.reshape(28,28)\n",
    "\n",
    "plt.imshow(some_digit_image, cmap=\"binary\")\n",
    "plt.axis(\"off\")\n",
    "plt.show()"
   ]
  },
  {
   "cell_type": "code",
   "execution_count": 5,
   "id": "local-treat",
   "metadata": {
    "ExecuteTime": {
     "end_time": "2021-02-24T05:15:59.085579Z",
     "start_time": "2021-02-24T05:15:59.079278Z"
    }
   },
   "outputs": [
    {
     "data": {
      "text/plain": [
       "'5'"
      ]
     },
     "execution_count": 5,
     "metadata": {},
     "output_type": "execute_result"
    }
   ],
   "source": [
    "y[0]"
   ]
  },
  {
   "cell_type": "code",
   "execution_count": 6,
   "id": "initial-seminar",
   "metadata": {
    "ExecuteTime": {
     "end_time": "2021-02-24T05:16:22.927037Z",
     "start_time": "2021-02-24T05:16:22.913085Z"
    }
   },
   "outputs": [],
   "source": [
    "y = y.astype(np.uint8)"
   ]
  },
  {
   "cell_type": "code",
   "execution_count": 7,
   "id": "difficult-lying",
   "metadata": {
    "ExecuteTime": {
     "end_time": "2021-02-24T05:27:48.866209Z",
     "start_time": "2021-02-24T05:27:48.854644Z"
    }
   },
   "outputs": [],
   "source": [
    "X_train, X_test, y_train, y_test = X[:60000], X[60000:], y[:60000], y[60000:]"
   ]
  },
  {
   "cell_type": "code",
   "execution_count": 8,
   "id": "functional-maker",
   "metadata": {
    "ExecuteTime": {
     "end_time": "2021-02-24T05:27:58.276248Z",
     "start_time": "2021-02-24T05:27:58.272611Z"
    }
   },
   "outputs": [],
   "source": [
    "#5는 True이고 나머지 False\n",
    "y_train_5 = (y_train == 5)\n",
    "y_test_5 = (y_test == 5)"
   ]
  },
  {
   "cell_type": "code",
   "execution_count": 9,
   "id": "linear-jenny",
   "metadata": {
    "ExecuteTime": {
     "end_time": "2021-02-24T05:28:33.334491Z",
     "start_time": "2021-02-24T05:28:18.884335Z"
    }
   },
   "outputs": [
    {
     "data": {
      "text/plain": [
       "SGDClassifier(alpha=0.0001, average=False, class_weight=None,\n",
       "              early_stopping=False, epsilon=0.1, eta0=0.0, fit_intercept=True,\n",
       "              l1_ratio=0.15, learning_rate='optimal', loss='hinge',\n",
       "              max_iter=1000, n_iter_no_change=5, n_jobs=None, penalty='l2',\n",
       "              power_t=0.5, random_state=42, shuffle=True, tol=0.001,\n",
       "              validation_fraction=0.1, verbose=0, warm_start=False)"
      ]
     },
     "execution_count": 9,
     "metadata": {},
     "output_type": "execute_result"
    }
   ],
   "source": [
    "from sklearn.linear_model import SGDClassifier\n",
    "\n",
    "sgd_clf = SGDClassifier(random_state=42)\n",
    "sgd_clf.fit(X_train, y_train_5)"
   ]
  },
  {
   "cell_type": "code",
   "execution_count": 10,
   "id": "sudden-fault",
   "metadata": {
    "ExecuteTime": {
     "end_time": "2021-02-24T05:31:31.159948Z",
     "start_time": "2021-02-24T05:31:31.154034Z"
    }
   },
   "outputs": [
    {
     "data": {
      "text/plain": [
       "array([ True])"
      ]
     },
     "execution_count": 10,
     "metadata": {},
     "output_type": "execute_result"
    }
   ],
   "source": [
    "sgd_clf.predict([some_digit])"
   ]
  },
  {
   "cell_type": "code",
   "execution_count": 13,
   "id": "sustained-inspector",
   "metadata": {},
   "outputs": [
    {
     "data": {
      "text/plain": [
       "SGDClassifier(alpha=0.0001, average=False, class_weight=None,\n",
       "              early_stopping=False, epsilon=0.1, eta0=0.0, fit_intercept=True,\n",
       "              l1_ratio=0.15, learning_rate='optimal', loss='hinge',\n",
       "              max_iter=1000, n_iter_no_change=5, n_jobs=None, penalty='l2',\n",
       "              power_t=0.5, random_state=42, shuffle=True, tol=0.001,\n",
       "              validation_fraction=0.1, verbose=0, warm_start=False)"
      ]
     },
     "execution_count": 13,
     "metadata": {},
     "output_type": "execute_result"
    }
   ],
   "source": [
    "#분류기의 성능 평가는 회귀 모델보다 어렵기 때문에 확실한 이해가 필요!!"
   ]
  },
  {
   "cell_type": "code",
   "execution_count": 11,
   "id": "grave-arrest",
   "metadata": {
    "ExecuteTime": {
     "end_time": "2021-02-24T05:46:33.476164Z",
     "start_time": "2021-02-24T05:46:10.229072Z"
    }
   },
   "outputs": [
    {
     "name": "stdout",
     "output_type": "stream",
     "text": [
      "0.9669\n",
      "0.91625\n",
      "0.96785\n"
     ]
    }
   ],
   "source": [
    "#교차 검증은 모델을 평가하는 좋은 방법\n",
    "#사이킷 런이 제공하는 기능보다 교차 검증 과정을 더 많이 제어해야할 필요가 있음. 이때는 교차 검증 기능을 직접 구현. \n",
    "#사이킷런의 cross_val_score() 와 동일한 결과를 출력\n",
    "from sklearn.model_selection import StratifiedKFold\n",
    "from sklearn.base import clone\n",
    "\n",
    "skfolds = StratifiedKFold(n_splits=3, random_state=42, shuffle=True)\n",
    "\n",
    "for train_index, test_index in skfolds.split(X_train, y_train_5):\n",
    "    clone_clf = clone(sgd_clf)\n",
    "    X_train_folds = X_train[train_index]\n",
    "    y_train_folds = y_train_5[train_index]\n",
    "    X_test_fold = X_train[test_index]\n",
    "    y_test_fold = y_train_5[test_index]\n",
    "    \n",
    "    clone_clf.fit(X_train_folds, y_train_folds)\n",
    "    y_pred = clone_clf.predict(X_test_fold)\n",
    "    n_correct = sum(y_pred == y_test_fold)\n",
    "    print(n_correct / len(y_pred))\n"
   ]
  },
  {
   "cell_type": "code",
   "execution_count": 12,
   "id": "neutral-machinery",
   "metadata": {
    "ExecuteTime": {
     "end_time": "2021-02-24T05:50:08.191223Z",
     "start_time": "2021-02-24T05:49:48.788261Z"
    }
   },
   "outputs": [
    {
     "data": {
      "text/plain": [
       "array([0.95035, 0.96035, 0.9604 ])"
      ]
     },
     "execution_count": 12,
     "metadata": {},
     "output_type": "execute_result"
    }
   ],
   "source": [
    "from sklearn.model_selection import cross_val_score\n",
    "cross_val_score(sgd_clf, X_train, y_train_5, cv=3, scoring=\"accuracy\")"
   ]
  },
  {
   "cell_type": "code",
   "execution_count": 13,
   "id": "consolidated-platform",
   "metadata": {
    "ExecuteTime": {
     "end_time": "2021-02-24T05:51:05.188820Z",
     "start_time": "2021-02-24T05:51:05.180960Z"
    }
   },
   "outputs": [],
   "source": [
    "from sklearn.base import BaseEstimator\n",
    "\n",
    "class Never5Classifier(BaseEstimator):\n",
    "    def fit(self, X, y=None):\n",
    "        return self\n",
    "    def predict(self, X):\n",
    "        return np.zeros((len(X),1), dtype=bool)"
   ]
  },
  {
   "cell_type": "code",
   "execution_count": 14,
   "id": "humanitarian-consideration",
   "metadata": {
    "ExecuteTime": {
     "end_time": "2021-02-24T05:51:17.747180Z",
     "start_time": "2021-02-24T05:51:17.741849Z"
    }
   },
   "outputs": [],
   "source": [
    "never_5_clf = Never5Classifier()"
   ]
  },
  {
   "cell_type": "code",
   "execution_count": 15,
   "id": "secret-monte",
   "metadata": {
    "ExecuteTime": {
     "end_time": "2021-02-24T05:51:26.186325Z",
     "start_time": "2021-02-24T05:51:25.837978Z"
    }
   },
   "outputs": [
    {
     "data": {
      "text/plain": [
       "array([0.91125, 0.90855, 0.90915])"
      ]
     },
     "execution_count": 15,
     "metadata": {},
     "output_type": "execute_result"
    }
   ],
   "source": [
    "cross_val_score(never_5_clf, X_train, y_train_5, cv=3, scoring=\"accuracy\")"
   ]
  },
  {
   "cell_type": "code",
   "execution_count": null,
   "id": "deluxe-cowboy",
   "metadata": {},
   "outputs": [],
   "source": [
    "#분류기의 성능을 평가하는 더 좋은 방법 confusion matrix"
   ]
  },
  {
   "cell_type": "code",
   "execution_count": 16,
   "id": "selected-surgery",
   "metadata": {
    "ExecuteTime": {
     "end_time": "2021-02-24T05:54:10.917906Z",
     "start_time": "2021-02-24T05:53:52.140028Z"
    }
   },
   "outputs": [],
   "source": [
    "from sklearn.model_selection import cross_val_predict\n",
    "y_train_pred = cross_val_predict(sgd_clf,X_train, y_train_5,cv=3)"
   ]
  },
  {
   "cell_type": "code",
   "execution_count": 17,
   "id": "checked-listing",
   "metadata": {
    "ExecuteTime": {
     "end_time": "2021-02-24T05:54:27.672657Z",
     "start_time": "2021-02-24T05:54:27.669463Z"
    }
   },
   "outputs": [],
   "source": [
    "from sklearn.metrics import confusion_matrix"
   ]
  },
  {
   "cell_type": "code",
   "execution_count": 23,
   "id": "sensitive-import",
   "metadata": {
    "ExecuteTime": {
     "end_time": "2021-02-24T06:25:55.208220Z",
     "start_time": "2021-02-24T06:25:55.156937Z"
    }
   },
   "outputs": [
    {
     "data": {
      "text/plain": [
       "array([[53892,   687],\n",
       "       [ 1891,  3530]])"
      ]
     },
     "execution_count": 23,
     "metadata": {},
     "output_type": "execute_result"
    }
   ],
   "source": [
    "confusion_matrix(y_train_5, y_train_pred)"
   ]
  },
  {
   "cell_type": "code",
   "execution_count": 41,
   "id": "stretch-morning",
   "metadata": {
    "ExecuteTime": {
     "end_time": "2021-02-24T06:59:07.602187Z",
     "start_time": "2021-02-24T06:59:07.550078Z"
    }
   },
   "outputs": [
    {
     "data": {
      "text/plain": [
       "array([[54579,     0],\n",
       "       [    0,  5421]])"
      ]
     },
     "execution_count": 41,
     "metadata": {},
     "output_type": "execute_result"
    }
   ],
   "source": [
    "y_train_perfect_predictions = y_train_5  # 완변한척 하자\n",
    "confusion_matrix(y_train_5, y_train_perfect_predictions)"
   ]
  },
  {
   "cell_type": "code",
   "execution_count": 19,
   "id": "homeless-surrey",
   "metadata": {
    "ExecuteTime": {
     "end_time": "2021-02-24T06:07:02.501335Z",
     "start_time": "2021-02-24T06:07:02.495140Z"
    }
   },
   "outputs": [],
   "source": [
    "#양성 예측의 정확도 = 정밀도(precision) TP/TP+FP\n",
    "# 재현율(recall) = TP / TP_FN\n",
    "# 민감도(sensitivity)\n",
    "# 정밀도와 재현율을 계산하는 함수들\n",
    "from sklearn.metrics import precision_score, recall_score"
   ]
  },
  {
   "cell_type": "code",
   "execution_count": 21,
   "id": "amazing-spider",
   "metadata": {
    "ExecuteTime": {
     "end_time": "2021-02-24T06:10:21.245688Z",
     "start_time": "2021-02-24T06:10:21.209564Z"
    }
   },
   "outputs": [
    {
     "data": {
      "text/plain": [
       "0.8370879772350012"
      ]
     },
     "execution_count": 21,
     "metadata": {},
     "output_type": "execute_result"
    }
   ],
   "source": [
    "precision_score(y_train_5, y_train_pred)"
   ]
  },
  {
   "cell_type": "code",
   "execution_count": 42,
   "id": "olympic-carolina",
   "metadata": {
    "ExecuteTime": {
     "end_time": "2021-02-24T06:59:47.713223Z",
     "start_time": "2021-02-24T06:59:47.660548Z"
    }
   },
   "outputs": [
    {
     "data": {
      "text/plain": [
       "0.8370879772350012"
      ]
     },
     "execution_count": 42,
     "metadata": {},
     "output_type": "execute_result"
    }
   ],
   "source": [
    "cm = confusion_matrix(y_train_5, y_train_pred)\n",
    "cm[1, 1] / (cm[0, 1] + cm[1, 1])"
   ]
  },
  {
   "cell_type": "code",
   "execution_count": 22,
   "id": "present-scoop",
   "metadata": {
    "ExecuteTime": {
     "end_time": "2021-02-24T06:11:25.384732Z",
     "start_time": "2021-02-24T06:11:25.352088Z"
    }
   },
   "outputs": [
    {
     "data": {
      "text/plain": [
       "0.6511713705958311"
      ]
     },
     "execution_count": 22,
     "metadata": {},
     "output_type": "execute_result"
    }
   ],
   "source": [
    "recall_score(y_train_5, y_train_pred)"
   ]
  },
  {
   "cell_type": "code",
   "execution_count": 43,
   "id": "extended-custom",
   "metadata": {
    "ExecuteTime": {
     "end_time": "2021-02-24T07:00:14.534803Z",
     "start_time": "2021-02-24T07:00:14.528061Z"
    }
   },
   "outputs": [
    {
     "data": {
      "text/plain": [
       "0.6511713705958311"
      ]
     },
     "execution_count": 43,
     "metadata": {},
     "output_type": "execute_result"
    }
   ],
   "source": [
    "cm[1, 1] / (cm[1, 0] + cm[1, 1])"
   ]
  },
  {
   "cell_type": "code",
   "execution_count": 24,
   "id": "enhanced-macro",
   "metadata": {
    "ExecuteTime": {
     "end_time": "2021-02-24T06:40:42.755790Z",
     "start_time": "2021-02-24T06:40:42.724000Z"
    }
   },
   "outputs": [
    {
     "data": {
      "text/plain": [
       "0.7325171197343846"
      ]
     },
     "execution_count": 24,
     "metadata": {},
     "output_type": "execute_result"
    }
   ],
   "source": [
    "#F1 score\n",
    "from sklearn.metrics import f1_score\n",
    "f1_score(y_train_5,y_train_pred)"
   ]
  },
  {
   "cell_type": "code",
   "execution_count": 47,
   "id": "consecutive-temperature",
   "metadata": {
    "ExecuteTime": {
     "end_time": "2021-02-24T07:01:32.338981Z",
     "start_time": "2021-02-24T07:01:32.330741Z"
    }
   },
   "outputs": [
    {
     "data": {
      "text/plain": [
       "array([2164.22030239])"
      ]
     },
     "execution_count": 47,
     "metadata": {},
     "output_type": "execute_result"
    }
   ],
   "source": [
    "y_scores = sgd_clf.decision_function([some_digit])\n",
    "y_scores"
   ]
  },
  {
   "cell_type": "code",
   "execution_count": 48,
   "id": "comparative-estimate",
   "metadata": {
    "ExecuteTime": {
     "end_time": "2021-02-24T07:01:34.119663Z",
     "start_time": "2021-02-24T07:01:34.116580Z"
    }
   },
   "outputs": [],
   "source": [
    "threshold = 0\n",
    "y_some_digit_pred = (y_scores > threshold)"
   ]
  },
  {
   "cell_type": "code",
   "execution_count": 49,
   "id": "critical-advertising",
   "metadata": {
    "ExecuteTime": {
     "end_time": "2021-02-24T07:01:35.908702Z",
     "start_time": "2021-02-24T07:01:35.903654Z"
    }
   },
   "outputs": [
    {
     "data": {
      "text/plain": [
       "array([ True])"
      ]
     },
     "execution_count": 49,
     "metadata": {},
     "output_type": "execute_result"
    }
   ],
   "source": [
    "y_some_digit_pred"
   ]
  },
  {
   "cell_type": "code",
   "execution_count": 37,
   "id": "provincial-poverty",
   "metadata": {
    "ExecuteTime": {
     "end_time": "2021-02-24T06:53:39.792957Z",
     "start_time": "2021-02-24T06:53:39.786580Z"
    }
   },
   "outputs": [
    {
     "data": {
      "text/plain": [
       "array([False, False, False, ...,  True, False, False])"
      ]
     },
     "execution_count": 37,
     "metadata": {},
     "output_type": "execute_result"
    }
   ],
   "source": [
    "threshold = 8000\n",
    "y_some_digit_pred = (y_scores > threshold)\n",
    "y_some_digit_pred"
   ]
  },
  {
   "cell_type": "code",
   "execution_count": 38,
   "id": "connected-pledge",
   "metadata": {
    "ExecuteTime": {
     "end_time": "2021-02-24T06:54:15.631382Z",
     "start_time": "2021-02-24T06:53:56.860626Z"
    }
   },
   "outputs": [],
   "source": [
    "y_scores = cross_val_predict(sgd_clf, X_train, y_train_5, cv=3, method=\"decision_function\")"
   ]
  },
  {
   "cell_type": "code",
   "execution_count": 39,
   "id": "difficult-cookie",
   "metadata": {
    "ExecuteTime": {
     "end_time": "2021-02-24T06:54:16.832428Z",
     "start_time": "2021-02-24T06:54:16.806402Z"
    }
   },
   "outputs": [],
   "source": [
    "from sklearn.metrics import precision_recall_curve\n",
    "precisions, recalls, thresholds = precision_recall_curve(y_train_5, y_scores)"
   ]
  },
  {
   "cell_type": "code",
   "execution_count": 40,
   "id": "strategic-documentary",
   "metadata": {
    "ExecuteTime": {
     "end_time": "2021-02-24T06:54:19.358463Z",
     "start_time": "2021-02-24T06:54:19.236989Z"
    }
   },
   "outputs": [
    {
     "data": {
      "image/png": "[encoded data removed]",
      "text/plain": [
       "<Figure size 432x288 with 1 Axes>"
      ]
     },
     "metadata": {},
     "output_type": "display_data"
    }
   ],
   "source": [
    "def plot_precision_recall_vs_threshold(precisions, recalls, thresholds):\n",
    "    plt.plot(thresholds, precisions[:-1], \"b--\", label=\"정밀도\")\n",
    "    plt.plot(thresholds, recalls[:-1], \"g-\", label=\"재현율\")\n",
    "    [...] #임계값을 표시, 범례, 축 이름, 그리드 추가\n",
    "\n",
    "plot_precision_recall_vs_threshold(precisions, recalls, thresholds)\n",
    "plt.style.use('ggplot')\n",
    "plt.show()"
   ]
  },
  {
   "cell_type": "code",
   "execution_count": null,
   "id": "illegal-nickel",
   "metadata": {},
   "outputs": [],
   "source": []
  },
  {
   "cell_type": "code",
   "execution_count": null,
   "id": "consecutive-sierra",
   "metadata": {},
   "outputs": [],
   "source": []
  }
 ],
 "metadata": {
  "kernelspec": {
   "display_name": "Python 3",
   "language": "python",
   "name": "python3"
  },
  "language_info": {
   "codemirror_mode": {
    "name": "ipython",
    "version": 3
   },
   "file_extension": ".py",
   "mimetype": "text/x-python",
   "name": "python",
   "nbconvert_exporter": "python",
   "pygments_lexer": "ipython3",
   "version": "3.7.9"
  },
  "toc": {
   "base_numbering": 1,
   "nav_menu": {},
   "number_sections": true,
   "sideBar": true,
   "skip_h1_title": false,
   "title_cell": "Table of Contents",
   "title_sidebar": "Contents",
   "toc_cell": false,
   "toc_position": {},
   "toc_section_display": true,
   "toc_window_display": false
  },
  "varInspector": {
   "cols": {
    "lenName": 16,
    "lenType": 16,
    "lenVar": 40
   },
   "kernels_config": {
    "python": {
     "delete_cmd_postfix": "",
     "delete_cmd_prefix": "del ",
     "library": "var_list.py",
     "varRefreshCmd": "print(var_dic_list())"
    },
    "r": {
     "delete_cmd_postfix": ") ",
     "delete_cmd_prefix": "rm(",
     "library": "var_list.r",
     "varRefreshCmd": "cat(var_dic_list()) "
    }
   },
   "types_to_exclude": [
    "module",
    "function",
    "builtin_function_or_method",
    "instance",
    "_Feature"
   ],
   "window_display": false
  }
 },
 "nbformat": 4,
 "nbformat_minor": 5
}
