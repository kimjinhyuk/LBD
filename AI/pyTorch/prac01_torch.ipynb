{
 "cells": [
  {
   "cell_type": "code",
   "execution_count": 1,
   "id": "turned-terrorist",
   "metadata": {},
   "outputs": [],
   "source": [
    "# Torch : the torch package contains data structures for multi-dimensional tensors\n",
    "#         and mathematical operations over these are defined."
   ]
  },
  {
   "cell_type": "code",
   "execution_count": null,
   "id": "catholic-boring",
   "metadata": {},
   "outputs": [],
   "source": [
    "# 1. 텐서 생성방법\n",
    "# 2. 텐서 연산방법\n",
    "# 3. 텐서 사이즈 변환\n",
    "# 4. 텐서 인덱싱 하는 방법\n",
    "# 5. 텐서 스칼라 값을 뽑아 내는 방법"
   ]
  },
  {
   "cell_type": "code",
   "execution_count": 2,
   "id": "mechanical-calvin",
   "metadata": {},
   "outputs": [],
   "source": [
    "import torch\n",
    "import numpy as np"
   ]
  },
  {
   "cell_type": "code",
   "execution_count": 4,
   "id": "devoted-franklin",
   "metadata": {},
   "outputs": [
    {
     "data": {
      "text/plain": [
       "tensor([[3.0473e-36, 4.5822e-41, 3.0473e-36, 4.5822e-41],\n",
       "        [7.7234e-38, 4.5822e-41, 1.4442e-38, 0.0000e+00],\n",
       "        [1.4442e-38, 0.0000e+00, 1.5294e-38, 0.0000e+00],\n",
       "        [1.5294e-38, 0.0000e+00, 1.5295e-38, 0.0000e+00],\n",
       "        [1.5295e-38, 0.0000e+00, 1.5295e-38, 0.0000e+00]])"
      ]
     },
     "execution_count": 4,
     "metadata": {},
     "output_type": "execute_result"
    }
   ],
   "source": [
    "x = torch.empty(5,4)\n",
    "x"
   ]
  },
  {
   "cell_type": "code",
   "execution_count": 5,
   "id": "expressed-retail",
   "metadata": {},
   "outputs": [
    {
     "data": {
      "text/plain": [
       "tensor([[1., 1., 1.],\n",
       "        [1., 1., 1.],\n",
       "        [1., 1., 1.]])"
      ]
     },
     "execution_count": 5,
     "metadata": {},
     "output_type": "execute_result"
    }
   ],
   "source": [
    "torch.ones(3,3)"
   ]
  },
  {
   "cell_type": "code",
   "execution_count": 6,
   "id": "monetary-disposition",
   "metadata": {},
   "outputs": [
    {
     "data": {
      "text/plain": [
       "tensor([0., 0.])"
      ]
     },
     "execution_count": 6,
     "metadata": {},
     "output_type": "execute_result"
    }
   ],
   "source": [
    "torch.zeros(2)"
   ]
  },
  {
   "cell_type": "code",
   "execution_count": 7,
   "id": "unknown-coalition",
   "metadata": {},
   "outputs": [
    {
     "data": {
      "text/plain": [
       "tensor([[0.3649, 0.1946, 0.2230, 0.9656, 0.5783, 0.2601],\n",
       "        [0.3518, 0.2814, 0.7714, 0.3715, 0.7556, 0.9072],\n",
       "        [0.3872, 0.2418, 0.6350, 0.3503, 0.8072, 0.6375],\n",
       "        [0.9774, 0.4556, 0.2184, 0.3298, 0.9664, 0.7551],\n",
       "        [0.3353, 0.6401, 0.6342, 0.1082, 0.2460, 0.5385]])"
      ]
     },
     "execution_count": 7,
     "metadata": {},
     "output_type": "execute_result"
    }
   ],
   "source": [
    "torch.rand(5,6)"
   ]
  },
  {
   "cell_type": "code",
   "execution_count": 8,
   "id": "appointed-employment",
   "metadata": {},
   "outputs": [],
   "source": [
    "l = [13,4]\n",
    "r = np.array([4,56,7])"
   ]
  },
  {
   "cell_type": "code",
   "execution_count": 9,
   "id": "helpful-priest",
   "metadata": {},
   "outputs": [
    {
     "data": {
      "text/plain": [
       "tensor([13,  4])"
      ]
     },
     "execution_count": 9,
     "metadata": {},
     "output_type": "execute_result"
    }
   ],
   "source": [
    "torch.tensor(l)"
   ]
  },
  {
   "cell_type": "code",
   "execution_count": 10,
   "id": "occupied-nickel",
   "metadata": {},
   "outputs": [
    {
     "data": {
      "text/plain": [
       "tensor([ 4, 56,  7])"
      ]
     },
     "execution_count": 10,
     "metadata": {},
     "output_type": "execute_result"
    }
   ],
   "source": [
    "torch.tensor(r)"
   ]
  },
  {
   "cell_type": "code",
   "execution_count": 11,
   "id": "closed-brown",
   "metadata": {},
   "outputs": [
    {
     "data": {
      "text/plain": [
       "torch.Size([5, 4])"
      ]
     },
     "execution_count": 11,
     "metadata": {},
     "output_type": "execute_result"
    }
   ],
   "source": [
    "x.size()"
   ]
  },
  {
   "cell_type": "code",
   "execution_count": 12,
   "id": "patent-assessment",
   "metadata": {},
   "outputs": [
    {
     "data": {
      "text/plain": [
       "torch.Tensor"
      ]
     },
     "execution_count": 12,
     "metadata": {},
     "output_type": "execute_result"
    }
   ],
   "source": [
    "type(x)"
   ]
  },
  {
   "cell_type": "code",
   "execution_count": 13,
   "id": "younger-vessel",
   "metadata": {},
   "outputs": [
    {
     "name": "stdout",
     "output_type": "stream",
     "text": [
      "tensor([[0.1262, 0.3923],\n",
      "        [0.3623, 0.6540]])\n",
      "tensor([[0.5973, 0.4589],\n",
      "        [0.6441, 0.1018]])\n"
     ]
    }
   ],
   "source": [
    "x = torch.rand(2,2)\n",
    "y = torch.rand(2,2)\n",
    "print(x)\n",
    "print(y)"
   ]
  },
  {
   "cell_type": "code",
   "execution_count": 14,
   "id": "conservative-concept",
   "metadata": {},
   "outputs": [
    {
     "data": {
      "text/plain": [
       "tensor([[0.7235, 0.8512],\n",
       "        [1.0064, 0.7558]])"
      ]
     },
     "execution_count": 14,
     "metadata": {},
     "output_type": "execute_result"
    }
   ],
   "source": [
    "x+y"
   ]
  },
  {
   "cell_type": "code",
   "execution_count": 15,
   "id": "technical-uniform",
   "metadata": {},
   "outputs": [
    {
     "data": {
      "text/plain": [
       "tensor([[0.7235, 0.8512],\n",
       "        [1.0064, 0.7558]])"
      ]
     },
     "execution_count": 15,
     "metadata": {},
     "output_type": "execute_result"
    }
   ],
   "source": [
    "torch.add(x,y)"
   ]
  },
  {
   "cell_type": "code",
   "execution_count": 17,
   "id": "macro-duplicate",
   "metadata": {},
   "outputs": [
    {
     "data": {
      "text/plain": [
       "tensor([[0.7235, 0.8512],\n",
       "        [1.0064, 0.7558]])"
      ]
     },
     "execution_count": 17,
     "metadata": {},
     "output_type": "execute_result"
    }
   ],
   "source": [
    "y.add(x)"
   ]
  },
  {
   "cell_type": "code",
   "execution_count": 18,
   "id": "hawaiian-albuquerque",
   "metadata": {},
   "outputs": [
    {
     "data": {
      "text/plain": [
       "tensor([[0.7235, 0.8512],\n",
       "        [1.0064, 0.7558]])"
      ]
     },
     "execution_count": 18,
     "metadata": {},
     "output_type": "execute_result"
    }
   ],
   "source": [
    "#inplace 방식 엑스를 더해서 y를 대체함\n",
    "y.add_(x)"
   ]
  },
  {
   "cell_type": "code",
   "execution_count": 19,
   "id": "saved-happening",
   "metadata": {},
   "outputs": [
    {
     "data": {
      "text/plain": [
       "tensor([[0.7235, 0.8512],\n",
       "        [1.0064, 0.7558]])"
      ]
     },
     "execution_count": 19,
     "metadata": {},
     "output_type": "execute_result"
    }
   ],
   "source": [
    "y"
   ]
  },
  {
   "cell_type": "code",
   "execution_count": 21,
   "id": "answering-shock",
   "metadata": {},
   "outputs": [
    {
     "data": {
      "text/plain": [
       "tensor([0.8512, 0.7558])"
      ]
     },
     "execution_count": 21,
     "metadata": {},
     "output_type": "execute_result"
    }
   ],
   "source": [
    "y[:,1]"
   ]
  },
  {
   "cell_type": "code",
   "execution_count": 23,
   "id": "cellular-pittsburgh",
   "metadata": {},
   "outputs": [
    {
     "data": {
      "text/plain": [
       "tensor([[0.0423, 0.1629, 0.1513, 0.7144, 0.6563, 0.1670, 0.0828, 0.1118],\n",
       "        [0.9080, 0.5624, 0.8584, 0.5756, 0.6822, 0.1305, 0.2561, 0.0229],\n",
       "        [0.3677, 0.7952, 0.0364, 0.2751, 0.8419, 0.3854, 0.8984, 0.3149],\n",
       "        [0.5566, 0.3171, 0.4026, 0.2615, 0.5146, 0.8528, 0.0707, 0.1707],\n",
       "        [0.1418, 0.8290, 0.3606, 0.9291, 0.8933, 0.2420, 0.5338, 0.8811],\n",
       "        [0.6783, 0.2770, 0.9642, 0.2494, 0.2535, 0.0651, 0.9376, 0.9118],\n",
       "        [0.5509, 0.7134, 0.7920, 0.0281, 0.6873, 0.6953, 0.5898, 0.7996],\n",
       "        [0.5308, 0.3497, 0.7283, 0.5023, 0.2146, 0.5470, 0.1931, 0.5231]])"
      ]
     },
     "execution_count": 23,
     "metadata": {},
     "output_type": "execute_result"
    }
   ],
   "source": [
    "x = torch.rand(8,8)\n",
    "x"
   ]
  },
  {
   "cell_type": "code",
   "execution_count": 25,
   "id": "vanilla-narrative",
   "metadata": {},
   "outputs": [
    {
     "data": {
      "text/plain": [
       "tensor([0.0423, 0.1629, 0.1513, 0.7144, 0.6563, 0.1670, 0.0828, 0.1118, 0.9080,\n",
       "        0.5624, 0.8584, 0.5756, 0.6822, 0.1305, 0.2561, 0.0229, 0.3677, 0.7952,\n",
       "        0.0364, 0.2751, 0.8419, 0.3854, 0.8984, 0.3149, 0.5566, 0.3171, 0.4026,\n",
       "        0.2615, 0.5146, 0.8528, 0.0707, 0.1707, 0.1418, 0.8290, 0.3606, 0.9291,\n",
       "        0.8933, 0.2420, 0.5338, 0.8811, 0.6783, 0.2770, 0.9642, 0.2494, 0.2535,\n",
       "        0.0651, 0.9376, 0.9118, 0.5509, 0.7134, 0.7920, 0.0281, 0.6873, 0.6953,\n",
       "        0.5898, 0.7996, 0.5308, 0.3497, 0.7283, 0.5023, 0.2146, 0.5470, 0.1931,\n",
       "        0.5231])"
      ]
     },
     "execution_count": 25,
     "metadata": {},
     "output_type": "execute_result"
    }
   ],
   "source": [
    "#1열로 변환\n",
    "# 사이즈 변환 -> CNN 컨볼류션 레이어 연산에서 풀리 커넥티드 레이어로 정사각형 레이어를 1열로 펴줄때 사용\n",
    "x.view(64)"
   ]
  },
  {
   "cell_type": "code",
   "execution_count": 27,
   "id": "jewish-screw",
   "metadata": {},
   "outputs": [
    {
     "data": {
      "text/plain": [
       "tensor([[0.0423, 0.1629, 0.1513, 0.7144, 0.6563, 0.1670, 0.0828, 0.1118, 0.9080,\n",
       "         0.5624, 0.8584, 0.5756, 0.6822, 0.1305, 0.2561, 0.0229],\n",
       "        [0.3677, 0.7952, 0.0364, 0.2751, 0.8419, 0.3854, 0.8984, 0.3149, 0.5566,\n",
       "         0.3171, 0.4026, 0.2615, 0.5146, 0.8528, 0.0707, 0.1707],\n",
       "        [0.1418, 0.8290, 0.3606, 0.9291, 0.8933, 0.2420, 0.5338, 0.8811, 0.6783,\n",
       "         0.2770, 0.9642, 0.2494, 0.2535, 0.0651, 0.9376, 0.9118],\n",
       "        [0.5509, 0.7134, 0.7920, 0.0281, 0.6873, 0.6953, 0.5898, 0.7996, 0.5308,\n",
       "         0.3497, 0.7283, 0.5023, 0.2146, 0.5470, 0.1931, 0.5231]])"
      ]
     },
     "execution_count": 27,
     "metadata": {},
     "output_type": "execute_result"
    }
   ],
   "source": [
    "# -1자주 사용되는 표현 나머지 것들이 고정되는 값이어야 함 16이 나누어지는지가 확인되어야 함\n",
    "x.view(-1,16)"
   ]
  },
  {
   "cell_type": "code",
   "execution_count": 29,
   "id": "alien-advance",
   "metadata": {},
   "outputs": [
    {
     "data": {
      "text/plain": [
       "numpy.ndarray"
      ]
     },
     "execution_count": 29,
     "metadata": {},
     "output_type": "execute_result"
    }
   ],
   "source": [
    "#tensor 에서 넘파이로 넘어가는 것\n",
    "# type(y)\n",
    "y = x.numpy()\n",
    "type(y)"
   ]
  },
  {
   "cell_type": "code",
   "execution_count": 31,
   "id": "sufficient-protest",
   "metadata": {},
   "outputs": [],
   "source": [
    "x = torch.ones(1)"
   ]
  },
  {
   "cell_type": "code",
   "execution_count": 32,
   "id": "intellectual-gross",
   "metadata": {},
   "outputs": [
    {
     "data": {
      "text/plain": [
       "1.0"
      ]
     },
     "execution_count": 32,
     "metadata": {},
     "output_type": "execute_result"
    }
   ],
   "source": [
    "#tensor 안에 값을 추출하려면은 item\n",
    "x.item()"
   ]
  },
  {
   "cell_type": "code",
   "execution_count": null,
   "id": "varied-indie",
   "metadata": {},
   "outputs": [],
   "source": []
  }
 ],
 "metadata": {
  "kernelspec": {
   "display_name": "Python 3",
   "language": "python",
   "name": "python3"
  },
  "language_info": {
   "codemirror_mode": {
    "name": "ipython",
    "version": 3
   },
   "file_extension": ".py",
   "mimetype": "text/x-python",
   "name": "python",
   "nbconvert_exporter": "python",
   "pygments_lexer": "ipython3",
   "version": "3.6.9"
  }
 },
 "nbformat": 4,
 "nbformat_minor": 5
}
