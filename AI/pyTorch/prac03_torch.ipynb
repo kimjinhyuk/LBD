{
 "cells": [
  {
   "cell_type": "markdown",
   "id": "fitting-planet",
   "metadata": {},
   "source": [
    "### 1. 파이토치 제공 데이터 사용\n"
   ]
  },
  {
   "cell_type": "code",
   "execution_count": 1,
   "id": "chronic-miniature",
   "metadata": {},
   "outputs": [],
   "source": [
    "import torch\n",
    "import torchvision\n",
    "import torchvision.transforms as tr\n",
    "from torch.utils.data import DataLoader, Dataset\n",
    "import numpy as np"
   ]
  },
  {
   "cell_type": "code",
   "execution_count": 3,
   "id": "periodic-affiliation",
   "metadata": {},
   "outputs": [
    {
     "name": "stdout",
     "output_type": "stream",
     "text": [
      "/home/nine/mdl_env\r\n"
     ]
    }
   ],
   "source": [
    "!pwd"
   ]
  },
  {
   "cell_type": "code",
   "execution_count": 4,
   "id": "naughty-diamond",
   "metadata": {},
   "outputs": [],
   "source": [
    "transf = tr.Compose([tr.Resize(8),tr.ToTensor()])\n",
    "# Transforms on PIL Image\n",
    "# Pad, Grayscale, RandomCrop, Normalize ..\n",
    "# Transforms on torch.*Tensor - tensor image\n",
    "# torchvision.transforms.ToPILImage(mode=None)\n",
    "# ..."
   ]
  },
  {
   "cell_type": "code",
   "execution_count": 5,
   "id": "cheap-coach",
   "metadata": {},
   "outputs": [
    {
     "name": "stdout",
     "output_type": "stream",
     "text": [
      "Downloading https://www.cs.toronto.edu/~kriz/cifar-10-python.tar.gz to ./datasets/cifar-10-python.tar.gz\n"
     ]
    },
    {
     "data": {
      "application/vnd.jupyter.widget-view+json": {
       "model_id": "a43d880f1b4d4da5b6f8a4e44ecee82c",
       "version_major": 2,
       "version_minor": 0
      },
      "text/plain": [
       "0it [00:00, ?it/s]"
      ]
     },
     "metadata": {},
     "output_type": "display_data"
    },
    {
     "name": "stdout",
     "output_type": "stream",
     "text": [
      "Extracting ./datasets/cifar-10-python.tar.gz to ./datasets\n",
      "Files already downloaded and verified\n"
     ]
    }
   ],
   "source": [
    "#transform=transf 전처리\n",
    "trainset = torchvision.datasets.CIFAR10(root='./datasets', train=True, download=True, transform=transf)\n",
    "testset = torchvision.datasets.CIFAR10(root='./datasets', train=False, download=True, transform=transf)"
   ]
  },
  {
   "cell_type": "code",
   "execution_count": 6,
   "id": "intensive-manhattan",
   "metadata": {},
   "outputs": [
    {
     "data": {
      "text/plain": [
       "torch.Size([3, 8, 8])"
      ]
     },
     "execution_count": 6,
     "metadata": {},
     "output_type": "execute_result"
    }
   ],
   "source": [
    "trainset[0][0].size() #토치에서는 채널수가 앞에 "
   ]
  },
  {
   "cell_type": "code",
   "execution_count": 7,
   "id": "acknowledged-covering",
   "metadata": {},
   "outputs": [],
   "source": [
    "trainloader = DataLoader(trainset, batch_size=50, shuffle=True, num_workers=2)\n",
    "testloader = DataLoader(testset, batch_size=50, shuffle=True, num_workers=2)"
   ]
  },
  {
   "cell_type": "code",
   "execution_count": 8,
   "id": "verbal-mother",
   "metadata": {},
   "outputs": [
    {
     "data": {
      "text/plain": [
       "1000"
      ]
     },
     "execution_count": 8,
     "metadata": {},
     "output_type": "execute_result"
    }
   ],
   "source": [
    "len(trainloader)"
   ]
  },
  {
   "cell_type": "code",
   "execution_count": 9,
   "id": "transparent-monitoring",
   "metadata": {},
   "outputs": [],
   "source": [
    "#trainloader에 실제값을 보고 싶을때\n",
    "dataiter = iter(trainloader)\n",
    "images, labels = dataiter.next()"
   ]
  },
  {
   "cell_type": "code",
   "execution_count": 10,
   "id": "bizarre-newport",
   "metadata": {},
   "outputs": [
    {
     "data": {
      "text/plain": [
       "torch.Size([50, 3, 8, 8])"
      ]
     },
     "execution_count": 10,
     "metadata": {},
     "output_type": "execute_result"
    }
   ],
   "source": [
    "images.size()\n",
    "#배치 사이즈 50개, 채널 수 3개, 이미지 8x8\n",
    "#항상 배치사이즈, 채널수, 이미지 사이즈"
   ]
  },
  {
   "cell_type": "markdown",
   "id": "banned-title",
   "metadata": {},
   "source": [
    "### 2. 같은 클래스 별 폴더 이미지 데이터 이용"
   ]
  },
  {
   "cell_type": "code",
   "execution_count": 14,
   "id": "laughing-conviction",
   "metadata": {},
   "outputs": [
    {
     "name": "stdout",
     "output_type": "stream",
     "text": [
      "3\n"
     ]
    }
   ],
   "source": [
    "# ./class/tiger ./class/lion\n",
    "transf = tr.Compose([tr.Resize(16), tr.ToTensor()])\n",
    "#클래스 안에 있는 이미지들을 알아서 서치 해서 각각의 다른 폴더에 대해서 레이블링을 자동으로 해주고\n",
    "#데이터 전체를 불러 오면서 레이블이 먹여지면서 전처리까지 할 수 있다\n",
    "trainset = torchvision.datasets.ImageFolder(root='./class', transform=transf)\n",
    "trainloader = DataLoader(trainset, batch_size=10, shuffle=False, num_workers=2)\n",
    "print(len(trainloader))"
   ]
  },
  {
   "cell_type": "code",
   "execution_count": 15,
   "id": "flexible-bennett",
   "metadata": {},
   "outputs": [
    {
     "data": {
      "text/plain": [
       "torch.Size([3, 24, 16])"
      ]
     },
     "execution_count": 15,
     "metadata": {},
     "output_type": "execute_result"
    }
   ],
   "source": [
    "trainset[0][0].size()"
   ]
  },
  {
   "cell_type": "markdown",
   "id": "italic-calibration",
   "metadata": {},
   "source": [
    "### 3. 개인 데이터 사용 (2 types)"
   ]
  },
  {
   "cell_type": "code",
   "execution_count": null,
   "id": "blessed-relations",
   "metadata": {},
   "outputs": [],
   "source": []
  }
 ],
 "metadata": {
  "kernelspec": {
   "display_name": "Python 3",
   "language": "python",
   "name": "python3"
  },
  "language_info": {
   "codemirror_mode": {
    "name": "ipython",
    "version": 3
   },
   "file_extension": ".py",
   "mimetype": "text/x-python",
   "name": "python",
   "nbconvert_exporter": "python",
   "pygments_lexer": "ipython3",
   "version": "3.6.9"
  }
 },
 "nbformat": 4,
 "nbformat_minor": 5
}
