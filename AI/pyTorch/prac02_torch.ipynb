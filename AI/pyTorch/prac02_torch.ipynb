{
 "cells": [
  {
   "cell_type": "code",
   "execution_count": 1,
   "id": "attached-journal",
   "metadata": {},
   "outputs": [],
   "source": [
    "# 파라미터를 업데이트 할때 마다 Descent method 에 미분값을 취하기 때문에 미분계산이 필요함"
   ]
  },
  {
   "cell_type": "code",
   "execution_count": 2,
   "id": "supported-professor",
   "metadata": {},
   "outputs": [],
   "source": [
    "import torch"
   ]
  },
  {
   "cell_type": "code",
   "execution_count": 3,
   "id": "excellent-antibody",
   "metadata": {},
   "outputs": [],
   "source": [
    "# default는 False\n",
    "x = torch.ones(2,2, requires_grad=True)"
   ]
  },
  {
   "cell_type": "code",
   "execution_count": 4,
   "id": "careful-council",
   "metadata": {},
   "outputs": [
    {
     "data": {
      "text/plain": [
       "tensor([[1., 1.],\n",
       "        [1., 1.]], requires_grad=True)"
      ]
     },
     "execution_count": 4,
     "metadata": {},
     "output_type": "execute_result"
    }
   ],
   "source": [
    "x"
   ]
  },
  {
   "cell_type": "code",
   "execution_count": 5,
   "id": "assumed-kentucky",
   "metadata": {},
   "outputs": [
    {
     "data": {
      "text/plain": [
       "tensor([[2., 2.],\n",
       "        [2., 2.]], grad_fn=<AddBackward0>)"
      ]
     },
     "execution_count": 5,
     "metadata": {},
     "output_type": "execute_result"
    }
   ],
   "source": [
    "y = x+1\n",
    "y"
   ]
  },
  {
   "cell_type": "code",
   "execution_count": 6,
   "id": "contained-climb",
   "metadata": {},
   "outputs": [],
   "source": [
    "z = 2*y**2\n",
    "res = z.mean()"
   ]
  },
  {
   "cell_type": "code",
   "execution_count": 7,
   "id": "broadband-consideration",
   "metadata": {},
   "outputs": [
    {
     "data": {
      "text/plain": [
       "tensor(8., grad_fn=<MeanBackward0>)"
      ]
     },
     "execution_count": 7,
     "metadata": {},
     "output_type": "execute_result"
    }
   ],
   "source": [
    "#최적화 - 손실함수를 기준으로 해서 각 변수마다 미분을 실행\n",
    "res"
   ]
  },
  {
   "cell_type": "code",
   "execution_count": 8,
   "id": "olive-smile",
   "metadata": {},
   "outputs": [],
   "source": [
    "# d(res)/dx_i\n",
    "# res = (z_1 + .. z_4)/4\n",
    "# z_i = 2y_i ** 2\n",
    "# z_i = 2(x_i+1)**2\n",
    "res.backward()"
   ]
  },
  {
   "cell_type": "code",
   "execution_count": 11,
   "id": "horizontal-closure",
   "metadata": {},
   "outputs": [
    {
     "name": "stdout",
     "output_type": "stream",
     "text": [
      "tensor([[2., 2.],\n",
      "        [2., 2.]])\n"
     ]
    }
   ],
   "source": [
    "print(x.grad)"
   ]
  },
  {
   "cell_type": "code",
   "execution_count": null,
   "id": "racial-discrimination",
   "metadata": {},
   "outputs": [],
   "source": [
    "import torch.nn as nn\n",
    "import torch.nn.funtional as F"
   ]
  }
 ],
 "metadata": {
  "kernelspec": {
   "display_name": "Python 3",
   "language": "python",
   "name": "python3"
  },
  "language_info": {
   "codemirror_mode": {
    "name": "ipython",
    "version": 3
   },
   "file_extension": ".py",
   "mimetype": "text/x-python",
   "name": "python",
   "nbconvert_exporter": "python",
   "pygments_lexer": "ipython3",
   "version": "3.6.9"
  }
 },
 "nbformat": 4,
 "nbformat_minor": 5
}
