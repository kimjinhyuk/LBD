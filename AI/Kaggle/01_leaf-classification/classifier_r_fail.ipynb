{
 "cells": [
  {
   "cell_type": "code",
   "execution_count": 29,
   "metadata": {},
   "outputs": [
    {
     "data": {
      "text/html": [
       "0"
      ],
      "text/latex": [
       "0"
      ],
      "text/markdown": [
       "0"
      ],
      "text/plain": [
       "[1] 0"
      ]
     },
     "metadata": {},
     "output_type": "display_data"
    }
   ],
   "source": [
    "# The environment is defined by the kaggle/rstats docker image: https://github.com/kaggle/docker-rstats\n",
    "# For example, here's several helpful packages to load in \n",
    "\n",
    "library(ggplot2) # Data visualization\n",
    "library(readr) # CSV file I/O, e.g. the read_csv function\n",
    "\n",
    "# Input data files are available in the \"../input/\" directory.\n",
    "# For example, running this (by clicking run or pressing Shift+Enter) will list the files in the input directory\n",
    "\n",
    "system(\"ls ../input\")\n",
    "\n",
    "# Any results you write to the current directory are saved as output."
   ]
  },
  {
   "cell_type": "code",
   "execution_count": 30,
   "metadata": {},
   "outputs": [],
   "source": [
    "# load caret\n",
    "library(caret)"
   ]
  },
  {
   "cell_type": "code",
   "execution_count": 13,
   "metadata": {},
   "outputs": [],
   "source": [
    "setwd(\"C:/Users/kimji/00_LearningByDoing/AI/Kaggle/01_leaf-classification/\")"
   ]
  },
  {
   "cell_type": "code",
   "execution_count": 31,
   "metadata": {},
   "outputs": [],
   "source": [
    "# read data and prepare train/test.submission set\n",
    "set.seed(12345)\n",
    "train<-read.csv('../input/train.csv')\n",
    "test<-read.csv('../input/test.csv')\n",
    "submission <- read.csv(\"../input/sample_submission.csv\", stringsAsFactors = F)\n",
    "\n",
    "train <- train[,-1]\n",
    "test_id <- test[,1]\n",
    "test <- test[,-1]\n",
    "train$species <- as.factor(train$species)\n",
    "\n",
    "# create a validation set\n",
    "# use 80% of the original training data for training\n",
    "set.seed(12345)\n",
    "train_index <- createDataPartition(train$species, p=0.80, list=FALSE)\n",
    "train <- train[train_index,]\n",
    "\n",
    "# use the remaining 20% of the original training data for validation\n",
    "validation <- train[-train_index,]"
   ]
  },
  {
   "cell_type": "code",
   "execution_count": 38,
   "metadata": {},
   "outputs": [],
   "source": [
    "# can also include  summaryFunction = multiClassSummary \n",
    "# possible validation methods are method= \"cv\", \"boot632\", \"LGOCV\",\"LOOCV\",\"repeatedcv\", \"boot\" \n",
    "set.seed(12345)\n",
    "control <- trainControl(method=\"repeatedcv\", number=10, repeats=3, classProbs= TRUE, summaryFunction = multiClassSummary)\n",
    "\n",
    "# can be \"Accuracy\",   \"logLoss\", \"ROC\",   \"Kappa\"\n",
    "metric <- \"logLoss\""
   ]
  },
  {
   "cell_type": "code",
   "execution_count": 25,
   "metadata": {},
   "outputs": [],
   "source": [
    "# library(kknn)\n",
    "# install.packages(\"kknn\")\n",
    "# install.packages(\"MLmetrics\")b"
   ]
  },
  {
   "cell_type": "code",
   "execution_count": 35,
   "metadata": {},
   "outputs": [],
   "source": [
    " library(MLmetrics)"
   ]
  },
  {
   "cell_type": "code",
   "execution_count": 36,
   "metadata": {},
   "outputs": [
    {
     "name": "stderr",
     "output_type": "stream",
     "text": [
      "Warning message in nominalTrainWorkflow(x = x, y = y, wts = weights, info = trainInfo, :\n",
      "\"There were missing values in resampled performance measures.\"\n"
     ]
    },
    {
     "name": "stdout",
     "output_type": "stream",
     "text": [
      "k-Nearest Neighbors \n",
      "\n",
      "792 samples\n",
      "192 predictors\n",
      " 99 classes: 'Acer_Capillipes', 'Acer_Circinatum', 'Acer_Mono', 'Acer_Opalus', 'Acer_Palmatum', 'Acer_Pictum', 'Acer_Platanoids', 'Acer_Rubrum', 'Acer_Rufinerve', 'Acer_Saccharinum', 'Alnus_Cordata', 'Alnus_Maximowiczii', 'Alnus_Rubra', 'Alnus_Sieboldiana', 'Alnus_Viridis', 'Arundinaria_Simonii', 'Betula_Austrosinensis', 'Betula_Pendula', 'Callicarpa_Bodinieri', 'Castanea_Sativa', 'Celtis_Koraiensis', 'Cercis_Siliquastrum', 'Cornus_Chinensis', 'Cornus_Controversa', 'Cornus_Macrophylla', 'Cotinus_Coggygria', 'Crataegus_Monogyna', 'Cytisus_Battandieri', 'Eucalyptus_Glaucescens', 'Eucalyptus_Neglecta', 'Eucalyptus_Urnigera', 'Fagus_Sylvatica', 'Ginkgo_Biloba', 'Ilex_Aquifolium', 'Ilex_Cornuta', 'Liquidambar_Styraciflua', 'Liriodendron_Tulipifera', 'Lithocarpus_Cleistocarpus', 'Lithocarpus_Edulis', 'Magnolia_Heptapeta', 'Magnolia_Salicifolia', 'Morus_Nigra', 'Olea_Europaea', 'Phildelphus', 'Populus_Adenopoda', 'Populus_Grandidentata', 'Populus_Nigra', 'Prunus_Avium', 'Prunus_X_Shmittii', 'Pterocarya_Stenoptera', 'Quercus_Afares', 'Quercus_Agrifolia', 'Quercus_Alnifolia', 'Quercus_Brantii', 'Quercus_Canariensis', 'Quercus_Castaneifolia', 'Quercus_Cerris', 'Quercus_Chrysolepis', 'Quercus_Coccifera', 'Quercus_Coccinea', 'Quercus_Crassifolia', 'Quercus_Crassipes', 'Quercus_Dolicholepis', 'Quercus_Ellipsoidalis', 'Quercus_Greggii', 'Quercus_Hartwissiana', 'Quercus_Ilex', 'Quercus_Imbricaria', 'Quercus_Infectoria_sub', 'Quercus_Kewensis', 'Quercus_Nigra', 'Quercus_Palustris', 'Quercus_Phellos', 'Quercus_Phillyraeoides', 'Quercus_Pontica', 'Quercus_Pubescens', 'Quercus_Pyrenaica', 'Quercus_Rhysophylla', 'Quercus_Rubra', 'Quercus_Semecarpifolia', 'Quercus_Shumardii', 'Quercus_Suber', 'Quercus_Texana', 'Quercus_Trojana', 'Quercus_Variabilis', 'Quercus_Vulcanica', 'Quercus_x_Hispanica', 'Quercus_x_Turneri', 'Rhododendron_x_Russellianum', 'Salix_Fragilis', 'Salix_Intergra', 'Sorbus_Aria', 'Tilia_Oliveri', 'Tilia_Platyphyllos', 'Tilia_Tomentosa', 'Ulmus_Bergmanniana', 'Viburnum_Tinus', 'Viburnum_x_Rhytidophylloides', 'Zelkova_Serrata' \n",
      "\n",
      "Pre-processing: centered (192), scaled (192) \n",
      "Resampling: Cross-Validated (10 fold, repeated 3 times) \n",
      "Summary of sample sizes: 716, 706, 712, 707, 710, 713, ... \n",
      "Resampling results across tuning parameters:\n",
      "\n",
      "  kmax  logLoss    AUC       prAUC  Accuracy   Kappa      Mean_F1\n",
      "  5     0.6219618  0.990903  0      0.9819924  0.9817637  NaN    \n",
      "  7     0.6219618  0.990903  0      0.9819924  0.9817637  NaN    \n",
      "  9     0.6219618  0.990903  0      0.9819924  0.9817637  NaN    \n",
      "  Mean_Sensitivity  Mean_Specificity  Mean_Pos_Pred_Value  Mean_Neg_Pred_Value\n",
      "  NaN               0.9998162         NaN                  NaN                \n",
      "  NaN               0.9998162         NaN                  NaN                \n",
      "  NaN               0.9998162         NaN                  NaN                \n",
      "  Mean_Precision  Mean_Recall  Mean_Detection_Rate  Mean_Balanced_Accuracy\n",
      "  NaN             NaN          0.009919115          NaN                   \n",
      "  NaN             NaN          0.009919115          NaN                   \n",
      "  NaN             NaN          0.009919115          NaN                   \n",
      "\n",
      "Tuning parameter 'distance' was held constant at a value of 2\n",
      "Tuning\n",
      " parameter 'kernel' was held constant at a value of optimal\n",
      "logLoss was used to select the optimal model using the smallest value.\n",
      "The final values used for the model were kmax = 9, distance = 2 and kernel\n",
      " = optimal.\n",
      "1 package is needed for this model and is not installed. (mda). Would you like to try to install it now?"
     ]
    },
    {
     "ename": "ERROR",
     "evalue": "Error: Required package is missing\n",
     "output_type": "error",
     "traceback": [
      "Error: Required package is missing\nTraceback:\n",
      "1. train(species ~ ., data = train, method = \"pda\", metric = metric, \n .     trControl = control, preProcess = c(\"center\", \"scale\"))",
      "2. train.formula(species ~ ., data = train, method = \"pda\", metric = metric, \n .     trControl = control, preProcess = c(\"center\", \"scale\"))",
      "3. train(x, y, weights = w, ...)",
      "4. train.default(x, y, weights = w, ...)",
      "5. checkInstall(models$library)",
      "6. stop(\"Required package is missing\", call. = FALSE)"
     ]
    }
   ],
   "source": [
    "# Individual models are calculated here\n",
    "#\n",
    "# Include as many as you want, for example:\n",
    "# kknn, extraTrees, rlda, rf, pda, parRF, sda, hdrda, \n",
    "# LMT, slda, hdda, RRFglobal, C5.0, LogitBoost, pam, \n",
    "# gaussprRadial, knn, C5.0Tree, C5.0Rules, RRF, J48, \n",
    "# PART, fda, gcvEarth, CSimca, gpls, earth, ctree, rpart, rpart1SE, rpart2 \n",
    "#\n",
    "# These models have to be classification models\n",
    "# Model list https://topepo.github.io/caret/available-models.html  \n",
    "# -------------------------------------------------------------------\n",
    "\n",
    "#1 (kknn) k-Nearest Neighbors\n",
    "set.seed(12345)\n",
    "m_kknn <- train(species~., data=train, method=\"kknn\", metric=metric, \n",
    "       trControl=control, preProcess = c(\"center\", \"scale\") )\n",
    "print(m_kknn)\n",
    "\n",
    "#2 (pda) Penalized Discriminant Analysis\n",
    "set.seed(12345)\n",
    "m_pda <- train(species~., data=train, method=\"pda\", metric=metric, \n",
    "       trControl=control, preProcess = c(\"center\", \"scale\") )\n",
    "print(m_pda)\n",
    "\n",
    "#3 sda (Shrinkage Discriminant Analysis)\n",
    "set.seed(12345)\n",
    "m_sda <- train(species~., data=train, method=\"sda\", metric=metric, \n",
    "       trControl=control, preProcess = c(\"center\", \"scale\") )\n",
    "print(m_sda)\n",
    "\n",
    "#4 (slda) Stabilized Linear Discriminant Analysis\n",
    "set.seed(12345)\n",
    "m_slda <- train(species~., data=train, method=\"slda\", metric=metric, \n",
    "       trControl=control, preProcess = c(\"center\", \"scale\") )\n",
    "print(m_slda)\n",
    "\n",
    "#5 (hdda) High Dimensional Discriminant Analysis\n",
    "set.seed(12345)\n",
    "m_hdda <- train(species~., data=train, method=\"hdda\", metric=metric, \n",
    "       trControl=control, preProcess = c(\"center\", \"scale\") )\n",
    "print(m_hdda)\n",
    "\n",
    "#6 (pam) Nearest Shrunken Centroids\n",
    "set.seed(12345)\n",
    "m_pam <- train(species~., data=train, method=\"pam\", metric=metric, \n",
    "       trControl=control, preProcess = c(\"center\", \"scale\") )\n",
    "print(m_pam)\n",
    "\n",
    "#7 C5.0Tree (Single C5.0 Tree)\n",
    "set.seed(12345)\n",
    "m_C5 <- train(species~., data=train, method=\"C5.0Tree\", metric=metric, \n",
    "       trControl=control, preProcess = c(\"center\", \"scale\") )\n",
    "print(m_C5)\n",
    "\n",
    "#8 CSimca (SIMCA) // has no logloss\n",
    "set.seed(12345)\n",
    "m_CSimca <- train(species~., data=train, method=\"CSimca\", metric=metric, \n",
    "       trControl=control, preProcess = c(\"center\", \"scale\") )\n",
    "print(m_CSimca)\n",
    " \n",
    "#9 pls (Partial Least Squares)\n",
    "set.seed(12345)\n",
    "m_pls <- train(species~., data=train, method=\"pls\", metric=metric, \n",
    "       trControl=control, preProcess = c(\"center\", \"scale\") )\n",
    "print(m_pls)"
   ]
  },
  {
   "cell_type": "code",
   "execution_count": 24,
   "metadata": {},
   "outputs": [
    {
     "ename": "ERROR",
     "evalue": "Error in resamples(list(KKNN = m_kknn, PDA = m_pda, SDA = m_sda, SLDA = m_slda, : 객체 'm_pda'를 찾을 수 없습니다\n",
     "output_type": "error",
     "traceback": [
      "Error in resamples(list(KKNN = m_kknn, PDA = m_pda, SDA = m_sda, SLDA = m_slda, : 객체 'm_pda'를 찾을 수 없습니다\nTraceback:\n",
      "1. resamples(list(KKNN = m_kknn, PDA = m_pda, SDA = m_sda, SLDA = m_slda, \n .     HDDA = m_hdda, PAM = m_pam, C5TREE = m_C5))"
     ]
    }
   ],
   "source": [
    "resample_results <- resamples(list(KKNN=m_kknn,PDA=m_pda,SDA=m_sda, \n",
    "\t\t    SLDA=m_slda, HDDA=m_hdda, PAM=m_pam, C5TREE=m_C5))"
   ]
  },
  {
   "cell_type": "code",
   "execution_count": 23,
   "metadata": {},
   "outputs": [
    {
     "ename": "ERROR",
     "evalue": "Error in densityplot(resample_results, metric = \"Kappa\", auto.key = list(columns = 3)): 객체 'resample_results'를 찾을 수 없습니다\n",
     "output_type": "error",
     "traceback": [
      "Error in densityplot(resample_results, metric = \"Kappa\", auto.key = list(columns = 3)): 객체 'resample_results'를 찾을 수 없습니다\nTraceback:\n",
      "1. densityplot(resample_results, metric = \"Kappa\", auto.key = list(columns = 3))"
     ]
    }
   ],
   "source": [
    "densityplot(resample_results , metric = \"Kappa\" ,auto.key = list(columns = 3))"
   ]
  }
 ],
 "metadata": {
  "kernelspec": {
   "display_name": "R",
   "language": "R",
   "name": "ir"
  },
  "language_info": {
   "codemirror_mode": "r",
   "file_extension": ".r",
   "mimetype": "text/x-r-source",
   "name": "R",
   "pygments_lexer": "r",
   "version": "4.0.2"
  }
 },
 "nbformat": 4,
 "nbformat_minor": 4
}
