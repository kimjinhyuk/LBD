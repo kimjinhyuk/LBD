{
  "nbformat": 4,
  "nbformat_minor": 0,
  "metadata": {
    "colab": {
      "name": "Plant Pathology 2021_250421",
      "provenance": []
    },
    "kernelspec": {
      "name": "python385jvsc74a57bd0de8cb1b32c71b6e9364a2d8b5ee8198e5516ea58ebcba6bd248037775d9dfbda",
      "display_name": "Python 3.8.5 64-bit ('jenv': conda)"
    },
    "language_info": {
      "name": "python",
      "version": "3.8.5"
    },
    "metadata": {
      "interpreter": {
        "hash": "de8cb1b32c71b6e9364a2d8b5ee8198e5516ea58ebcba6bd248037775d9dfbda"
      }
    }
  },
  "cells": [
    {
      "cell_type": "code",
      "metadata": {
        "id": "P9Hy4CalSIes"
      },
      "source": [
        "import numpy as np \n",
        "import pandas as pd \n",
        "import os\n",
        "import tensorflow as tf\n",
        "import matplotlib.pyplot as plt\n",
        "import seaborn as sns\n",
        "import keras\n",
        "from keras.preprocessing import image\n",
        "from keras.models import Sequential\n",
        "from keras.layers import Conv2D, MaxPool2D, Flatten,Dense,Dropout,BatchNormalization\n",
        "from tensorflow.keras.preprocessing.image import ImageDataGenerator\n",
        "import cv2\n",
        "from PIL import Image"
      ],
      "execution_count": 1,
      "outputs": []
    },
    {
      "cell_type": "code",
      "metadata": {
        "colab": {
          "base_uri": "https://localhost:8080/",
          "height": 241
        },
        "id": "kiCZTLfJY-Yf",
        "outputId": "f27dd2bb-5510-4991-c579-ad366a41b75d"
      },
      "source": [
        "# from google.colab import drive\n",
        "# drive.mount('/content/drive')\n",
        "path = './plant-pathology-2021-fgvc8'\n",
        "train_dir = path + '/train_images'\n",
        "test_dir = path +  '/test_images' \n",
        "df = pd.read_csv(path + '/train.csv')\n",
        "df.head()"
      ],
      "execution_count": 2,
      "outputs": [
        {
          "output_type": "execute_result",
          "data": {
            "text/plain": [
              "                  image                           labels\n",
              "0  800113bb65efe69e.jpg                          healthy\n",
              "1  8002cb321f8bfcdf.jpg  scab frog_eye_leaf_spot complex\n",
              "2  80070f7fb5e2ccaa.jpg                             scab\n",
              "3  80077517781fb94f.jpg                             scab\n",
              "4  800cbf0ff87721f8.jpg                          complex"
            ],
            "text/html": "<div>\n<style scoped>\n    .dataframe tbody tr th:only-of-type {\n        vertical-align: middle;\n    }\n\n    .dataframe tbody tr th {\n        vertical-align: top;\n    }\n\n    .dataframe thead th {\n        text-align: right;\n    }\n</style>\n<table border=\"1\" class=\"dataframe\">\n  <thead>\n    <tr style=\"text-align: right;\">\n      <th></th>\n      <th>image</th>\n      <th>labels</th>\n    </tr>\n  </thead>\n  <tbody>\n    <tr>\n      <th>0</th>\n      <td>800113bb65efe69e.jpg</td>\n      <td>healthy</td>\n    </tr>\n    <tr>\n      <th>1</th>\n      <td>8002cb321f8bfcdf.jpg</td>\n      <td>scab frog_eye_leaf_spot complex</td>\n    </tr>\n    <tr>\n      <th>2</th>\n      <td>80070f7fb5e2ccaa.jpg</td>\n      <td>scab</td>\n    </tr>\n    <tr>\n      <th>3</th>\n      <td>80077517781fb94f.jpg</td>\n      <td>scab</td>\n    </tr>\n    <tr>\n      <th>4</th>\n      <td>800cbf0ff87721f8.jpg</td>\n      <td>complex</td>\n    </tr>\n  </tbody>\n</table>\n</div>"
          },
          "metadata": {},
          "execution_count": 2
        }
      ]
    },
    {
      "cell_type": "code",
      "metadata": {
        "colab": {
          "base_uri": "https://localhost:8080/"
        },
        "id": "3dkee26ia7yK",
        "outputId": "420d88bf-8598-4c4a-839b-067e2dc3d499"
      },
      "source": [
        "df.labels.value_counts()"
      ],
      "execution_count": 3,
      "outputs": [
        {
          "output_type": "execute_result",
          "data": {
            "text/plain": [
              "scab                               4826\n",
              "healthy                            4624\n",
              "frog_eye_leaf_spot                 3181\n",
              "rust                               1860\n",
              "complex                            1602\n",
              "powdery_mildew                     1184\n",
              "scab frog_eye_leaf_spot             686\n",
              "scab frog_eye_leaf_spot complex     200\n",
              "frog_eye_leaf_spot complex          165\n",
              "rust frog_eye_leaf_spot             120\n",
              "rust complex                         97\n",
              "powdery_mildew complex               87\n",
              "Name: labels, dtype: int64"
            ]
          },
          "metadata": {},
          "execution_count": 3
        }
      ]
    },
    {
      "cell_type": "code",
      "metadata": {
        "colab": {
          "base_uri": "https://localhost:8080/"
        },
        "id": "9WilY82FbE5L",
        "outputId": "0a83d21a-e6f9-4497-a1e0-5c8a378cb2be"
      },
      "source": [
        "df['labels'].unique()"
      ],
      "execution_count": 4,
      "outputs": [
        {
          "output_type": "execute_result",
          "data": {
            "text/plain": [
              "array(['healthy', 'scab frog_eye_leaf_spot complex', 'scab', 'complex',\n",
              "       'rust', 'frog_eye_leaf_spot', 'powdery_mildew',\n",
              "       'scab frog_eye_leaf_spot', 'frog_eye_leaf_spot complex',\n",
              "       'rust frog_eye_leaf_spot', 'powdery_mildew complex',\n",
              "       'rust complex'], dtype=object)"
            ]
          },
          "metadata": {},
          "execution_count": 4
        }
      ]
    },
    {
      "cell_type": "code",
      "metadata": {
        "id": "rxD0NxA5bHuc"
      },
      "source": [
        "df['labels'] = df['labels'].astype(str) "
      ],
      "execution_count": 5,
      "outputs": []
    },
    {
      "cell_type": "code",
      "metadata": {
        "colab": {
          "base_uri": "https://localhost:8080/"
        },
        "id": "xMYYQLp6cmhd",
        "outputId": "1ef67b9c-7c21-4597-cf0b-014edc54c3c7"
      },
      "source": [
        "train_datagen  = ImageDataGenerator(rotation_range = 180,\n",
        "                                   width_shift_range = 0.1,\n",
        "                                   height_shift_range = 0.1,\n",
        "                                   horizontal_flip = True,\n",
        "                                   rescale = 1./255,\n",
        "                                   zoom_range = 0.2,\n",
        "                                   validation_split = 0.2)\n",
        "test_datagen  = ImageDataGenerator(rescale = 1./255,\n",
        "                                   validation_split = 0.2)\n",
        "\n",
        "train_generator = train_datagen.flow_from_dataframe(dataframe = df,\n",
        "                                                   directory = train_dir,\n",
        "                                                   target_size = (150,150),\n",
        "                                                   x_col = 'image',\n",
        "                                                   y_col = 'labels',\n",
        "                                                   batch_size = 256,\n",
        "                                                   color_mode = 'rgb',\n",
        "                                                   class_mode = 'categorical',\n",
        "                                                   subset = 'training')\n",
        "\n",
        "test_generator = test_datagen.flow_from_dataframe(dataframe = df,\n",
        "                                                 directory = train_dir,\n",
        "                                                 target_size = (150,150),\n",
        "                                                 x_col = 'image',\n",
        "                                                 y_col = 'labels',\n",
        "                                                 batch_size = 256,\n",
        "                                                 color_mode = 'rgb',\n",
        "                                                 class_mode = 'categorical',\n",
        "                                                 subset = 'validation')"
      ],
      "execution_count": 6,
      "outputs": [
        {
          "output_type": "stream",
          "name": "stdout",
          "text": [
            "Found 14906 validated image filenames belonging to 12 classes.\nFound 3726 validated image filenames belonging to 12 classes.\n"
          ]
        }
      ]
    },
    {
      "cell_type": "code",
      "metadata": {
        "id": "Q_b6thDxcyS2"
      },
      "source": [
        "model = Sequential()\n",
        "model.add(Conv2D(16,(3,3),activation='relu',padding='same',input_shape=[150,150,3]))\n",
        "model.add(MaxPool2D(2,2))\n",
        "model.add(Dropout(0.2))\n",
        "\n",
        "model.add(Conv2D(64,(3,3),activation='relu',padding='same'))\n",
        "model.add(MaxPool2D(2,2))\n",
        "model.add(Dropout(0.2))\n",
        "\n",
        "model.add(Conv2D(16,(3,3),activation='relu',padding='same'))\n",
        "model.add(MaxPool2D(2,2))\n",
        "model.add(Dropout(0.2))\n",
        "\n",
        "model.add(Conv2D(32,(3,3),activation='relu',padding='same'))\n",
        "model.add(MaxPool2D(2,2))\n",
        "model.add(Dropout(0.2))\n",
        "\n",
        "model.add(Conv2D(16,(3,3),activation='relu',padding='same'))\n",
        "model.add(MaxPool2D(2,2))\n",
        "model.add(Dropout(0.2))\n",
        "\n",
        "model.add(Flatten())\n",
        "model.add(Dense(1024,activation='relu'))\n",
        "model.add(Dense(12,activation='softmax'))\n"
      ],
      "execution_count": 7,
      "outputs": []
    },
    {
      "cell_type": "code",
      "metadata": {
        "colab": {
          "base_uri": "https://localhost:8080/"
        },
        "id": "Ugcd9k5ZdAs1",
        "outputId": "a1e40cd3-760e-4f1e-fddd-ee0f1f03bd4e"
      },
      "source": [
        "from tensorflow.keras.optimizers import RMSprop,Adam\n",
        "epochs = 10\n",
        "Batch_size = 64\n",
        "optimizer = Adam(lr = 0.001)\n",
        "model.compile(loss = 'categorical_crossentropy',optimizer = optimizer,metrics = ['accuracy'])\n",
        "\n",
        "model.summary()"
      ],
      "execution_count": 8,
      "outputs": [
        {
          "output_type": "stream",
          "name": "stdout",
          "text": [
            "Model: \"sequential\"\n_________________________________________________________________\nLayer (type)                 Output Shape              Param #   \n=================================================================\nconv2d (Conv2D)              (None, 150, 150, 16)      448       \n_________________________________________________________________\nmax_pooling2d (MaxPooling2D) (None, 75, 75, 16)        0         \n_________________________________________________________________\ndropout (Dropout)            (None, 75, 75, 16)        0         \n_________________________________________________________________\nconv2d_1 (Conv2D)            (None, 75, 75, 64)        9280      \n_________________________________________________________________\nmax_pooling2d_1 (MaxPooling2 (None, 37, 37, 64)        0         \n_________________________________________________________________\ndropout_1 (Dropout)          (None, 37, 37, 64)        0         \n_________________________________________________________________\nconv2d_2 (Conv2D)            (None, 37, 37, 16)        9232      \n_________________________________________________________________\nmax_pooling2d_2 (MaxPooling2 (None, 18, 18, 16)        0         \n_________________________________________________________________\ndropout_2 (Dropout)          (None, 18, 18, 16)        0         \n_________________________________________________________________\nconv2d_3 (Conv2D)            (None, 18, 18, 32)        4640      \n_________________________________________________________________\nmax_pooling2d_3 (MaxPooling2 (None, 9, 9, 32)          0         \n_________________________________________________________________\ndropout_3 (Dropout)          (None, 9, 9, 32)          0         \n_________________________________________________________________\nconv2d_4 (Conv2D)            (None, 9, 9, 16)          4624      \n_________________________________________________________________\nmax_pooling2d_4 (MaxPooling2 (None, 4, 4, 16)          0         \n_________________________________________________________________\ndropout_4 (Dropout)          (None, 4, 4, 16)          0         \n_________________________________________________________________\nflatten (Flatten)            (None, 256)               0         \n_________________________________________________________________\ndense (Dense)                (None, 1024)              263168    \n_________________________________________________________________\ndense_1 (Dense)              (None, 12)                12300     \n=================================================================\nTotal params: 303,692\nTrainable params: 303,692\nNon-trainable params: 0\n_________________________________________________________________\n"
          ]
        }
      ]
    },
    {
      "cell_type": "code",
      "metadata": {
        "colab": {
          "base_uri": "https://localhost:8080/"
        },
        "id": "0UODT6CadFgi",
        "outputId": "fe7fe23f-adfc-4910-919b-37a89ac4c89d"
      },
      "source": [
        "history = model.fit(train_generator,epochs = 1,batch_size=64,validation_data = test_generator)"
      ],
      "execution_count": 9,
      "outputs": []
    },
    {
      "cell_type": "code",
      "execution_count": null,
      "metadata": {},
      "outputs": [],
      "source": []
    },
    {
      "cell_type": "code",
      "metadata": {
        "id": "9Ub5OeaxdKBL"
      },
      "source": [],
      "execution_count": null,
      "outputs": []
    }
  ]
}