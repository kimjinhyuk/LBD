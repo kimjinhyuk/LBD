{
 "cells": [
  {
   "cell_type": "code",
   "execution_count": null,
   "metadata": {},
   "outputs": [],
   "source": [
    "# Import the standard Python Scientific Libraries\n",
    "import pandas as pd\n",
    "import numpy as np\n",
    "from scipy import stats\n",
    "import matplotlib.pyplot as plt\n",
    "%matplotlib inline\n",
    "import seaborn as sns\n",
    "\n",
    "# Suppress Deprecation and Incorrect Usage Warnings \n",
    "import warnings\n",
    "warnings.filterwarnings('ignore')"
   ]
  },
  {
   "cell_type": "code",
   "execution_count": null,
   "metadata": {},
   "outputs": [],
   "source": [
    "# !pip install pyarrow"
   ]
  },
  {
   "cell_type": "code",
   "execution_count": null,
   "metadata": {},
   "outputs": [],
   "source": [
    "df_sample_a = pd.read_feather('/home/workspace/data/task150/12.HanaCard/train_sample_a.feather')\n",
    "df_sample_b = pd.read_feather('/home/workspace/data/task150/12.HanaCard/train_sample_b.feather')\n",
    "df_sample_c = pd.read_feather('/home/workspace/data/task150/12.HanaCard/train_sample_c.feather')\n",
    "df_sample_d = pd.read_feather('/home/workspace/data/task150/12.HanaCard/train_sample_d.feather')\n",
    "# df_sample_a.shape (899525, 17)\n",
    "# df_sample_b.shape (441656, 17)\n",
    "# df_sample_c.shape (2895949, 17)\n",
    "# df_sample_d.shape (397383, 17)"
   ]
  },
  {
   "cell_type": "code",
   "execution_count": null,
   "metadata": {},
   "outputs": [],
   "source": [
    "df_sample_d.head()"
   ]
  },
  {
   "cell_type": "code",
   "execution_count": null,
   "metadata": {},
   "outputs": [],
   "source": [
    "import os\n",
    "os.chdir('/home/workspace/user-workspace')\n",
    "os.getcwd()\n",
    "os.listdir()"
   ]
  },
  {
   "cell_type": "code",
   "execution_count": null,
   "metadata": {},
   "outputs": [],
   "source": [
    "os.chdir('/home/workspace/data/.task149/')\n",
    "os.getcwd()\n",
    "os.listdir()"
   ]
  },
  {
   "cell_type": "code",
   "execution_count": null,
   "metadata": {},
   "outputs": [],
   "source": [
    "path = '/home/workspace/data/.task149/train_sample_c.feather'\n",
    "df = pd.read_feather(path)"
   ]
  }
 ],
 "metadata": {
  "kernelspec": {
   "display_name": "lbd_env",
   "language": "python",
   "name": "lbd_env"
  },
  "language_info": {
   "codemirror_mode": {
    "name": "ipython",
    "version": 3
   },
   "file_extension": ".py",
   "mimetype": "text/x-python",
   "name": "python",
   "nbconvert_exporter": "python",
   "pygments_lexer": "ipython3",
   "version": "3.7.9"
  }
 },
 "nbformat": 4,
 "nbformat_minor": 4
}
