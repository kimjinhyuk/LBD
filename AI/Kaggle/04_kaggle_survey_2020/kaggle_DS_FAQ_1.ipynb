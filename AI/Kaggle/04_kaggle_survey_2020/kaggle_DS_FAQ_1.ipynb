{
 "cells": [
  {
   "cell_type": "markdown",
   "metadata": {
    "id": "4UaTqk0sEvwZ"
   },
   "source": [
    "< 출처 : 박조은 강사님 [Github](https://github.com/corazzon/KaggleStruggle/blob/master/kaggle-survey-2017/Kaggle-ML-DS-survey-2017-EDA-FAQ.ipynb) >"
   ]
  },
  {
   "cell_type": "markdown",
   "metadata": {
    "id": "ssEdkjnuEeY9"
   },
   "source": [
    "참고 URL :\n",
    "\n",
    "* [Data Science FAQ | Kaggle](https://www.kaggle.com/rounakbanik/data-science-faq)\n",
    "\n",
    "* [Novice to Grandmaster | Kaggle](https://www.kaggle.com/ash316/novice-to-grandmaster)\n",
    "\n",
    "* 캐글을 시작한지 두 달정도 된 초보자로, 이 설문조사의 결과를 바탕으로 데이터사이언스와 머신러닝과 관련 된 인사이트를 얻어볼 수 있지 않을까 가설을 세워본다."
   ]
  },
  {
   "cell_type": "markdown",
   "metadata": {
    "id": "WQrV1r2LFQUB"
   },
   "source": [
    "#데이터 파일"
   ]
  },
  {
   "cell_type": "code",
   "execution_count": 1,
   "metadata": {
    "id": "-wbH-0_R_jpd"
   },
   "outputs": [],
   "source": [
    "# 노트북 안에서 그래프를 그리기 위해\n",
    "%matplotlib inline\n",
    "\n",
    "# Import the standard Python Scientific Libraries\n",
    "import pandas as pd\n",
    "import numpy as np\n",
    "from scipy import stats\n",
    "import matplotlib.pyplot as plt\n",
    "import seaborn as sns\n",
    "\n",
    "# Suppress Deprecation and Incorrect Usage Warnings \n",
    "import warnings\n",
    "warnings.filterwarnings('ignore')"
   ]
  },
  {
   "cell_type": "code",
   "execution_count": null,
   "metadata": {
    "id": "eIoXOjYFCWm0"
   },
   "outputs": [],
   "source": [
    "#구글 드라이브 연동하기\n",
    "#구글 드라이브에 데이터를 올린 후 사용할 경우에만 실행\n",
    "from google.colab import drive\n",
    "drive.mount('/content/drive')"
   ]
  },
  {
   "cell_type": "code",
   "execution_count": 2,
   "metadata": {
    "colab": {
     "base_uri": "https://localhost:8080/",
     "height": 34
    },
    "id": "x0HPL9PT_2_a",
    "outputId": "b8caf3d6-b9ba-4271-8939-6477b0611795"
   },
   "outputs": [
    {
     "data": {
      "text/plain": [
       "(290, 3)"
      ]
     },
     "execution_count": 2,
     "metadata": {},
     "output_type": "execute_result"
    }
   ],
   "source": [
    "question = pd.read_csv('./schema.csv')\n",
    "question.shape"
   ]
  },
  {
   "cell_type": "code",
   "execution_count": 4,
   "metadata": {
    "colab": {
     "base_uri": "https://localhost:8080/",
     "height": 197
    },
    "id": "Ib-ZrFsHDvmC",
    "outputId": "9265d2b4-124f-4632-9a46-7a8360fe5bb4"
   },
   "outputs": [
    {
     "data": {
      "text/html": [
       "<div>\n",
       "<style scoped>\n",
       "    .dataframe tbody tr th:only-of-type {\n",
       "        vertical-align: middle;\n",
       "    }\n",
       "\n",
       "    .dataframe tbody tr th {\n",
       "        vertical-align: top;\n",
       "    }\n",
       "\n",
       "    .dataframe thead th {\n",
       "        text-align: right;\n",
       "    }\n",
       "</style>\n",
       "<table border=\"1\" class=\"dataframe\">\n",
       "  <thead>\n",
       "    <tr style=\"text-align: right;\">\n",
       "      <th></th>\n",
       "      <th>Column</th>\n",
       "      <th>Question</th>\n",
       "      <th>Asked</th>\n",
       "    </tr>\n",
       "  </thead>\n",
       "  <tbody>\n",
       "    <tr>\n",
       "      <th>0</th>\n",
       "      <td>GenderSelect</td>\n",
       "      <td>Select your gender identity. - Selected Choice</td>\n",
       "      <td>All</td>\n",
       "    </tr>\n",
       "    <tr>\n",
       "      <th>1</th>\n",
       "      <td>GenderFreeForm</td>\n",
       "      <td>Select your gender identity. - A different ide...</td>\n",
       "      <td>All</td>\n",
       "    </tr>\n",
       "    <tr>\n",
       "      <th>2</th>\n",
       "      <td>Country</td>\n",
       "      <td>Select the country you currently live in.</td>\n",
       "      <td>All</td>\n",
       "    </tr>\n",
       "    <tr>\n",
       "      <th>3</th>\n",
       "      <td>Age</td>\n",
       "      <td>What's your age?</td>\n",
       "      <td>All</td>\n",
       "    </tr>\n",
       "    <tr>\n",
       "      <th>4</th>\n",
       "      <td>EmploymentStatus</td>\n",
       "      <td>What's your current employment status?</td>\n",
       "      <td>All</td>\n",
       "    </tr>\n",
       "  </tbody>\n",
       "</table>\n",
       "</div>"
      ],
      "text/plain": [
       "             Column                                           Question Asked\n",
       "0      GenderSelect     Select your gender identity. - Selected Choice   All\n",
       "1    GenderFreeForm  Select your gender identity. - A different ide...   All\n",
       "2           Country          Select the country you currently live in.   All\n",
       "3               Age                                   What's your age?   All\n",
       "4  EmploymentStatus             What's your current employment status?   All"
      ]
     },
     "execution_count": 4,
     "metadata": {},
     "output_type": "execute_result"
    }
   ],
   "source": [
    "question.head()"
   ]
  },
  {
   "cell_type": "code",
   "execution_count": 17,
   "metadata": {
    "colab": {
     "base_uri": "https://localhost:8080/",
     "height": 34
    },
    "id": "hUXMf4CyMgYo",
    "outputId": "bf6283d8-9639-4339-91cd-7d6fca51ea93"
   },
   "outputs": [
    {
     "data": {
      "text/plain": [
       "(16716, 228)"
      ]
     },
     "execution_count": 17,
     "metadata": {},
     "output_type": "execute_result"
    }
   ],
   "source": [
    "# 판다스로 선다형 객관식 문제에 대한 응답을 가져 옴\n",
    "mcq = pd.read_csv('./multipleChoiceResponses.csv', encoding=\"ISO-8859-1\", low_memory=False)\n",
    "mcq.shape\n",
    "# mcq.head()"
   ]
  },
  {
   "cell_type": "code",
   "execution_count": 6,
   "metadata": {
    "colab": {
     "base_uri": "https://localhost:8080/",
     "height": 176
    },
    "id": "EIQD1moPMgHD",
    "outputId": "dd5287e3-0ff7-4457-e7e1-e6114090059c"
   },
   "outputs": [
    {
     "data": {
      "text/plain": [
       "Index(['GenderSelect', 'Country', 'Age', 'EmploymentStatus', 'StudentStatus',\n",
       "       'LearningDataScience', 'CodeWriter', 'CareerSwitcher',\n",
       "       'CurrentJobTitleSelect', 'TitleFit',\n",
       "       ...\n",
       "       'JobFactorExperienceLevel', 'JobFactorDepartment', 'JobFactorTitle',\n",
       "       'JobFactorCompanyFunding', 'JobFactorImpact', 'JobFactorRemote',\n",
       "       'JobFactorIndustry', 'JobFactorLeaderReputation', 'JobFactorDiversity',\n",
       "       'JobFactorPublishingOpportunity'],\n",
       "      dtype='object', length=228)"
      ]
     },
     "execution_count": 6,
     "metadata": {},
     "output_type": "execute_result"
    }
   ],
   "source": [
    "mcq.columns"
   ]
  },
  {
   "cell_type": "code",
   "execution_count": 19,
   "metadata": {
    "colab": {
     "base_uri": "https://localhost:8080/",
     "height": 813
    },
    "id": "mtda7cDWMfhC",
    "outputId": "d9d86896-c0f0-4da9-a45e-6418f3fe05a9"
   },
   "outputs": [
    {
     "data": {
      "text/html": [
       "<div>\n",
       "<style scoped>\n",
       "    .dataframe tbody tr th:only-of-type {\n",
       "        vertical-align: middle;\n",
       "    }\n",
       "\n",
       "    .dataframe tbody tr th {\n",
       "        vertical-align: top;\n",
       "    }\n",
       "\n",
       "    .dataframe thead th {\n",
       "        text-align: right;\n",
       "    }\n",
       "</style>\n",
       "<table border=\"1\" class=\"dataframe\">\n",
       "  <thead>\n",
       "    <tr style=\"text-align: right;\">\n",
       "      <th></th>\n",
       "      <th>GenderSelect</th>\n",
       "      <th>Country</th>\n",
       "      <th>Age</th>\n",
       "      <th>EmploymentStatus</th>\n",
       "      <th>StudentStatus</th>\n",
       "      <th>LearningDataScience</th>\n",
       "      <th>CodeWriter</th>\n",
       "      <th>CareerSwitcher</th>\n",
       "      <th>CurrentJobTitleSelect</th>\n",
       "      <th>TitleFit</th>\n",
       "      <th>...</th>\n",
       "      <th>JobFactorExperienceLevel</th>\n",
       "      <th>JobFactorDepartment</th>\n",
       "      <th>JobFactorTitle</th>\n",
       "      <th>JobFactorCompanyFunding</th>\n",
       "      <th>JobFactorImpact</th>\n",
       "      <th>JobFactorRemote</th>\n",
       "      <th>JobFactorIndustry</th>\n",
       "      <th>JobFactorLeaderReputation</th>\n",
       "      <th>JobFactorDiversity</th>\n",
       "      <th>JobFactorPublishingOpportunity</th>\n",
       "    </tr>\n",
       "  </thead>\n",
       "  <tbody>\n",
       "    <tr>\n",
       "      <th>16713</th>\n",
       "      <td>Female</td>\n",
       "      <td>Taiwan</td>\n",
       "      <td>25.0</td>\n",
       "      <td>Employed part-time</td>\n",
       "      <td>NaN</td>\n",
       "      <td>NaN</td>\n",
       "      <td>No</td>\n",
       "      <td>Yes</td>\n",
       "      <td>NaN</td>\n",
       "      <td>NaN</td>\n",
       "      <td>...</td>\n",
       "      <td>NaN</td>\n",
       "      <td>NaN</td>\n",
       "      <td>NaN</td>\n",
       "      <td>NaN</td>\n",
       "      <td>NaN</td>\n",
       "      <td>NaN</td>\n",
       "      <td>NaN</td>\n",
       "      <td>NaN</td>\n",
       "      <td>NaN</td>\n",
       "      <td>NaN</td>\n",
       "    </tr>\n",
       "    <tr>\n",
       "      <th>16714</th>\n",
       "      <td>Female</td>\n",
       "      <td>Singapore</td>\n",
       "      <td>16.0</td>\n",
       "      <td>I prefer not to say</td>\n",
       "      <td>Yes</td>\n",
       "      <td>Yes, but data science is a small part of what ...</td>\n",
       "      <td>NaN</td>\n",
       "      <td>NaN</td>\n",
       "      <td>NaN</td>\n",
       "      <td>NaN</td>\n",
       "      <td>...</td>\n",
       "      <td>NaN</td>\n",
       "      <td>NaN</td>\n",
       "      <td>NaN</td>\n",
       "      <td>NaN</td>\n",
       "      <td>NaN</td>\n",
       "      <td>NaN</td>\n",
       "      <td>NaN</td>\n",
       "      <td>NaN</td>\n",
       "      <td>NaN</td>\n",
       "      <td>NaN</td>\n",
       "    </tr>\n",
       "    <tr>\n",
       "      <th>16715</th>\n",
       "      <td>Male</td>\n",
       "      <td>Japan</td>\n",
       "      <td>27.0</td>\n",
       "      <td>Employed full-time</td>\n",
       "      <td>NaN</td>\n",
       "      <td>NaN</td>\n",
       "      <td>No</td>\n",
       "      <td>Yes</td>\n",
       "      <td>Programmer</td>\n",
       "      <td>Fine</td>\n",
       "      <td>...</td>\n",
       "      <td>NaN</td>\n",
       "      <td>NaN</td>\n",
       "      <td>NaN</td>\n",
       "      <td>NaN</td>\n",
       "      <td>NaN</td>\n",
       "      <td>NaN</td>\n",
       "      <td>NaN</td>\n",
       "      <td>NaN</td>\n",
       "      <td>NaN</td>\n",
       "      <td>NaN</td>\n",
       "    </tr>\n",
       "  </tbody>\n",
       "</table>\n",
       "<p>3 rows × 228 columns</p>\n",
       "</div>"
      ],
      "text/plain": [
       "      GenderSelect    Country   Age     EmploymentStatus StudentStatus  \\\n",
       "16713       Female     Taiwan  25.0   Employed part-time           NaN   \n",
       "16714       Female  Singapore  16.0  I prefer not to say           Yes   \n",
       "16715         Male      Japan  27.0   Employed full-time           NaN   \n",
       "\n",
       "                                     LearningDataScience CodeWriter  \\\n",
       "16713                                                NaN         No   \n",
       "16714  Yes, but data science is a small part of what ...        NaN   \n",
       "16715                                                NaN         No   \n",
       "\n",
       "      CareerSwitcher CurrentJobTitleSelect TitleFit  ...  \\\n",
       "16713            Yes                   NaN      NaN  ...   \n",
       "16714            NaN                   NaN      NaN  ...   \n",
       "16715            Yes            Programmer     Fine  ...   \n",
       "\n",
       "      JobFactorExperienceLevel JobFactorDepartment JobFactorTitle  \\\n",
       "16713                      NaN                 NaN            NaN   \n",
       "16714                      NaN                 NaN            NaN   \n",
       "16715                      NaN                 NaN            NaN   \n",
       "\n",
       "      JobFactorCompanyFunding JobFactorImpact JobFactorRemote  \\\n",
       "16713                     NaN             NaN             NaN   \n",
       "16714                     NaN             NaN             NaN   \n",
       "16715                     NaN             NaN             NaN   \n",
       "\n",
       "      JobFactorIndustry JobFactorLeaderReputation JobFactorDiversity  \\\n",
       "16713               NaN                       NaN                NaN   \n",
       "16714               NaN                       NaN                NaN   \n",
       "16715               NaN                       NaN                NaN   \n",
       "\n",
       "      JobFactorPublishingOpportunity  \n",
       "16713                            NaN  \n",
       "16714                            NaN  \n",
       "16715                            NaN  \n",
       "\n",
       "[3 rows x 228 columns]"
      ]
     },
     "execution_count": 19,
     "metadata": {},
     "output_type": "execute_result"
    }
   ],
   "source": [
    "mcq.tail(3)"
   ]
  },
  {
   "cell_type": "code",
   "execution_count": 9,
   "metadata": {
    "colab": {
     "base_uri": "https://localhost:8080/",
     "height": 340
    },
    "id": "Mi_4pRPfMfNk",
    "outputId": "d33ba7d7-b0a5-440d-885b-264650589141"
   },
   "outputs": [
    {
     "data": {
      "text/plain": [
       "<AxesSubplot:>"
      ]
     },
     "execution_count": 9,
     "metadata": {},
     "output_type": "execute_result"
    },
    {
     "data": {
      "image/png": "[encoded data removed]",
      "text/plain": [
       "<Figure size 864x360 with 2 Axes>"
      ]
     },
     "metadata": {
      "needs_background": "light"
     },
     "output_type": "display_data"
    }
   ],
   "source": [
    "# missingno는 NaN 데이터들에 대해 시각화를 해준다.\n",
    "# NaN 데이터의 컬럼이 많아 아래 그래프만으로는 내용을 파악하기 어렵다.\n",
    "import missingno as msno\n",
    "\n",
    "msno.matrix(mcq, figsize=(12,5))"
   ]
  },
  {
   "cell_type": "markdown",
   "metadata": {
    "id": "Dn5ozScSMekc"
   },
   "source": [
    "* 16,716 명의 데이터와 228개의 선다형 객관식문제와 62개의 주관식 질문에 대한 응답이다. (총 290개의 질문) 응답하지 않은 질문이 많음"
   ]
  },
  {
   "cell_type": "markdown",
   "metadata": {
    "id": "k3b53N0bFFth"
   },
   "source": [
    "# **설문통계**"
   ]
  },
  {
   "cell_type": "code",
   "execution_count": 10,
   "metadata": {
    "colab": {
     "base_uri": "https://localhost:8080/",
     "height": 296
    },
    "id": "bno5I3dWESw_",
    "outputId": "c5d8eabb-5f16-49b3-8d71-fed495014712"
   },
   "outputs": [
    {
     "data": {
      "text/plain": [
       "<AxesSubplot:xlabel='count', ylabel='GenderSelect'>"
      ]
     },
     "execution_count": 10,
     "metadata": {},
     "output_type": "execute_result"
    },
    {
     "data": {
      "image/png": "[encoded data removed]",
      "text/plain": [
       "<Figure size 432x288 with 1 Axes>"
      ]
     },
     "metadata": {
      "needs_background": "light"
     },
     "output_type": "display_data"
    }
   ],
   "source": [
    "# 성별\n",
    "sns.countplot(y='GenderSelect', data=mcq)"
   ]
  },
  {
   "cell_type": "markdown",
   "metadata": {
    "id": "Ywjl0B6cFVmm"
   },
   "source": [
    "여성보다는 남성의 비율이 훨씬 높은 편이다."
   ]
  },
  {
   "cell_type": "code",
   "execution_count": 11,
   "metadata": {
    "colab": {
     "base_uri": "https://localhost:8080/",
     "height": 647
    },
    "id": "K_yqilWAFURY",
    "outputId": "275826bf-a02d-457b-bdfb-c1198bd22b8a"
   },
   "outputs": [
    {
     "data": {
      "text/html": [
       "<div>\n",
       "<style scoped>\n",
       "    .dataframe tbody tr th:only-of-type {\n",
       "        vertical-align: middle;\n",
       "    }\n",
       "\n",
       "    .dataframe tbody tr th {\n",
       "        vertical-align: top;\n",
       "    }\n",
       "\n",
       "    .dataframe thead th {\n",
       "        text-align: right;\n",
       "    }\n",
       "</style>\n",
       "<table border=\"1\" class=\"dataframe\">\n",
       "  <thead>\n",
       "    <tr style=\"text-align: right;\">\n",
       "      <th></th>\n",
       "      <th>응답 수</th>\n",
       "      <th>국가</th>\n",
       "    </tr>\n",
       "  </thead>\n",
       "  <tbody>\n",
       "    <tr>\n",
       "      <th>0</th>\n",
       "      <td>4197</td>\n",
       "      <td>United States</td>\n",
       "    </tr>\n",
       "    <tr>\n",
       "      <th>1</th>\n",
       "      <td>2704</td>\n",
       "      <td>India</td>\n",
       "    </tr>\n",
       "    <tr>\n",
       "      <th>2</th>\n",
       "      <td>1023</td>\n",
       "      <td>Other</td>\n",
       "    </tr>\n",
       "    <tr>\n",
       "      <th>3</th>\n",
       "      <td>578</td>\n",
       "      <td>Russia</td>\n",
       "    </tr>\n",
       "    <tr>\n",
       "      <th>4</th>\n",
       "      <td>535</td>\n",
       "      <td>United Kingdom</td>\n",
       "    </tr>\n",
       "    <tr>\n",
       "      <th>5</th>\n",
       "      <td>471</td>\n",
       "      <td>People 's Republic of China</td>\n",
       "    </tr>\n",
       "    <tr>\n",
       "      <th>6</th>\n",
       "      <td>465</td>\n",
       "      <td>Brazil</td>\n",
       "    </tr>\n",
       "    <tr>\n",
       "      <th>7</th>\n",
       "      <td>460</td>\n",
       "      <td>Germany</td>\n",
       "    </tr>\n",
       "    <tr>\n",
       "      <th>8</th>\n",
       "      <td>442</td>\n",
       "      <td>France</td>\n",
       "    </tr>\n",
       "    <tr>\n",
       "      <th>9</th>\n",
       "      <td>440</td>\n",
       "      <td>Canada</td>\n",
       "    </tr>\n",
       "    <tr>\n",
       "      <th>10</th>\n",
       "      <td>421</td>\n",
       "      <td>Australia</td>\n",
       "    </tr>\n",
       "    <tr>\n",
       "      <th>11</th>\n",
       "      <td>320</td>\n",
       "      <td>Spain</td>\n",
       "    </tr>\n",
       "    <tr>\n",
       "      <th>12</th>\n",
       "      <td>277</td>\n",
       "      <td>Japan</td>\n",
       "    </tr>\n",
       "    <tr>\n",
       "      <th>13</th>\n",
       "      <td>254</td>\n",
       "      <td>Taiwan</td>\n",
       "    </tr>\n",
       "    <tr>\n",
       "      <th>14</th>\n",
       "      <td>238</td>\n",
       "      <td>Italy</td>\n",
       "    </tr>\n",
       "    <tr>\n",
       "      <th>15</th>\n",
       "      <td>205</td>\n",
       "      <td>Netherlands</td>\n",
       "    </tr>\n",
       "    <tr>\n",
       "      <th>16</th>\n",
       "      <td>196</td>\n",
       "      <td>Ukraine</td>\n",
       "    </tr>\n",
       "    <tr>\n",
       "      <th>17</th>\n",
       "      <td>194</td>\n",
       "      <td>South Korea</td>\n",
       "    </tr>\n",
       "    <tr>\n",
       "      <th>18</th>\n",
       "      <td>184</td>\n",
       "      <td>Singapore</td>\n",
       "    </tr>\n",
       "    <tr>\n",
       "      <th>19</th>\n",
       "      <td>184</td>\n",
       "      <td>Poland</td>\n",
       "    </tr>\n",
       "  </tbody>\n",
       "</table>\n",
       "</div>"
      ],
      "text/plain": [
       "    응답 수                           국가\n",
       "0   4197                United States\n",
       "1   2704                        India\n",
       "2   1023                        Other\n",
       "3    578                       Russia\n",
       "4    535               United Kingdom\n",
       "5    471  People 's Republic of China\n",
       "6    465                       Brazil\n",
       "7    460                      Germany\n",
       "8    442                       France\n",
       "9    440                       Canada\n",
       "10   421                    Australia\n",
       "11   320                        Spain\n",
       "12   277                        Japan\n",
       "13   254                       Taiwan\n",
       "14   238                        Italy\n",
       "15   205                  Netherlands\n",
       "16   196                      Ukraine\n",
       "17   194                  South Korea\n",
       "18   184                    Singapore\n",
       "19   184                       Poland"
      ]
     },
     "execution_count": 11,
     "metadata": {},
     "output_type": "execute_result"
    }
   ],
   "source": [
    "# 국가별 응답수\n",
    "con_df = pd.DataFrame(mcq['Country'].value_counts())\n",
    "# print(con_df)\n",
    "# 'country' 컬럼을 인덱스로 지정해 주고\n",
    "con_df['국가'] = con_df.index\n",
    "# 컬럼의 순서대로 응답 수, 국가로 컬럼명을 지정해 줌\n",
    "con_df.columns = ['응답 수', '국가']\n",
    "# index 컬럼을 삭제하고 순위를 알기위해 reset_index()를 해준다.\n",
    "# 우리 나라는 18위이고 전체 52개국에서 참여했지만 20위까지만 본다. \n",
    "con_df = con_df.reset_index().drop('index', axis=1)\n",
    "con_df.head(20)"
   ]
  },
  {
   "cell_type": "code",
   "execution_count": 12,
   "metadata": {
    "colab": {
     "base_uri": "https://localhost:8080/",
     "height": 176
    },
    "id": "20RdCuBGFY4O",
    "outputId": "30d0cb7e-e060-42a7-ac25-9ebbf7cd4cb8"
   },
   "outputs": [
    {
     "data": {
      "text/plain": [
       "count    16385.000000\n",
       "mean        32.372841\n",
       "std         10.473487\n",
       "min          0.000000\n",
       "25%         25.000000\n",
       "50%         30.000000\n",
       "75%         37.000000\n",
       "max        100.000000\n",
       "Name: Age, dtype: float64"
      ]
     },
     "execution_count": 12,
     "metadata": {},
     "output_type": "execute_result"
    }
   ],
   "source": [
    "# 연령에 대한 정보를 본다.\n",
    "mcq['Age'].describe()"
   ]
  },
  {
   "cell_type": "code",
   "execution_count": 13,
   "metadata": {
    "colab": {
     "base_uri": "https://localhost:8080/",
     "height": 301
    },
    "id": "G6liEL2rFa0r",
    "outputId": "56e7b929-cbc1-4c03-bb99-0f92e698cf9f"
   },
   "outputs": [
    {
     "data": {
      "text/plain": [
       "<AxesSubplot:xlabel='Age', ylabel='Density'>"
      ]
     },
     "execution_count": 13,
     "metadata": {},
     "output_type": "execute_result"
    },
    {
     "data": {
      "image/png": "[encoded data removed]",
      "text/plain": [
       "<Figure size 432x288 with 1 Axes>"
      ]
     },
     "metadata": {
      "needs_background": "light"
     },
     "output_type": "display_data"
    }
   ],
   "source": [
    "sns.distplot(mcq[mcq['Age'] > 0]['Age'])"
   ]
  },
  {
   "cell_type": "markdown",
   "metadata": {
    "id": "AjVCFrC3Fdv-"
   },
   "source": [
    "응답자의 대부분이 어리며, 20대부터 급격히 늘어나며, 30대가 가장 많다. 평균 나이는 32세다."
   ]
  },
  {
   "cell_type": "markdown",
   "metadata": {
    "id": "qsBkY9uMFffs"
   },
   "source": [
    "#학력"
   ]
  },
  {
   "cell_type": "code",
   "execution_count": 22,
   "metadata": {
    "colab": {
     "base_uri": "https://localhost:8080/",
     "height": 296
    },
    "id": "WVqQgzisFcBF",
    "outputId": "4ae957d5-4be1-4ccf-9e17-537a171ac0e3"
   },
   "outputs": [
    {
     "data": {
      "text/plain": [
       "<AxesSubplot:xlabel='count', ylabel='FormalEducation'>"
      ]
     },
     "execution_count": 22,
     "metadata": {},
     "output_type": "execute_result"
    },
    {
     "data": {
      "image/png": "[encoded data removed]",
      "text/plain": [
       "<Figure size 432x288 with 1 Axes>"
      ]
     },
     "metadata": {
      "needs_background": "light"
     },
     "output_type": "display_data"
    }
   ],
   "source": [
    "sns.countplot(y='FormalEducation', data=mcq)"
   ]
  },
  {
   "cell_type": "markdown",
   "metadata": {
    "id": "Kcmx3AFuFlAR"
   },
   "source": [
    "학사 학위를 가진 사람보다 석사 학위를 가지고 있는 사람이 많으며, 박사학위를 가지고 있는 사람들도 많다."
   ]
  },
  {
   "cell_type": "code",
   "execution_count": 21,
   "metadata": {
    "colab": {
     "base_uri": "https://localhost:8080/",
     "height": 497
    },
    "id": "ONDL7fjMxGqB",
    "outputId": "00fd39a9-0e5a-4ae2-c790-105e29ddf983"
   },
   "outputs": [
    {
     "data": {
      "text/html": [
       "<div>\n",
       "<style scoped>\n",
       "    .dataframe tbody tr th:only-of-type {\n",
       "        vertical-align: middle;\n",
       "    }\n",
       "\n",
       "    .dataframe tbody tr th {\n",
       "        vertical-align: top;\n",
       "    }\n",
       "\n",
       "    .dataframe thead th {\n",
       "        text-align: right;\n",
       "    }\n",
       "</style>\n",
       "<table border=\"1\" class=\"dataframe\">\n",
       "  <thead>\n",
       "    <tr style=\"text-align: right;\">\n",
       "      <th></th>\n",
       "      <th>응답수</th>\n",
       "      <th>비율</th>\n",
       "    </tr>\n",
       "  </thead>\n",
       "  <tbody>\n",
       "    <tr>\n",
       "      <th>Computer Science</th>\n",
       "      <td>4397</td>\n",
       "      <td>0.331074</td>\n",
       "    </tr>\n",
       "    <tr>\n",
       "      <th>Mathematics or statistics</th>\n",
       "      <td>2220</td>\n",
       "      <td>0.167156</td>\n",
       "    </tr>\n",
       "    <tr>\n",
       "      <th>Engineering (non-computer focused)</th>\n",
       "      <td>1339</td>\n",
       "      <td>0.100821</td>\n",
       "    </tr>\n",
       "    <tr>\n",
       "      <th>Electrical Engineering</th>\n",
       "      <td>1303</td>\n",
       "      <td>0.098110</td>\n",
       "    </tr>\n",
       "    <tr>\n",
       "      <th>Other</th>\n",
       "      <td>848</td>\n",
       "      <td>0.063851</td>\n",
       "    </tr>\n",
       "    <tr>\n",
       "      <th>Physics</th>\n",
       "      <td>830</td>\n",
       "      <td>0.062495</td>\n",
       "    </tr>\n",
       "    <tr>\n",
       "      <th>Information technology, networking, or system administration</th>\n",
       "      <td>693</td>\n",
       "      <td>0.052180</td>\n",
       "    </tr>\n",
       "    <tr>\n",
       "      <th>A social science</th>\n",
       "      <td>531</td>\n",
       "      <td>0.039982</td>\n",
       "    </tr>\n",
       "    <tr>\n",
       "      <th>Biology</th>\n",
       "      <td>274</td>\n",
       "      <td>0.020631</td>\n",
       "    </tr>\n",
       "    <tr>\n",
       "      <th>Management information systems</th>\n",
       "      <td>237</td>\n",
       "      <td>0.017845</td>\n",
       "    </tr>\n",
       "    <tr>\n",
       "      <th>A humanities discipline</th>\n",
       "      <td>198</td>\n",
       "      <td>0.014909</td>\n",
       "    </tr>\n",
       "    <tr>\n",
       "      <th>A health science</th>\n",
       "      <td>152</td>\n",
       "      <td>0.011445</td>\n",
       "    </tr>\n",
       "    <tr>\n",
       "      <th>Psychology</th>\n",
       "      <td>137</td>\n",
       "      <td>0.010315</td>\n",
       "    </tr>\n",
       "    <tr>\n",
       "      <th>I never declared a major</th>\n",
       "      <td>65</td>\n",
       "      <td>0.004894</td>\n",
       "    </tr>\n",
       "    <tr>\n",
       "      <th>Fine arts or performing arts</th>\n",
       "      <td>57</td>\n",
       "      <td>0.004292</td>\n",
       "    </tr>\n",
       "  </tbody>\n",
       "</table>\n",
       "</div>"
      ],
      "text/plain": [
       "                                                     응답수        비율\n",
       "Computer Science                                    4397  0.331074\n",
       "Mathematics or statistics                           2220  0.167156\n",
       "Engineering (non-computer focused)                  1339  0.100821\n",
       "Electrical Engineering                              1303  0.098110\n",
       "Other                                                848  0.063851\n",
       "Physics                                              830  0.062495\n",
       "Information technology, networking, or system a...   693  0.052180\n",
       "A social science                                     531  0.039982\n",
       "Biology                                              274  0.020631\n",
       "Management information systems                       237  0.017845\n",
       "A humanities discipline                              198  0.014909\n",
       "A health science                                     152  0.011445\n",
       "Psychology                                           137  0.010315\n",
       "I never declared a major                              65  0.004894\n",
       "Fine arts or performing arts                          57  0.004292"
      ]
     },
     "execution_count": 21,
     "metadata": {},
     "output_type": "execute_result"
    }
   ],
   "source": [
    "mcq_major_count = pd.DataFrame(mcq['MajorSelect'].value_counts())\n",
    "mcq_major_percent = pd.DataFrame(mcq['MajorSelect'].value_counts(normalize=True))\n",
    "mcq_major_df = mcq_major_count.merge(mcq_major_percent, left_index=True, right_index=True)\n",
    "mcq_major_df.columns = ['응답수','비율']\n",
    "mcq_major_df"
   ]
  },
  {
   "cell_type": "markdown",
   "metadata": {
    "id": "q7dRVv_tFnsr"
   },
   "source": [
    "#전공"
   ]
  },
  {
   "cell_type": "code",
   "execution_count": 16,
   "metadata": {
    "colab": {
     "base_uri": "https://localhost:8080/",
     "height": 497
    },
    "id": "0xlsZpuIFj24",
    "outputId": "90558550-0be5-43ec-a5be-69875d00dd3c"
   },
   "outputs": [
    {
     "data": {
      "text/html": [
       "<div>\n",
       "<style scoped>\n",
       "    .dataframe tbody tr th:only-of-type {\n",
       "        vertical-align: middle;\n",
       "    }\n",
       "\n",
       "    .dataframe tbody tr th {\n",
       "        vertical-align: top;\n",
       "    }\n",
       "\n",
       "    .dataframe thead th {\n",
       "        text-align: right;\n",
       "    }\n",
       "</style>\n",
       "<table border=\"1\" class=\"dataframe\">\n",
       "  <thead>\n",
       "    <tr style=\"text-align: right;\">\n",
       "      <th></th>\n",
       "      <th>응답 수</th>\n",
       "      <th>비율</th>\n",
       "    </tr>\n",
       "  </thead>\n",
       "  <tbody>\n",
       "    <tr>\n",
       "      <th>Computer Science</th>\n",
       "      <td>4397</td>\n",
       "      <td>0.331074</td>\n",
       "    </tr>\n",
       "    <tr>\n",
       "      <th>Mathematics or statistics</th>\n",
       "      <td>2220</td>\n",
       "      <td>0.167156</td>\n",
       "    </tr>\n",
       "    <tr>\n",
       "      <th>Engineering (non-computer focused)</th>\n",
       "      <td>1339</td>\n",
       "      <td>0.100821</td>\n",
       "    </tr>\n",
       "    <tr>\n",
       "      <th>Electrical Engineering</th>\n",
       "      <td>1303</td>\n",
       "      <td>0.098110</td>\n",
       "    </tr>\n",
       "    <tr>\n",
       "      <th>Other</th>\n",
       "      <td>848</td>\n",
       "      <td>0.063851</td>\n",
       "    </tr>\n",
       "    <tr>\n",
       "      <th>Physics</th>\n",
       "      <td>830</td>\n",
       "      <td>0.062495</td>\n",
       "    </tr>\n",
       "    <tr>\n",
       "      <th>Information technology, networking, or system administration</th>\n",
       "      <td>693</td>\n",
       "      <td>0.052180</td>\n",
       "    </tr>\n",
       "    <tr>\n",
       "      <th>A social science</th>\n",
       "      <td>531</td>\n",
       "      <td>0.039982</td>\n",
       "    </tr>\n",
       "    <tr>\n",
       "      <th>Biology</th>\n",
       "      <td>274</td>\n",
       "      <td>0.020631</td>\n",
       "    </tr>\n",
       "    <tr>\n",
       "      <th>Management information systems</th>\n",
       "      <td>237</td>\n",
       "      <td>0.017845</td>\n",
       "    </tr>\n",
       "    <tr>\n",
       "      <th>A humanities discipline</th>\n",
       "      <td>198</td>\n",
       "      <td>0.014909</td>\n",
       "    </tr>\n",
       "    <tr>\n",
       "      <th>A health science</th>\n",
       "      <td>152</td>\n",
       "      <td>0.011445</td>\n",
       "    </tr>\n",
       "    <tr>\n",
       "      <th>Psychology</th>\n",
       "      <td>137</td>\n",
       "      <td>0.010315</td>\n",
       "    </tr>\n",
       "    <tr>\n",
       "      <th>I never declared a major</th>\n",
       "      <td>65</td>\n",
       "      <td>0.004894</td>\n",
       "    </tr>\n",
       "    <tr>\n",
       "      <th>Fine arts or performing arts</th>\n",
       "      <td>57</td>\n",
       "      <td>0.004292</td>\n",
       "    </tr>\n",
       "  </tbody>\n",
       "</table>\n",
       "</div>"
      ],
      "text/plain": [
       "                                                    응답 수        비율\n",
       "Computer Science                                    4397  0.331074\n",
       "Mathematics or statistics                           2220  0.167156\n",
       "Engineering (non-computer focused)                  1339  0.100821\n",
       "Electrical Engineering                              1303  0.098110\n",
       "Other                                                848  0.063851\n",
       "Physics                                              830  0.062495\n",
       "Information technology, networking, or system a...   693  0.052180\n",
       "A social science                                     531  0.039982\n",
       "Biology                                              274  0.020631\n",
       "Management information systems                       237  0.017845\n",
       "A humanities discipline                              198  0.014909\n",
       "A health science                                     152  0.011445\n",
       "Psychology                                           137  0.010315\n",
       "I never declared a major                              65  0.004894\n",
       "Fine arts or performing arts                          57  0.004292"
      ]
     },
     "execution_count": 16,
     "metadata": {},
     "output_type": "execute_result"
    }
   ],
   "source": [
    "# value_counts 를 사용하면 그룹화 된 데이터의 카운트 값을 보여준다. \n",
    "# normalize=True 옵션을 사용하면, \n",
    "# 해당 데이터가 전체 데이터에서 어느정도의 비율을 차지하는지 알 수 있다.\n",
    "mcq_major_count = pd.DataFrame(\n",
    "    mcq['MajorSelect'].value_counts())\n",
    "mcq_major_percent = pd.DataFrame(\n",
    "    mcq['MajorSelect'].value_counts(normalize=True))\n",
    "mcq_major_df = mcq_major_count.merge(\n",
    "    mcq_major_percent, left_index=True, right_index=True)\n",
    "mcq_major_df.columns = ['응답 수', '비율']\n",
    "mcq_major_df"
   ]
  },
  {
   "cell_type": "markdown",
   "metadata": {
    "id": "GRkUKsWhFrge"
   },
   "source": [
    "컴퓨터 전공자들이 33%로 가장 많으며, 다음으로 수학, 공학, 전기 공학 순이다."
   ]
  },
  {
   "cell_type": "code",
   "execution_count": null,
   "metadata": {
    "colab": {
     "base_uri": "https://localhost:8080/",
     "height": 514
    },
    "id": "n628BCmRFqKQ",
    "outputId": "e76abfec-3109-4216-dd81-76da645f1a17"
   },
   "outputs": [
    {
     "data": {
      "text/plain": [
       "<matplotlib.axes._subplots.AxesSubplot at 0x7f3cb86b81d0>"
      ]
     },
     "execution_count": 17,
     "metadata": {
      "tags": []
     },
     "output_type": "execute_result"
    },
    {
     "data": {
      "image/png": "[encoded data removed]",
      "text/plain": [
       "<Figure size 432x576 with 1 Axes>"
      ]
     },
     "metadata": {
      "tags": []
     },
     "output_type": "display_data"
    }
   ],
   "source": [
    "# 재학중인 사람들의 전공 현황\n",
    "plt.figure(figsize=(6,8))\n",
    "sns.countplot(y='MajorSelect', data=mcq)"
   ]
  },
  {
   "cell_type": "markdown",
   "metadata": {
    "id": "TZ5oUVKdFuVF"
   },
   "source": [
    "#취업 여부"
   ]
  },
  {
   "cell_type": "code",
   "execution_count": null,
   "metadata": {
    "colab": {
     "base_uri": "https://localhost:8080/",
     "height": 257
    },
    "id": "2DbZqzAoFtNf",
    "outputId": "54ec6ecc-1b25-4676-8433-8b8d231b4fd3"
   },
   "outputs": [
    {
     "data": {
      "text/html": [
       "<div>\n",
       "<style scoped>\n",
       "    .dataframe tbody tr th:only-of-type {\n",
       "        vertical-align: middle;\n",
       "    }\n",
       "\n",
       "    .dataframe tbody tr th {\n",
       "        vertical-align: top;\n",
       "    }\n",
       "\n",
       "    .dataframe thead th {\n",
       "        text-align: right;\n",
       "    }\n",
       "</style>\n",
       "<table border=\"1\" class=\"dataframe\">\n",
       "  <thead>\n",
       "    <tr style=\"text-align: right;\">\n",
       "      <th></th>\n",
       "      <th>응답 수</th>\n",
       "      <th>비율</th>\n",
       "    </tr>\n",
       "  </thead>\n",
       "  <tbody>\n",
       "    <tr>\n",
       "      <th>Employed full-time</th>\n",
       "      <td>10897</td>\n",
       "      <td>0.651890</td>\n",
       "    </tr>\n",
       "    <tr>\n",
       "      <th>Not employed, but looking for work</th>\n",
       "      <td>2110</td>\n",
       "      <td>0.126226</td>\n",
       "    </tr>\n",
       "    <tr>\n",
       "      <th>Independent contractor, freelancer, or self-employed</th>\n",
       "      <td>1330</td>\n",
       "      <td>0.079564</td>\n",
       "    </tr>\n",
       "    <tr>\n",
       "      <th>Not employed, and not looking for work</th>\n",
       "      <td>924</td>\n",
       "      <td>0.055276</td>\n",
       "    </tr>\n",
       "    <tr>\n",
       "      <th>Employed part-time</th>\n",
       "      <td>917</td>\n",
       "      <td>0.054858</td>\n",
       "    </tr>\n",
       "    <tr>\n",
       "      <th>I prefer not to say</th>\n",
       "      <td>420</td>\n",
       "      <td>0.025126</td>\n",
       "    </tr>\n",
       "    <tr>\n",
       "      <th>Retired</th>\n",
       "      <td>118</td>\n",
       "      <td>0.007059</td>\n",
       "    </tr>\n",
       "  </tbody>\n",
       "</table>\n",
       "</div>"
      ],
      "text/plain": [
       "                                                     응답 수        비율\n",
       "Employed full-time                                  10897  0.651890\n",
       "Not employed, but looking for work                   2110  0.126226\n",
       "Independent contractor, freelancer, or self-emp...   1330  0.079564\n",
       "Not employed, and not looking for work                924  0.055276\n",
       "Employed part-time                                    917  0.054858\n",
       "I prefer not to say                                   420  0.025126\n",
       "Retired                                               118  0.007059"
      ]
     },
     "execution_count": 18,
     "metadata": {
      "tags": []
     },
     "output_type": "execute_result"
    }
   ],
   "source": [
    "mcq_es_count = pd.DataFrame(mcq['EmploymentStatus'].value_counts())\n",
    "mcq_es_percent = pd.DataFrame(mcq['EmploymentStatus'].value_counts(normalize=True))\n",
    "mcq_es_df = mcq_es_count.merge(mcq_es_percent, left_index=True, right_index=True)\n",
    "mcq_es_df.columns = ['응답 수', '비율']\n",
    "mcq_es_df"
   ]
  },
  {
   "cell_type": "code",
   "execution_count": null,
   "metadata": {
    "colab": {
     "base_uri": "https://localhost:8080/",
     "height": 296
    },
    "id": "tSRWmutfFxue",
    "outputId": "0e3d340a-7908-40d2-8393-ec36dcdd0016"
   },
   "outputs": [
    {
     "data": {
      "text/plain": [
       "<matplotlib.axes._subplots.AxesSubplot at 0x7f3cb4317080>"
      ]
     },
     "execution_count": 19,
     "metadata": {
      "tags": []
     },
     "output_type": "execute_result"
    },
    {
     "data": {
      "image/png": "[encoded data removed]",
      "text/plain": [
       "<Figure size 432x288 with 1 Axes>"
      ]
     },
     "metadata": {
      "tags": []
     },
     "output_type": "display_data"
    }
   ],
   "source": [
    "sns.countplot(y='EmploymentStatus', data=mcq)"
   ]
  },
  {
   "cell_type": "markdown",
   "metadata": {
    "id": "iz8BLIdIF1XC"
   },
   "source": [
    "응답자의 대부분이 65%가 풀타임으로 일하고 있으며, 그 다음으로 구직자가 12%다."
   ]
  },
  {
   "cell_type": "markdown",
   "metadata": {
    "id": "TPqHUY4FF2O3"
   },
   "source": [
    "#프로그래밍 경험"
   ]
  },
  {
   "cell_type": "markdown",
   "metadata": {
    "id": "8vQomUP3F71s"
   },
   "source": [
    "* 'Tenure'항목은 데이터사이언스 분야에서 코딩 경험이 얼마나 되는지에 대한 질문이다. 대부분이 5년 미만이며, 특히 1~2년의 경험을 가진 사람들이 많다."
   ]
  },
  {
   "cell_type": "code",
   "execution_count": null,
   "metadata": {
    "colab": {
     "base_uri": "https://localhost:8080/",
     "height": 296
    },
    "id": "BlTmgAWTF0J4",
    "outputId": "74e3049c-a6ea-4add-d760-8df1394ca55e"
   },
   "outputs": [
    {
     "data": {
      "text/plain": [
       "<matplotlib.axes._subplots.AxesSubplot at 0x7f3cb42936d8>"
      ]
     },
     "execution_count": 20,
     "metadata": {
      "tags": []
     },
     "output_type": "execute_result"
    },
    {
     "data": {
      "image/png": "[encoded data removed]",
      "text/plain": [
       "<Figure size 432x288 with 1 Axes>"
      ]
     },
     "metadata": {
      "tags": []
     },
     "output_type": "display_data"
    }
   ],
   "source": [
    "sns.countplot(y='Tenure', data=mcq)"
   ]
  },
  {
   "cell_type": "code",
   "execution_count": null,
   "metadata": {
    "colab": {
     "base_uri": "https://localhost:8080/",
     "height": 312
    },
    "id": "CJO_vTbrF_S2",
    "outputId": "8fabceb5-2816-452d-d253-fadd4ddfbd24"
   },
   "outputs": [
    {
     "name": "stdout",
     "output_type": "stream",
     "text": [
      "The number of interviewees in Korea: 194\n"
     ]
    },
    {
     "data": {
      "image/png": "[encoded data removed]",
      "text/plain": [
       "<Figure size 432x288 with 1 Axes>"
      ]
     },
     "metadata": {
      "tags": []
     },
     "output_type": "display_data"
    }
   ],
   "source": [
    "korea = mcq.loc[(mcq['Country']=='South Korea')]\n",
    "\n",
    "print('The number of interviewees in Korea: ' + str(korea.shape[0]))\n",
    "\n",
    "sns.distplot(korea['Age'].dropna())\n",
    "plt.title('Korean')\n",
    "plt.show()"
   ]
  },
  {
   "cell_type": "code",
   "execution_count": null,
   "metadata": {
    "colab": {
     "base_uri": "https://localhost:8080/",
     "height": 137
    },
    "id": "Vb0wgFdaGBHw",
    "outputId": "84e00109-be41-4dcb-ba69-452a9bfc149c"
   },
   "outputs": [
    {
     "data": {
      "text/html": [
       "<div>\n",
       "<style scoped>\n",
       "    .dataframe tbody tr th:only-of-type {\n",
       "        vertical-align: middle;\n",
       "    }\n",
       "\n",
       "    .dataframe tbody tr th {\n",
       "        vertical-align: top;\n",
       "    }\n",
       "\n",
       "    .dataframe thead th {\n",
       "        text-align: right;\n",
       "    }\n",
       "</style>\n",
       "<table border=\"1\" class=\"dataframe\">\n",
       "  <thead>\n",
       "    <tr style=\"text-align: right;\">\n",
       "      <th></th>\n",
       "      <th>GenderSelect</th>\n",
       "    </tr>\n",
       "  </thead>\n",
       "  <tbody>\n",
       "    <tr>\n",
       "      <th>Male</th>\n",
       "      <td>156</td>\n",
       "    </tr>\n",
       "    <tr>\n",
       "      <th>Female</th>\n",
       "      <td>37</td>\n",
       "    </tr>\n",
       "    <tr>\n",
       "      <th>A different identity</th>\n",
       "      <td>1</td>\n",
       "    </tr>\n",
       "  </tbody>\n",
       "</table>\n",
       "</div>"
      ],
      "text/plain": [
       "                      GenderSelect\n",
       "Male                           156\n",
       "Female                          37\n",
       "A different identity             1"
      ]
     },
     "execution_count": 22,
     "metadata": {
      "tags": []
     },
     "output_type": "execute_result"
    }
   ],
   "source": [
    "pd.DataFrame(korea['GenderSelect'].value_counts())"
   ]
  },
  {
   "cell_type": "code",
   "execution_count": null,
   "metadata": {
    "colab": {
     "base_uri": "https://localhost:8080/",
     "height": 312
    },
    "id": "eQ9Cq-ELGDjq",
    "outputId": "4c234844-7644-4da4-fae6-3fc2c6b91228"
   },
   "outputs": [
    {
     "data": {
      "text/plain": [
       "Text(0.5, 1.0, 'Korean')"
      ]
     },
     "execution_count": 23,
     "metadata": {
      "tags": []
     },
     "output_type": "execute_result"
    },
    {
     "data": {
      "image/png": "[encoded data removed]",
      "text/plain": [
       "<Figure size 432x288 with 1 Axes>"
      ]
     },
     "metadata": {
      "tags": []
     },
     "output_type": "display_data"
    }
   ],
   "source": [
    "sns.countplot(x='GenderSelect', data=korea)\n",
    "plt.title('Korean')"
   ]
  },
  {
   "cell_type": "code",
   "execution_count": null,
   "metadata": {
    "colab": {
     "base_uri": "https://localhost:8080/",
     "height": 367
    },
    "id": "77EEgpfnGEiA",
    "outputId": "4bf0ec2d-cf97-44cf-bba2-07a69fdb6ce9"
   },
   "outputs": [
    {
     "data": {
      "text/plain": [
       "Text(0.5, 1.0, 'korean Male')"
      ]
     },
     "execution_count": 24,
     "metadata": {
      "tags": []
     },
     "output_type": "execute_result"
    },
    {
     "data": {
      "image/png": "[encoded data removed]",
      "text/plain": [
       "<Figure size 864x360 with 2 Axes>"
      ]
     },
     "metadata": {
      "tags": []
     },
     "output_type": "display_data"
    }
   ],
   "source": [
    "figure, (ax1, ax2) = plt.subplots(ncols=2)\n",
    "\n",
    "figure.set_size_inches(12,5)\n",
    "sns.distplot(korea['Age'].loc[korea['GenderSelect']=='Female'].dropna(), \n",
    "             norm_hist=False, color=sns.color_palette(\"Paired\")[4], ax=ax1)\n",
    "plt.title('korean Female')\n",
    "\n",
    "sns.distplot(korea['Age'].loc[korea['GenderSelect']=='Male'].dropna(), \n",
    "             norm_hist=False, color=sns.color_palette(\"Paired\")[0], ax=ax2)\n",
    "plt.title('korean Male')"
   ]
  },
  {
   "cell_type": "code",
   "execution_count": null,
   "metadata": {
    "colab": {
     "base_uri": "https://localhost:8080/",
     "height": 413
    },
    "id": "C97foITdGHTq",
    "outputId": "aeee9cac-5021-4073-bf08-e545336a2bc3"
   },
   "outputs": [
    {
     "data": {
      "image/png": "[encoded data removed]",
      "text/plain": [
       "<Figure size 432x288 with 1 Axes>"
      ]
     },
     "metadata": {
      "tags": []
     },
     "output_type": "display_data"
    }
   ],
   "source": [
    "sns.barplot(x=korea['EmploymentStatus'].unique(), y=korea['EmploymentStatus'].value_counts()/len(korea))\n",
    "plt.xticks(rotation=30, ha='right')\n",
    "plt.title('Employment status of the korean')\n",
    "plt.ylabel('')\n",
    "plt.show()"
   ]
  },
  {
   "cell_type": "code",
   "execution_count": null,
   "metadata": {
    "colab": {
     "base_uri": "https://localhost:8080/",
     "height": 294
    },
    "id": "hXnMgLaZGKjG",
    "outputId": "215999a5-cc28-4b49-dc30-f4a77984ceb1"
   },
   "outputs": [
    {
     "data": {
      "image/png": "[encoded data removed]",
      "text/plain": [
       "<Figure size 432x288 with 1 Axes>"
      ]
     },
     "metadata": {
      "tags": []
     },
     "output_type": "display_data"
    }
   ],
   "source": [
    "korea['StudentStatus'] = korea['StudentStatus'].fillna('No')\n",
    "sns.countplot(x='StudentStatus', data=korea)\n",
    "plt.title('korean')\n",
    "plt.show()"
   ]
  },
  {
   "cell_type": "code",
   "execution_count": null,
   "metadata": {
    "colab": {
     "base_uri": "https://localhost:8080/",
     "height": 52
    },
    "id": "ajacfQgJGOTk",
    "outputId": "61334b80-dd17-4468-a8a0-428250704a3b"
   },
   "outputs": [
    {
     "name": "stdout",
     "output_type": "stream",
     "text": [
      "(10897, 228)\n",
      "(2110, 228)\n"
     ]
    }
   ],
   "source": [
    "full_time = mcq.loc[(mcq['EmploymentStatus'] == 'Employed full-time')]\n",
    "print(full_time.shape)\n",
    "looking_for_job = mcq.loc[(\n",
    "    mcq['EmploymentStatus'] == 'Not employed, but looking for work')]\n",
    "print(looking_for_job.shape)"
   ]
  }
 ],
 "metadata": {
  "colab": {
   "collapsed_sections": [],
   "name": "kaggle_DS_FAQ_1.ipynb",
   "provenance": [],
   "toc_visible": true
  },
  "kernelspec": {
   "display_name": "Python 3",
   "language": "python",
   "name": "python3"
  },
  "language_info": {
   "codemirror_mode": {
    "name": "ipython",
    "version": 3
   },
   "file_extension": ".py",
   "mimetype": "text/x-python",
   "name": "python",
   "nbconvert_exporter": "python",
   "pygments_lexer": "ipython3",
   "version": "3.7.9"
  }
 },
 "nbformat": 4,
 "nbformat_minor": 4
}
