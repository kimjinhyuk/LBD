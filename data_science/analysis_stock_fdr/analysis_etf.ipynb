{
 "metadata": {
  "language_info": {
   "codemirror_mode": {
    "name": "ipython",
    "version": 3
   },
   "file_extension": ".py",
   "mimetype": "text/x-python",
   "name": "python",
   "nbconvert_exporter": "python",
   "pygments_lexer": "ipython3",
   "version": "3.8.8-final"
  },
  "orig_nbformat": 2,
  "kernelspec": {
   "name": "python3",
   "display_name": "Python 3.8.8 64-bit ('tf': conda)",
   "metadata": {
    "interpreter": {
     "hash": "36abe285ff8731882665f4c5209b8197457efe98c32ed56e120d6781117a0a1c"
    }
   }
  }
 },
 "nbformat": 4,
 "nbformat_minor": 2,
 "cells": [
  {
   "cell_type": "code",
   "execution_count": 12,
   "metadata": {},
   "outputs": [
    {
     "output_type": "execute_result",
     "data": {
      "text/plain": [
       "'https://finance.naver.com/api/sise/etfItemList.nhn?etfType=0&targetColumn=market_sum&sortOrder=desc'"
      ]
     },
     "metadata": {},
     "execution_count": 12
    }
   ],
   "source": [
    "#수집할 url 가져오기\n",
    "url = 'https://finance.naver.com/api/sise/etfItemList.nhn?etfType=0&targetColumn=market_sum&sortOrder=desc'\n",
    "url"
   ]
  },
  {
   "cell_type": "code",
   "execution_count": 2,
   "metadata": {},
   "outputs": [],
   "source": [
    "import pandas as pd\n",
    "import numpy as np\n",
    "import requests"
   ]
  },
  {
   "cell_type": "code",
   "execution_count": 13,
   "metadata": {},
   "outputs": [
    {
     "output_type": "execute_result",
     "data": {
      "text/plain": [
       "<Response [200]>"
      ]
     },
     "metadata": {},
     "execution_count": 13
    }
   ],
   "source": [
    "response = requests.get(url)\n",
    "response"
   ]
  },
  {
   "cell_type": "code",
   "execution_count": 20,
   "metadata": {},
   "outputs": [
    {
     "output_type": "execute_result",
     "data": {
      "text/plain": [
       "474"
      ]
     },
     "metadata": {},
     "execution_count": 20
    }
   ],
   "source": [
    "etf_json = response.json()\n",
    "etfItemList = etf_json['result']['etfItemList']\n",
    "len(etfItemList)"
   ]
  },
  {
   "cell_type": "code",
   "execution_count": 22,
   "metadata": {},
   "outputs": [
    {
     "output_type": "execute_result",
     "data": {
      "text/plain": [
       "(474, 12)"
      ]
     },
     "metadata": {},
     "execution_count": 22
    }
   ],
   "source": [
    "df = pd.DataFrame(etfItemList)\n",
    "df.shape"
   ]
  },
  {
   "cell_type": "code",
   "execution_count": 23,
   "metadata": {},
   "outputs": [
    {
     "output_type": "execute_result",
     "data": {
      "text/plain": [
       "  itemcode  etfTabCode          itemname  nowVal risefall  changeVal  \\\n",
       "0   069500           1         KODEX 200   41215        5       -260   \n",
       "1   102110           1         TIGER 200   41040        5       -295   \n",
       "2   252670           3  KODEX 200선물인버스2X    2215        2         30   \n",
       "3   153130           6        KODEX 단기채권  102725        5        -15   \n",
       "4   102780           2        KODEX 삼성그룹    9680        5       -120   \n",
       "\n",
       "   changeRate       nav  threeMonthEarnRate      quant   amonut  marketSum  \n",
       "0       -0.63   41266.0             14.1995   10741831   441008      51230  \n",
       "1       -0.71   41108.0             14.3556    1126933    46126      25629  \n",
       "2        1.37    2232.0            -27.0451  494560618  1103961      21893  \n",
       "3       -0.01  102729.0              0.1510       7549      775      19141  \n",
       "4       -1.22    9709.0              9.0100     363691     3505      16901  "
      ],
      "text/html": "<div>\n<style scoped>\n    .dataframe tbody tr th:only-of-type {\n        vertical-align: middle;\n    }\n\n    .dataframe tbody tr th {\n        vertical-align: top;\n    }\n\n    .dataframe thead th {\n        text-align: right;\n    }\n</style>\n<table border=\"1\" class=\"dataframe\">\n  <thead>\n    <tr style=\"text-align: right;\">\n      <th></th>\n      <th>itemcode</th>\n      <th>etfTabCode</th>\n      <th>itemname</th>\n      <th>nowVal</th>\n      <th>risefall</th>\n      <th>changeVal</th>\n      <th>changeRate</th>\n      <th>nav</th>\n      <th>threeMonthEarnRate</th>\n      <th>quant</th>\n      <th>amonut</th>\n      <th>marketSum</th>\n    </tr>\n  </thead>\n  <tbody>\n    <tr>\n      <th>0</th>\n      <td>069500</td>\n      <td>1</td>\n      <td>KODEX 200</td>\n      <td>41215</td>\n      <td>5</td>\n      <td>-260</td>\n      <td>-0.63</td>\n      <td>41266.0</td>\n      <td>14.1995</td>\n      <td>10741831</td>\n      <td>441008</td>\n      <td>51230</td>\n    </tr>\n    <tr>\n      <th>1</th>\n      <td>102110</td>\n      <td>1</td>\n      <td>TIGER 200</td>\n      <td>41040</td>\n      <td>5</td>\n      <td>-295</td>\n      <td>-0.71</td>\n      <td>41108.0</td>\n      <td>14.3556</td>\n      <td>1126933</td>\n      <td>46126</td>\n      <td>25629</td>\n    </tr>\n    <tr>\n      <th>2</th>\n      <td>252670</td>\n      <td>3</td>\n      <td>KODEX 200선물인버스2X</td>\n      <td>2215</td>\n      <td>2</td>\n      <td>30</td>\n      <td>1.37</td>\n      <td>2232.0</td>\n      <td>-27.0451</td>\n      <td>494560618</td>\n      <td>1103961</td>\n      <td>21893</td>\n    </tr>\n    <tr>\n      <th>3</th>\n      <td>153130</td>\n      <td>6</td>\n      <td>KODEX 단기채권</td>\n      <td>102725</td>\n      <td>5</td>\n      <td>-15</td>\n      <td>-0.01</td>\n      <td>102729.0</td>\n      <td>0.1510</td>\n      <td>7549</td>\n      <td>775</td>\n      <td>19141</td>\n    </tr>\n    <tr>\n      <th>4</th>\n      <td>102780</td>\n      <td>2</td>\n      <td>KODEX 삼성그룹</td>\n      <td>9680</td>\n      <td>5</td>\n      <td>-120</td>\n      <td>-1.22</td>\n      <td>9709.0</td>\n      <td>9.0100</td>\n      <td>363691</td>\n      <td>3505</td>\n      <td>16901</td>\n    </tr>\n  </tbody>\n</table>\n</div>"
     },
     "metadata": {},
     "execution_count": 23
    }
   ],
   "source": [
    "df.head()"
   ]
  },
  {
   "cell_type": "code",
   "execution_count": 24,
   "metadata": {},
   "outputs": [
    {
     "output_type": "execute_result",
     "data": {
      "text/plain": [
       "    itemcode  etfTabCode                    itemname  nowVal risefall  \\\n",
       "469   334700           5          KBSTAR 팔라듐선물인버스(H)    5260        2   \n",
       "470   267500           4  KBSTAR 미국장기국채선물인버스2X(합성 H)    6750        5   \n",
       "471   287300           2                KBSTAR 200건설   10895        2   \n",
       "472   285020           2              KBSTAR 200철강소재    7945        5   \n",
       "473   287320           2               KBSTAR 200산업재   10490        5   \n",
       "\n",
       "     changeVal  changeRate      nav  threeMonthEarnRate  quant  amonut  \\\n",
       "469         15        0.29      NaN             -1.2242    102       0   \n",
       "470       -100       -1.46      NaN             18.7175   9220      62   \n",
       "471         65        0.60  10882.0             19.9335   2140      23   \n",
       "472       -105       -1.30   7941.0             19.5248   8614      68   \n",
       "473       -225       -2.10  10496.0             21.4852    139       1   \n",
       "\n",
       "     marketSum  \n",
       "469         21  \n",
       "470         20  \n",
       "471         20  \n",
       "472         19  \n",
       "473         13  "
      ],
      "text/html": "<div>\n<style scoped>\n    .dataframe tbody tr th:only-of-type {\n        vertical-align: middle;\n    }\n\n    .dataframe tbody tr th {\n        vertical-align: top;\n    }\n\n    .dataframe thead th {\n        text-align: right;\n    }\n</style>\n<table border=\"1\" class=\"dataframe\">\n  <thead>\n    <tr style=\"text-align: right;\">\n      <th></th>\n      <th>itemcode</th>\n      <th>etfTabCode</th>\n      <th>itemname</th>\n      <th>nowVal</th>\n      <th>risefall</th>\n      <th>changeVal</th>\n      <th>changeRate</th>\n      <th>nav</th>\n      <th>threeMonthEarnRate</th>\n      <th>quant</th>\n      <th>amonut</th>\n      <th>marketSum</th>\n    </tr>\n  </thead>\n  <tbody>\n    <tr>\n      <th>469</th>\n      <td>334700</td>\n      <td>5</td>\n      <td>KBSTAR 팔라듐선물인버스(H)</td>\n      <td>5260</td>\n      <td>2</td>\n      <td>15</td>\n      <td>0.29</td>\n      <td>NaN</td>\n      <td>-1.2242</td>\n      <td>102</td>\n      <td>0</td>\n      <td>21</td>\n    </tr>\n    <tr>\n      <th>470</th>\n      <td>267500</td>\n      <td>4</td>\n      <td>KBSTAR 미국장기국채선물인버스2X(합성 H)</td>\n      <td>6750</td>\n      <td>5</td>\n      <td>-100</td>\n      <td>-1.46</td>\n      <td>NaN</td>\n      <td>18.7175</td>\n      <td>9220</td>\n      <td>62</td>\n      <td>20</td>\n    </tr>\n    <tr>\n      <th>471</th>\n      <td>287300</td>\n      <td>2</td>\n      <td>KBSTAR 200건설</td>\n      <td>10895</td>\n      <td>2</td>\n      <td>65</td>\n      <td>0.60</td>\n      <td>10882.0</td>\n      <td>19.9335</td>\n      <td>2140</td>\n      <td>23</td>\n      <td>20</td>\n    </tr>\n    <tr>\n      <th>472</th>\n      <td>285020</td>\n      <td>2</td>\n      <td>KBSTAR 200철강소재</td>\n      <td>7945</td>\n      <td>5</td>\n      <td>-105</td>\n      <td>-1.30</td>\n      <td>7941.0</td>\n      <td>19.5248</td>\n      <td>8614</td>\n      <td>68</td>\n      <td>19</td>\n    </tr>\n    <tr>\n      <th>473</th>\n      <td>287320</td>\n      <td>2</td>\n      <td>KBSTAR 200산업재</td>\n      <td>10490</td>\n      <td>5</td>\n      <td>-225</td>\n      <td>-2.10</td>\n      <td>10496.0</td>\n      <td>21.4852</td>\n      <td>139</td>\n      <td>1</td>\n      <td>13</td>\n    </tr>\n  </tbody>\n</table>\n</div>"
     },
     "metadata": {},
     "execution_count": 24
    }
   ],
   "source": [
    "df.tail()"
   ]
  },
  {
   "source": [
    "## 파일로 저장"
   ],
   "cell_type": "markdown",
   "metadata": {}
  },
  {
   "cell_type": "code",
   "execution_count": 27,
   "metadata": {},
   "outputs": [
    {
     "output_type": "execute_result",
     "data": {
      "text/plain": [
       "'2021-03-09'"
      ]
     },
     "metadata": {},
     "execution_count": 27
    }
   ],
   "source": [
    "#파이썬 표준 라이브러리 datatime 불러옴\n",
    "#날짜를 만들어 저장하기 위해 오늘 날짜를 구함\n",
    "import datetime\n",
    "today = datetime.datetime.today()\n",
    "today = today.strftime(\"%Y-%m-%d\")\n",
    "today"
   ]
  },
  {
   "cell_type": "code",
   "execution_count": 29,
   "metadata": {},
   "outputs": [
    {
     "output_type": "execute_result",
     "data": {
      "text/plain": [
       "'etf_2021-03-09_raw.csv'"
      ]
     },
     "metadata": {},
     "execution_count": 29
    }
   ],
   "source": [
    "#f스트링 방식으로 파일명 생성\n",
    "#etf_날짜_.csv\n",
    "file_name = f\"etf_{today}_raw.csv\"\n",
    "file_name"
   ]
  },
  {
   "cell_type": "code",
   "execution_count": 30,
   "metadata": {},
   "outputs": [],
   "source": [
    "#파일로 저장하고 불러오기\n",
    "#csv 형태로 저장. index가 저장 되지 않도록\n",
    "df.to_csv(file_name, index=False)\n"
   ]
  },
  {
   "cell_type": "code",
   "execution_count": 31,
   "metadata": {},
   "outputs": [
    {
     "output_type": "execute_result",
     "data": {
      "text/plain": [
       "     itemcode  etfTabCode                    itemname  nowVal  risefall  \\\n",
       "0       69500           1                   KODEX 200   41215         5   \n",
       "1      102110           1                   TIGER 200   41040         5   \n",
       "2      252670           3            KODEX 200선물인버스2X    2215         2   \n",
       "3      153130           6                  KODEX 단기채권  102725         5   \n",
       "4      102780           2                  KODEX 삼성그룹    9680         5   \n",
       "..        ...         ...                         ...     ...       ...   \n",
       "469    334700           5          KBSTAR 팔라듐선물인버스(H)    5260         2   \n",
       "470    267500           4  KBSTAR 미국장기국채선물인버스2X(합성 H)    6750         5   \n",
       "471    287300           2                KBSTAR 200건설   10895         2   \n",
       "472    285020           2              KBSTAR 200철강소재    7945         5   \n",
       "473    287320           2               KBSTAR 200산업재   10490         5   \n",
       "\n",
       "     changeVal  changeRate       nav  threeMonthEarnRate      quant   amonut  \\\n",
       "0         -260       -0.63   41266.0             14.1995   10741831   441008   \n",
       "1         -295       -0.71   41108.0             14.3556    1126933    46126   \n",
       "2           30        1.37    2232.0            -27.0451  494560618  1103961   \n",
       "3          -15       -0.01  102729.0              0.1510       7549      775   \n",
       "4         -120       -1.22    9709.0              9.0100     363691     3505   \n",
       "..         ...         ...       ...                 ...        ...      ...   \n",
       "469         15        0.29       NaN             -1.2242        102        0   \n",
       "470       -100       -1.46       NaN             18.7175       9220       62   \n",
       "471         65        0.60   10882.0             19.9335       2140       23   \n",
       "472       -105       -1.30    7941.0             19.5248       8614       68   \n",
       "473       -225       -2.10   10496.0             21.4852        139        1   \n",
       "\n",
       "     marketSum  \n",
       "0        51230  \n",
       "1        25629  \n",
       "2        21893  \n",
       "3        19141  \n",
       "4        16901  \n",
       "..         ...  \n",
       "469         21  \n",
       "470         20  \n",
       "471         20  \n",
       "472         19  \n",
       "473         13  \n",
       "\n",
       "[474 rows x 12 columns]"
      ],
      "text/html": "<div>\n<style scoped>\n    .dataframe tbody tr th:only-of-type {\n        vertical-align: middle;\n    }\n\n    .dataframe tbody tr th {\n        vertical-align: top;\n    }\n\n    .dataframe thead th {\n        text-align: right;\n    }\n</style>\n<table border=\"1\" class=\"dataframe\">\n  <thead>\n    <tr style=\"text-align: right;\">\n      <th></th>\n      <th>itemcode</th>\n      <th>etfTabCode</th>\n      <th>itemname</th>\n      <th>nowVal</th>\n      <th>risefall</th>\n      <th>changeVal</th>\n      <th>changeRate</th>\n      <th>nav</th>\n      <th>threeMonthEarnRate</th>\n      <th>quant</th>\n      <th>amonut</th>\n      <th>marketSum</th>\n    </tr>\n  </thead>\n  <tbody>\n    <tr>\n      <th>0</th>\n      <td>69500</td>\n      <td>1</td>\n      <td>KODEX 200</td>\n      <td>41215</td>\n      <td>5</td>\n      <td>-260</td>\n      <td>-0.63</td>\n      <td>41266.0</td>\n      <td>14.1995</td>\n      <td>10741831</td>\n      <td>441008</td>\n      <td>51230</td>\n    </tr>\n    <tr>\n      <th>1</th>\n      <td>102110</td>\n      <td>1</td>\n      <td>TIGER 200</td>\n      <td>41040</td>\n      <td>5</td>\n      <td>-295</td>\n      <td>-0.71</td>\n      <td>41108.0</td>\n      <td>14.3556</td>\n      <td>1126933</td>\n      <td>46126</td>\n      <td>25629</td>\n    </tr>\n    <tr>\n      <th>2</th>\n      <td>252670</td>\n      <td>3</td>\n      <td>KODEX 200선물인버스2X</td>\n      <td>2215</td>\n      <td>2</td>\n      <td>30</td>\n      <td>1.37</td>\n      <td>2232.0</td>\n      <td>-27.0451</td>\n      <td>494560618</td>\n      <td>1103961</td>\n      <td>21893</td>\n    </tr>\n    <tr>\n      <th>3</th>\n      <td>153130</td>\n      <td>6</td>\n      <td>KODEX 단기채권</td>\n      <td>102725</td>\n      <td>5</td>\n      <td>-15</td>\n      <td>-0.01</td>\n      <td>102729.0</td>\n      <td>0.1510</td>\n      <td>7549</td>\n      <td>775</td>\n      <td>19141</td>\n    </tr>\n    <tr>\n      <th>4</th>\n      <td>102780</td>\n      <td>2</td>\n      <td>KODEX 삼성그룹</td>\n      <td>9680</td>\n      <td>5</td>\n      <td>-120</td>\n      <td>-1.22</td>\n      <td>9709.0</td>\n      <td>9.0100</td>\n      <td>363691</td>\n      <td>3505</td>\n      <td>16901</td>\n    </tr>\n    <tr>\n      <th>...</th>\n      <td>...</td>\n      <td>...</td>\n      <td>...</td>\n      <td>...</td>\n      <td>...</td>\n      <td>...</td>\n      <td>...</td>\n      <td>...</td>\n      <td>...</td>\n      <td>...</td>\n      <td>...</td>\n      <td>...</td>\n    </tr>\n    <tr>\n      <th>469</th>\n      <td>334700</td>\n      <td>5</td>\n      <td>KBSTAR 팔라듐선물인버스(H)</td>\n      <td>5260</td>\n      <td>2</td>\n      <td>15</td>\n      <td>0.29</td>\n      <td>NaN</td>\n      <td>-1.2242</td>\n      <td>102</td>\n      <td>0</td>\n      <td>21</td>\n    </tr>\n    <tr>\n      <th>470</th>\n      <td>267500</td>\n      <td>4</td>\n      <td>KBSTAR 미국장기국채선물인버스2X(합성 H)</td>\n      <td>6750</td>\n      <td>5</td>\n      <td>-100</td>\n      <td>-1.46</td>\n      <td>NaN</td>\n      <td>18.7175</td>\n      <td>9220</td>\n      <td>62</td>\n      <td>20</td>\n    </tr>\n    <tr>\n      <th>471</th>\n      <td>287300</td>\n      <td>2</td>\n      <td>KBSTAR 200건설</td>\n      <td>10895</td>\n      <td>2</td>\n      <td>65</td>\n      <td>0.60</td>\n      <td>10882.0</td>\n      <td>19.9335</td>\n      <td>2140</td>\n      <td>23</td>\n      <td>20</td>\n    </tr>\n    <tr>\n      <th>472</th>\n      <td>285020</td>\n      <td>2</td>\n      <td>KBSTAR 200철강소재</td>\n      <td>7945</td>\n      <td>5</td>\n      <td>-105</td>\n      <td>-1.30</td>\n      <td>7941.0</td>\n      <td>19.5248</td>\n      <td>8614</td>\n      <td>68</td>\n      <td>19</td>\n    </tr>\n    <tr>\n      <th>473</th>\n      <td>287320</td>\n      <td>2</td>\n      <td>KBSTAR 200산업재</td>\n      <td>10490</td>\n      <td>5</td>\n      <td>-225</td>\n      <td>-2.10</td>\n      <td>10496.0</td>\n      <td>21.4852</td>\n      <td>139</td>\n      <td>1</td>\n      <td>13</td>\n    </tr>\n  </tbody>\n</table>\n<p>474 rows × 12 columns</p>\n</div>"
     },
     "metadata": {},
     "execution_count": 31
    }
   ],
   "source": [
    "pd.read_csv(file_name)"
   ]
  },
  {
   "cell_type": "code",
   "execution_count": 1,
   "metadata": {},
   "outputs": [
    {
     "output_type": "error",
     "ename": "NameError",
     "evalue": "name 'pd' is not defined",
     "traceback": [
      "\u001b[0;31m---------------------------------------------------------------------------\u001b[0m",
      "\u001b[0;31mNameError\u001b[0m                                 Traceback (most recent call last)",
      "\u001b[0;32m<ipython-input-1-fe6187aaa29a>\u001b[0m in \u001b[0;36m<module>\u001b[0;34m\u001b[0m\n\u001b[1;32m      1\u001b[0m \u001b[0;31m#itemcode 숫자 앞에 0이 지워진다면, dtype={\"itemcode: np.object\"}\u001b[0m\u001b[0;34m\u001b[0m\u001b[0;34m\u001b[0m\u001b[0;34m\u001b[0m\u001b[0m\n\u001b[0;32m----> 2\u001b[0;31m \u001b[0mpd\u001b[0m\u001b[0;34m.\u001b[0m\u001b[0mread_csv\u001b[0m\u001b[0;34m(\u001b[0m\u001b[0mfile_name\u001b[0m\u001b[0;34m,\u001b[0m \u001b[0mdtype\u001b[0m\u001b[0;34m=\u001b[0m\u001b[0;34m{\u001b[0m\u001b[0;34m\"itemcode\"\u001b[0m\u001b[0;34m:\u001b[0m \u001b[0mobject\u001b[0m\u001b[0;34m}\u001b[0m\u001b[0;34m)\u001b[0m\u001b[0;34m\u001b[0m\u001b[0;34m\u001b[0m\u001b[0m\n\u001b[0m",
      "\u001b[0;31mNameError\u001b[0m: name 'pd' is not defined"
     ]
    }
   ],
   "source": [
    "#itemcode 숫자 앞에 0이 지워진다면, dtype={\"itemcode: np.object\"}\n",
    "pd.read_csv(file_name, dtype={\"itemcode\": object})\n"
   ]
  },
  {
   "cell_type": "code",
   "execution_count": null,
   "metadata": {},
   "outputs": [],
   "source": []
  }
 ]
}