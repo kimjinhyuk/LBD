{
 "metadata": {
  "language_info": {
   "codemirror_mode": {
    "name": "ipython",
    "version": 3
   },
   "file_extension": ".py",
   "mimetype": "text/x-python",
   "name": "python",
   "nbconvert_exporter": "python",
   "pygments_lexer": "ipython3",
   "version": "3.8.8-final"
  },
  "orig_nbformat": 2,
  "kernelspec": {
   "name": "conda",
   "display_name": "jin_env",
   "language": "python"
  }
 },
 "nbformat": 4,
 "nbformat_minor": 2,
 "cells": [
  {
   "cell_type": "code",
   "execution_count": 1,
   "metadata": {},
   "outputs": [],
   "source": [
    "#필요한 라이브러리 \n",
    "import pandas as pd\n",
    "import numpy as np\n",
    "import requests"
   ]
  },
  {
   "cell_type": "code",
   "execution_count": 2,
   "metadata": {},
   "outputs": [
    {
     "output_type": "execute_result",
     "data": {
      "text/plain": [
       "'https://finance.naver.com/api/sise/etfItemList.nhn?etfType=0&targetColumn=market_sum&sortOrder=desc'"
      ]
     },
     "metadata": {},
     "execution_count": 2
    }
   ],
   "source": [
    "#수집할 url 가져오기\n",
    "url = 'https://finance.naver.com/api/sise/etfItemList.nhn?etfType=0&targetColumn=market_sum&sortOrder=desc'\n",
    "url"
   ]
  },
  {
   "cell_type": "code",
   "execution_count": 3,
   "metadata": {},
   "outputs": [
    {
     "output_type": "execute_result",
     "data": {
      "text/plain": [
       "<Response [200]>"
      ]
     },
     "metadata": {},
     "execution_count": 3
    }
   ],
   "source": [
    "response = requests.get(url)\n",
    "response"
   ]
  },
  {
   "cell_type": "code",
   "execution_count": 4,
   "metadata": {},
   "outputs": [
    {
     "output_type": "execute_result",
     "data": {
      "text/plain": [
       "474"
      ]
     },
     "metadata": {},
     "execution_count": 4
    }
   ],
   "source": [
    "etf_json = response.json()\n",
    "etfItemList = etf_json['result']['etfItemList']\n",
    "len(etfItemList)"
   ]
  },
  {
   "cell_type": "code",
   "execution_count": 5,
   "metadata": {},
   "outputs": [
    {
     "output_type": "execute_result",
     "data": {
      "text/plain": [
       "(474, 12)"
      ]
     },
     "metadata": {},
     "execution_count": 5
    }
   ],
   "source": [
    "df = pd.DataFrame(etfItemList)\n",
    "df.shape"
   ]
  },
  {
   "cell_type": "code",
   "execution_count": 6,
   "metadata": {},
   "outputs": [
    {
     "output_type": "execute_result",
     "data": {
      "text/plain": [
       "  itemcode  etfTabCode          itemname  nowVal risefall  changeVal  \\\n",
       "0   069500           1         KODEX 200   41855        5       -445   \n",
       "1   102110           1         TIGER 200   41715        5       -445   \n",
       "2   252670           3  KODEX 200선물인버스2X    2140        2         45   \n",
       "3   153130           6        KODEX 단기채권  102760        2         15   \n",
       "4   102780           2        KODEX 삼성그룹    9860        5        -70   \n",
       "\n",
       "   changeRate       nav  threeMonthEarnRate      quant  amonut  marketSum  \n",
       "0       -1.05   41982.0             12.7954    7362865  308011      49263  \n",
       "1       -1.06   41826.0             12.8438    1348526   56272      25279  \n",
       "2        2.15    2151.0            -25.1749  346116718  741836      21657  \n",
       "3        0.01  102755.0              0.1510      42668    4384      18722  \n",
       "4       -0.70    9889.0              7.5831     213818    2100      17186  "
      ],
      "text/html": "<div>\n<style scoped>\n    .dataframe tbody tr th:only-of-type {\n        vertical-align: middle;\n    }\n\n    .dataframe tbody tr th {\n        vertical-align: top;\n    }\n\n    .dataframe thead th {\n        text-align: right;\n    }\n</style>\n<table border=\"1\" class=\"dataframe\">\n  <thead>\n    <tr style=\"text-align: right;\">\n      <th></th>\n      <th>itemcode</th>\n      <th>etfTabCode</th>\n      <th>itemname</th>\n      <th>nowVal</th>\n      <th>risefall</th>\n      <th>changeVal</th>\n      <th>changeRate</th>\n      <th>nav</th>\n      <th>threeMonthEarnRate</th>\n      <th>quant</th>\n      <th>amonut</th>\n      <th>marketSum</th>\n    </tr>\n  </thead>\n  <tbody>\n    <tr>\n      <th>0</th>\n      <td>069500</td>\n      <td>1</td>\n      <td>KODEX 200</td>\n      <td>41855</td>\n      <td>5</td>\n      <td>-445</td>\n      <td>-1.05</td>\n      <td>41982.0</td>\n      <td>12.7954</td>\n      <td>7362865</td>\n      <td>308011</td>\n      <td>49263</td>\n    </tr>\n    <tr>\n      <th>1</th>\n      <td>102110</td>\n      <td>1</td>\n      <td>TIGER 200</td>\n      <td>41715</td>\n      <td>5</td>\n      <td>-445</td>\n      <td>-1.06</td>\n      <td>41826.0</td>\n      <td>12.8438</td>\n      <td>1348526</td>\n      <td>56272</td>\n      <td>25279</td>\n    </tr>\n    <tr>\n      <th>2</th>\n      <td>252670</td>\n      <td>3</td>\n      <td>KODEX 200선물인버스2X</td>\n      <td>2140</td>\n      <td>2</td>\n      <td>45</td>\n      <td>2.15</td>\n      <td>2151.0</td>\n      <td>-25.1749</td>\n      <td>346116718</td>\n      <td>741836</td>\n      <td>21657</td>\n    </tr>\n    <tr>\n      <th>3</th>\n      <td>153130</td>\n      <td>6</td>\n      <td>KODEX 단기채권</td>\n      <td>102760</td>\n      <td>2</td>\n      <td>15</td>\n      <td>0.01</td>\n      <td>102755.0</td>\n      <td>0.1510</td>\n      <td>42668</td>\n      <td>4384</td>\n      <td>18722</td>\n    </tr>\n    <tr>\n      <th>4</th>\n      <td>102780</td>\n      <td>2</td>\n      <td>KODEX 삼성그룹</td>\n      <td>9860</td>\n      <td>5</td>\n      <td>-70</td>\n      <td>-0.70</td>\n      <td>9889.0</td>\n      <td>7.5831</td>\n      <td>213818</td>\n      <td>2100</td>\n      <td>17186</td>\n    </tr>\n  </tbody>\n</table>\n</div>"
     },
     "metadata": {},
     "execution_count": 6
    }
   ],
   "source": [
    "df.head()"
   ]
  },
  {
   "cell_type": "code",
   "execution_count": 7,
   "metadata": {},
   "outputs": [
    {
     "output_type": "execute_result",
     "data": {
      "text/plain": [
       "    itemcode  etfTabCode            itemname  nowVal risefall  changeVal  \\\n",
       "469   287300           2        KBSTAR 200건설   11395        5        -10   \n",
       "470   334700           5  KBSTAR 팔라듐선물인버스(H)    4710        5        -45   \n",
       "471   285020           2      KBSTAR 200철강소재    7830        5        -65   \n",
       "472   287320           2       KBSTAR 200산업재   11265        2         10   \n",
       "473   152280           1        KOSEF 200 선물   18750        5       -280   \n",
       "\n",
       "     changeRate      nav  threeMonthEarnRate  quant  amonut  marketSum  \n",
       "469       -0.09  11399.0             16.7520    604       6         21  \n",
       "470       -0.95      NaN            -11.8803  15901      73         19  \n",
       "471       -0.82   7813.0             12.0171   1007       7         19  \n",
       "472        0.09  11334.0             20.8690    683       7         14  \n",
       "473       -1.47  18763.0             12.2082     62       1          8  "
      ],
      "text/html": "<div>\n<style scoped>\n    .dataframe tbody tr th:only-of-type {\n        vertical-align: middle;\n    }\n\n    .dataframe tbody tr th {\n        vertical-align: top;\n    }\n\n    .dataframe thead th {\n        text-align: right;\n    }\n</style>\n<table border=\"1\" class=\"dataframe\">\n  <thead>\n    <tr style=\"text-align: right;\">\n      <th></th>\n      <th>itemcode</th>\n      <th>etfTabCode</th>\n      <th>itemname</th>\n      <th>nowVal</th>\n      <th>risefall</th>\n      <th>changeVal</th>\n      <th>changeRate</th>\n      <th>nav</th>\n      <th>threeMonthEarnRate</th>\n      <th>quant</th>\n      <th>amonut</th>\n      <th>marketSum</th>\n    </tr>\n  </thead>\n  <tbody>\n    <tr>\n      <th>469</th>\n      <td>287300</td>\n      <td>2</td>\n      <td>KBSTAR 200건설</td>\n      <td>11395</td>\n      <td>5</td>\n      <td>-10</td>\n      <td>-0.09</td>\n      <td>11399.0</td>\n      <td>16.7520</td>\n      <td>604</td>\n      <td>6</td>\n      <td>21</td>\n    </tr>\n    <tr>\n      <th>470</th>\n      <td>334700</td>\n      <td>5</td>\n      <td>KBSTAR 팔라듐선물인버스(H)</td>\n      <td>4710</td>\n      <td>5</td>\n      <td>-45</td>\n      <td>-0.95</td>\n      <td>NaN</td>\n      <td>-11.8803</td>\n      <td>15901</td>\n      <td>73</td>\n      <td>19</td>\n    </tr>\n    <tr>\n      <th>471</th>\n      <td>285020</td>\n      <td>2</td>\n      <td>KBSTAR 200철강소재</td>\n      <td>7830</td>\n      <td>5</td>\n      <td>-65</td>\n      <td>-0.82</td>\n      <td>7813.0</td>\n      <td>12.0171</td>\n      <td>1007</td>\n      <td>7</td>\n      <td>19</td>\n    </tr>\n    <tr>\n      <th>472</th>\n      <td>287320</td>\n      <td>2</td>\n      <td>KBSTAR 200산업재</td>\n      <td>11265</td>\n      <td>2</td>\n      <td>10</td>\n      <td>0.09</td>\n      <td>11334.0</td>\n      <td>20.8690</td>\n      <td>683</td>\n      <td>7</td>\n      <td>14</td>\n    </tr>\n    <tr>\n      <th>473</th>\n      <td>152280</td>\n      <td>1</td>\n      <td>KOSEF 200 선물</td>\n      <td>18750</td>\n      <td>5</td>\n      <td>-280</td>\n      <td>-1.47</td>\n      <td>18763.0</td>\n      <td>12.2082</td>\n      <td>62</td>\n      <td>1</td>\n      <td>8</td>\n    </tr>\n  </tbody>\n</table>\n</div>"
     },
     "metadata": {},
     "execution_count": 7
    }
   ],
   "source": [
    "df.tail()"
   ]
  },
  {
   "source": [
    "## 파일로 저장"
   ],
   "cell_type": "markdown",
   "metadata": {}
  },
  {
   "cell_type": "code",
   "execution_count": 8,
   "metadata": {},
   "outputs": [
    {
     "output_type": "execute_result",
     "data": {
      "text/plain": [
       "'2021_03_20'"
      ]
     },
     "metadata": {},
     "execution_count": 8
    }
   ],
   "source": [
    "#파이썬 표준 라이브러리 datatime 불러옴\n",
    "#날짜를 만들어 저장하기 위해 오늘 날짜를 구함\n",
    "import datetime\n",
    "today = datetime.datetime.today()\n",
    "today = today.strftime(\"%Y_%m_%d\")\n",
    "today"
   ]
  },
  {
   "cell_type": "code",
   "execution_count": 9,
   "metadata": {},
   "outputs": [
    {
     "output_type": "execute_result",
     "data": {
      "text/plain": [
       "'etf_2021_03_20_raw.csv'"
      ]
     },
     "metadata": {},
     "execution_count": 9
    }
   ],
   "source": [
    "#f스트링 방식으로 파일명 생성\n",
    "#etf_날짜_.csv\n",
    "file_name = f\"etf_{today}_raw.csv\"\n",
    "file_name"
   ]
  },
  {
   "cell_type": "code",
   "execution_count": 10,
   "metadata": {},
   "outputs": [],
   "source": [
    "#파일로 저장하고 불러오기\n",
    "#csv 형태로 저장. index가 저장 되지 않도록\n",
    "df.to_csv(file_name, index=False)\n"
   ]
  },
  {
   "cell_type": "code",
   "execution_count": 29,
   "metadata": {},
   "outputs": [
    {
     "output_type": "execute_result",
     "data": {
      "text/plain": [
       "     itemcode  etfTabCode                    itemname  nowVal  risefall  \\\n",
       "0       69500           1                   KODEX 200   42270         2   \n",
       "1      102110           1                   TIGER 200   42110         2   \n",
       "2      252670           3            KODEX 200선물인버스2X    2100         5   \n",
       "3      122630           3                  KODEX 레버리지   26540         2   \n",
       "4      153130           6                  KODEX 단기채권  102730         3   \n",
       "..        ...         ...                         ...     ...       ...   \n",
       "469    334700           5          KBSTAR 팔라듐선물인버스(H)    5255         5   \n",
       "470    267500           4  KBSTAR 미국장기국채선물인버스2X(합성 H)    6790         2   \n",
       "471    287300           2                KBSTAR 200건설   11275         2   \n",
       "472    285020           2              KBSTAR 200철강소재    7830         2   \n",
       "473    287320           2               KBSTAR 200산업재   10955         2   \n",
       "\n",
       "     changeVal  changeRate       nav  threeMonthEarnRate      quant  amonut  \\\n",
       "0          455        1.09   42315.0             12.4603    4502445  190243   \n",
       "1          405        0.97   42155.0             12.6066     550345   23170   \n",
       "2          -45       -2.10    2100.0            -24.7369  352188236  740686   \n",
       "3          540        2.08   26697.0             24.1642   36576118  969567   \n",
       "4            0        0.00  102731.0              0.1315      18597    1910   \n",
       "..         ...         ...       ...                 ...        ...     ...   \n",
       "469        -40       -0.76       NaN             -0.0944        471       2   \n",
       "470         70        1.04       NaN             17.7914       7070      47   \n",
       "471        295        2.69   11310.0             10.7971       1270      14   \n",
       "472         20        0.26    7865.0              9.4604       2407      18   \n",
       "473        195        1.81   10964.0             16.4502        198       2   \n",
       "\n",
       "     marketSum  \n",
       "0        52943  \n",
       "1        26424  \n",
       "2        19345  \n",
       "3        19215  \n",
       "4        19113  \n",
       "..         ...  \n",
       "469         21  \n",
       "470         20  \n",
       "471         20  \n",
       "472         19  \n",
       "473         13  \n",
       "\n",
       "[474 rows x 12 columns]"
      ],
      "text/html": "<div>\n<style scoped>\n    .dataframe tbody tr th:only-of-type {\n        vertical-align: middle;\n    }\n\n    .dataframe tbody tr th {\n        vertical-align: top;\n    }\n\n    .dataframe thead th {\n        text-align: right;\n    }\n</style>\n<table border=\"1\" class=\"dataframe\">\n  <thead>\n    <tr style=\"text-align: right;\">\n      <th></th>\n      <th>itemcode</th>\n      <th>etfTabCode</th>\n      <th>itemname</th>\n      <th>nowVal</th>\n      <th>risefall</th>\n      <th>changeVal</th>\n      <th>changeRate</th>\n      <th>nav</th>\n      <th>threeMonthEarnRate</th>\n      <th>quant</th>\n      <th>amonut</th>\n      <th>marketSum</th>\n    </tr>\n  </thead>\n  <tbody>\n    <tr>\n      <th>0</th>\n      <td>69500</td>\n      <td>1</td>\n      <td>KODEX 200</td>\n      <td>42270</td>\n      <td>2</td>\n      <td>455</td>\n      <td>1.09</td>\n      <td>42315.0</td>\n      <td>12.4603</td>\n      <td>4502445</td>\n      <td>190243</td>\n      <td>52943</td>\n    </tr>\n    <tr>\n      <th>1</th>\n      <td>102110</td>\n      <td>1</td>\n      <td>TIGER 200</td>\n      <td>42110</td>\n      <td>2</td>\n      <td>405</td>\n      <td>0.97</td>\n      <td>42155.0</td>\n      <td>12.6066</td>\n      <td>550345</td>\n      <td>23170</td>\n      <td>26424</td>\n    </tr>\n    <tr>\n      <th>2</th>\n      <td>252670</td>\n      <td>3</td>\n      <td>KODEX 200선물인버스2X</td>\n      <td>2100</td>\n      <td>5</td>\n      <td>-45</td>\n      <td>-2.10</td>\n      <td>2100.0</td>\n      <td>-24.7369</td>\n      <td>352188236</td>\n      <td>740686</td>\n      <td>19345</td>\n    </tr>\n    <tr>\n      <th>3</th>\n      <td>122630</td>\n      <td>3</td>\n      <td>KODEX 레버리지</td>\n      <td>26540</td>\n      <td>2</td>\n      <td>540</td>\n      <td>2.08</td>\n      <td>26697.0</td>\n      <td>24.1642</td>\n      <td>36576118</td>\n      <td>969567</td>\n      <td>19215</td>\n    </tr>\n    <tr>\n      <th>4</th>\n      <td>153130</td>\n      <td>6</td>\n      <td>KODEX 단기채권</td>\n      <td>102730</td>\n      <td>3</td>\n      <td>0</td>\n      <td>0.00</td>\n      <td>102731.0</td>\n      <td>0.1315</td>\n      <td>18597</td>\n      <td>1910</td>\n      <td>19113</td>\n    </tr>\n    <tr>\n      <th>...</th>\n      <td>...</td>\n      <td>...</td>\n      <td>...</td>\n      <td>...</td>\n      <td>...</td>\n      <td>...</td>\n      <td>...</td>\n      <td>...</td>\n      <td>...</td>\n      <td>...</td>\n      <td>...</td>\n      <td>...</td>\n    </tr>\n    <tr>\n      <th>469</th>\n      <td>334700</td>\n      <td>5</td>\n      <td>KBSTAR 팔라듐선물인버스(H)</td>\n      <td>5255</td>\n      <td>5</td>\n      <td>-40</td>\n      <td>-0.76</td>\n      <td>NaN</td>\n      <td>-0.0944</td>\n      <td>471</td>\n      <td>2</td>\n      <td>21</td>\n    </tr>\n    <tr>\n      <th>470</th>\n      <td>267500</td>\n      <td>4</td>\n      <td>KBSTAR 미국장기국채선물인버스2X(합성 H)</td>\n      <td>6790</td>\n      <td>2</td>\n      <td>70</td>\n      <td>1.04</td>\n      <td>NaN</td>\n      <td>17.7914</td>\n      <td>7070</td>\n      <td>47</td>\n      <td>20</td>\n    </tr>\n    <tr>\n      <th>471</th>\n      <td>287300</td>\n      <td>2</td>\n      <td>KBSTAR 200건설</td>\n      <td>11275</td>\n      <td>2</td>\n      <td>295</td>\n      <td>2.69</td>\n      <td>11310.0</td>\n      <td>10.7971</td>\n      <td>1270</td>\n      <td>14</td>\n      <td>20</td>\n    </tr>\n    <tr>\n      <th>472</th>\n      <td>285020</td>\n      <td>2</td>\n      <td>KBSTAR 200철강소재</td>\n      <td>7830</td>\n      <td>2</td>\n      <td>20</td>\n      <td>0.26</td>\n      <td>7865.0</td>\n      <td>9.4604</td>\n      <td>2407</td>\n      <td>18</td>\n      <td>19</td>\n    </tr>\n    <tr>\n      <th>473</th>\n      <td>287320</td>\n      <td>2</td>\n      <td>KBSTAR 200산업재</td>\n      <td>10955</td>\n      <td>2</td>\n      <td>195</td>\n      <td>1.81</td>\n      <td>10964.0</td>\n      <td>16.4502</td>\n      <td>198</td>\n      <td>2</td>\n      <td>13</td>\n    </tr>\n  </tbody>\n</table>\n<p>474 rows × 12 columns</p>\n</div>"
     },
     "metadata": {},
     "execution_count": 29
    }
   ],
   "source": [
    "pd.read_csv(file_name)"
   ]
  },
  {
   "cell_type": "code",
   "execution_count": 36,
   "metadata": {},
   "outputs": [
    {
     "output_type": "execute_result",
     "data": {
      "text/plain": [
       "    itemcode  etfTabCode                    itemname  nowVal  risefall  \\\n",
       "0     069500           1                   KODEX 200   42270         2   \n",
       "1     102110           1                   TIGER 200   42110         2   \n",
       "2     252670           3            KODEX 200선물인버스2X    2100         5   \n",
       "3     122630           3                  KODEX 레버리지   26540         2   \n",
       "4     153130           6                  KODEX 단기채권  102730         3   \n",
       "..       ...         ...                         ...     ...       ...   \n",
       "469   334700           5          KBSTAR 팔라듐선물인버스(H)    5255         5   \n",
       "470   267500           4  KBSTAR 미국장기국채선물인버스2X(합성 H)    6790         2   \n",
       "471   287300           2                KBSTAR 200건설   11275         2   \n",
       "472   285020           2              KBSTAR 200철강소재    7830         2   \n",
       "473   287320           2               KBSTAR 200산업재   10955         2   \n",
       "\n",
       "     changeVal  changeRate       nav  threeMonthEarnRate      quant  amonut  \\\n",
       "0          455        1.09   42315.0             12.4603    4502445  190243   \n",
       "1          405        0.97   42155.0             12.6066     550345   23170   \n",
       "2          -45       -2.10    2100.0            -24.7369  352188236  740686   \n",
       "3          540        2.08   26697.0             24.1642   36576118  969567   \n",
       "4            0        0.00  102731.0              0.1315      18597    1910   \n",
       "..         ...         ...       ...                 ...        ...     ...   \n",
       "469        -40       -0.76       NaN             -0.0944        471       2   \n",
       "470         70        1.04       NaN             17.7914       7070      47   \n",
       "471        295        2.69   11310.0             10.7971       1270      14   \n",
       "472         20        0.26    7865.0              9.4604       2407      18   \n",
       "473        195        1.81   10964.0             16.4502        198       2   \n",
       "\n",
       "     marketSum  \n",
       "0        52943  \n",
       "1        26424  \n",
       "2        19345  \n",
       "3        19215  \n",
       "4        19113  \n",
       "..         ...  \n",
       "469         21  \n",
       "470         20  \n",
       "471         20  \n",
       "472         19  \n",
       "473         13  \n",
       "\n",
       "[474 rows x 12 columns]"
      ],
      "text/html": "<div>\n<style scoped>\n    .dataframe tbody tr th:only-of-type {\n        vertical-align: middle;\n    }\n\n    .dataframe tbody tr th {\n        vertical-align: top;\n    }\n\n    .dataframe thead th {\n        text-align: right;\n    }\n</style>\n<table border=\"1\" class=\"dataframe\">\n  <thead>\n    <tr style=\"text-align: right;\">\n      <th></th>\n      <th>itemcode</th>\n      <th>etfTabCode</th>\n      <th>itemname</th>\n      <th>nowVal</th>\n      <th>risefall</th>\n      <th>changeVal</th>\n      <th>changeRate</th>\n      <th>nav</th>\n      <th>threeMonthEarnRate</th>\n      <th>quant</th>\n      <th>amonut</th>\n      <th>marketSum</th>\n    </tr>\n  </thead>\n  <tbody>\n    <tr>\n      <th>0</th>\n      <td>069500</td>\n      <td>1</td>\n      <td>KODEX 200</td>\n      <td>42270</td>\n      <td>2</td>\n      <td>455</td>\n      <td>1.09</td>\n      <td>42315.0</td>\n      <td>12.4603</td>\n      <td>4502445</td>\n      <td>190243</td>\n      <td>52943</td>\n    </tr>\n    <tr>\n      <th>1</th>\n      <td>102110</td>\n      <td>1</td>\n      <td>TIGER 200</td>\n      <td>42110</td>\n      <td>2</td>\n      <td>405</td>\n      <td>0.97</td>\n      <td>42155.0</td>\n      <td>12.6066</td>\n      <td>550345</td>\n      <td>23170</td>\n      <td>26424</td>\n    </tr>\n    <tr>\n      <th>2</th>\n      <td>252670</td>\n      <td>3</td>\n      <td>KODEX 200선물인버스2X</td>\n      <td>2100</td>\n      <td>5</td>\n      <td>-45</td>\n      <td>-2.10</td>\n      <td>2100.0</td>\n      <td>-24.7369</td>\n      <td>352188236</td>\n      <td>740686</td>\n      <td>19345</td>\n    </tr>\n    <tr>\n      <th>3</th>\n      <td>122630</td>\n      <td>3</td>\n      <td>KODEX 레버리지</td>\n      <td>26540</td>\n      <td>2</td>\n      <td>540</td>\n      <td>2.08</td>\n      <td>26697.0</td>\n      <td>24.1642</td>\n      <td>36576118</td>\n      <td>969567</td>\n      <td>19215</td>\n    </tr>\n    <tr>\n      <th>4</th>\n      <td>153130</td>\n      <td>6</td>\n      <td>KODEX 단기채권</td>\n      <td>102730</td>\n      <td>3</td>\n      <td>0</td>\n      <td>0.00</td>\n      <td>102731.0</td>\n      <td>0.1315</td>\n      <td>18597</td>\n      <td>1910</td>\n      <td>19113</td>\n    </tr>\n    <tr>\n      <th>...</th>\n      <td>...</td>\n      <td>...</td>\n      <td>...</td>\n      <td>...</td>\n      <td>...</td>\n      <td>...</td>\n      <td>...</td>\n      <td>...</td>\n      <td>...</td>\n      <td>...</td>\n      <td>...</td>\n      <td>...</td>\n    </tr>\n    <tr>\n      <th>469</th>\n      <td>334700</td>\n      <td>5</td>\n      <td>KBSTAR 팔라듐선물인버스(H)</td>\n      <td>5255</td>\n      <td>5</td>\n      <td>-40</td>\n      <td>-0.76</td>\n      <td>NaN</td>\n      <td>-0.0944</td>\n      <td>471</td>\n      <td>2</td>\n      <td>21</td>\n    </tr>\n    <tr>\n      <th>470</th>\n      <td>267500</td>\n      <td>4</td>\n      <td>KBSTAR 미국장기국채선물인버스2X(합성 H)</td>\n      <td>6790</td>\n      <td>2</td>\n      <td>70</td>\n      <td>1.04</td>\n      <td>NaN</td>\n      <td>17.7914</td>\n      <td>7070</td>\n      <td>47</td>\n      <td>20</td>\n    </tr>\n    <tr>\n      <th>471</th>\n      <td>287300</td>\n      <td>2</td>\n      <td>KBSTAR 200건설</td>\n      <td>11275</td>\n      <td>2</td>\n      <td>295</td>\n      <td>2.69</td>\n      <td>11310.0</td>\n      <td>10.7971</td>\n      <td>1270</td>\n      <td>14</td>\n      <td>20</td>\n    </tr>\n    <tr>\n      <th>472</th>\n      <td>285020</td>\n      <td>2</td>\n      <td>KBSTAR 200철강소재</td>\n      <td>7830</td>\n      <td>2</td>\n      <td>20</td>\n      <td>0.26</td>\n      <td>7865.0</td>\n      <td>9.4604</td>\n      <td>2407</td>\n      <td>18</td>\n      <td>19</td>\n    </tr>\n    <tr>\n      <th>473</th>\n      <td>287320</td>\n      <td>2</td>\n      <td>KBSTAR 200산업재</td>\n      <td>10955</td>\n      <td>2</td>\n      <td>195</td>\n      <td>1.81</td>\n      <td>10964.0</td>\n      <td>16.4502</td>\n      <td>198</td>\n      <td>2</td>\n      <td>13</td>\n    </tr>\n  </tbody>\n</table>\n<p>474 rows × 12 columns</p>\n</div>"
     },
     "metadata": {},
     "execution_count": 36
    }
   ],
   "source": [
    "#itemcode 숫자 앞에 0이 지워진다면, dtype={\"itemcode\": np.object}\n",
    "df = pd.read_csv(file_name, dtype={\"itemcode\": np.object_})\n",
    "df"
   ]
  },
  {
   "cell_type": "code",
   "execution_count": 37,
   "metadata": {},
   "outputs": [
    {
     "output_type": "execute_result",
     "data": {
      "text/plain": [
       "       etfTabCode         nowVal    risefall    changeVal  changeRate  \\\n",
       "count  474.000000     474.000000  474.000000   474.000000  474.000000   \n",
       "mean     3.251055   23015.791139    2.632911   136.086498    0.783629   \n",
       "std      1.837549   25181.225045    1.177777   239.182962    1.107666   \n",
       "min      1.000000    2085.000000    2.000000 -1030.000000   -2.560000   \n",
       "25%      2.000000   10460.000000    2.000000     5.000000    0.000000   \n",
       "50%      2.000000   13485.000000    2.000000   115.000000    0.910000   \n",
       "75%      4.000000   20535.000000    2.000000   223.750000    1.400000   \n",
       "max      7.000000  128020.000000    5.000000  2715.000000    5.520000   \n",
       "\n",
       "                 nav  threeMonthEarnRate         quant         amonut  \\\n",
       "count     346.000000          461.000000  4.740000e+02     474.000000   \n",
       "mean    25726.682081            6.568241  1.085338e+06    6245.016878   \n",
       "std     27729.877304           10.367265  1.644277e+07   58058.464921   \n",
       "min      2083.000000          -28.923100  0.000000e+00       0.000000   \n",
       "25%     10795.500000            0.168600  3.355000e+02       6.000000   \n",
       "50%     14180.500000            8.047600  4.489500e+03      59.000000   \n",
       "75%     25381.500000           12.504700  3.407225e+04     508.250000   \n",
       "max    127851.000000           44.699500  3.521882e+08  969567.000000   \n",
       "\n",
       "          marketSum  \n",
       "count    474.000000  \n",
       "mean    1202.329114  \n",
       "std     3812.178734  \n",
       "min       13.000000  \n",
       "25%       74.000000  \n",
       "50%      153.000000  \n",
       "75%      604.000000  \n",
       "max    52943.000000  "
      ],
      "text/html": "<div>\n<style scoped>\n    .dataframe tbody tr th:only-of-type {\n        vertical-align: middle;\n    }\n\n    .dataframe tbody tr th {\n        vertical-align: top;\n    }\n\n    .dataframe thead th {\n        text-align: right;\n    }\n</style>\n<table border=\"1\" class=\"dataframe\">\n  <thead>\n    <tr style=\"text-align: right;\">\n      <th></th>\n      <th>etfTabCode</th>\n      <th>nowVal</th>\n      <th>risefall</th>\n      <th>changeVal</th>\n      <th>changeRate</th>\n      <th>nav</th>\n      <th>threeMonthEarnRate</th>\n      <th>quant</th>\n      <th>amonut</th>\n      <th>marketSum</th>\n    </tr>\n  </thead>\n  <tbody>\n    <tr>\n      <th>count</th>\n      <td>474.000000</td>\n      <td>474.000000</td>\n      <td>474.000000</td>\n      <td>474.000000</td>\n      <td>474.000000</td>\n      <td>346.000000</td>\n      <td>461.000000</td>\n      <td>4.740000e+02</td>\n      <td>474.000000</td>\n      <td>474.000000</td>\n    </tr>\n    <tr>\n      <th>mean</th>\n      <td>3.251055</td>\n      <td>23015.791139</td>\n      <td>2.632911</td>\n      <td>136.086498</td>\n      <td>0.783629</td>\n      <td>25726.682081</td>\n      <td>6.568241</td>\n      <td>1.085338e+06</td>\n      <td>6245.016878</td>\n      <td>1202.329114</td>\n    </tr>\n    <tr>\n      <th>std</th>\n      <td>1.837549</td>\n      <td>25181.225045</td>\n      <td>1.177777</td>\n      <td>239.182962</td>\n      <td>1.107666</td>\n      <td>27729.877304</td>\n      <td>10.367265</td>\n      <td>1.644277e+07</td>\n      <td>58058.464921</td>\n      <td>3812.178734</td>\n    </tr>\n    <tr>\n      <th>min</th>\n      <td>1.000000</td>\n      <td>2085.000000</td>\n      <td>2.000000</td>\n      <td>-1030.000000</td>\n      <td>-2.560000</td>\n      <td>2083.000000</td>\n      <td>-28.923100</td>\n      <td>0.000000e+00</td>\n      <td>0.000000</td>\n      <td>13.000000</td>\n    </tr>\n    <tr>\n      <th>25%</th>\n      <td>2.000000</td>\n      <td>10460.000000</td>\n      <td>2.000000</td>\n      <td>5.000000</td>\n      <td>0.000000</td>\n      <td>10795.500000</td>\n      <td>0.168600</td>\n      <td>3.355000e+02</td>\n      <td>6.000000</td>\n      <td>74.000000</td>\n    </tr>\n    <tr>\n      <th>50%</th>\n      <td>2.000000</td>\n      <td>13485.000000</td>\n      <td>2.000000</td>\n      <td>115.000000</td>\n      <td>0.910000</td>\n      <td>14180.500000</td>\n      <td>8.047600</td>\n      <td>4.489500e+03</td>\n      <td>59.000000</td>\n      <td>153.000000</td>\n    </tr>\n    <tr>\n      <th>75%</th>\n      <td>4.000000</td>\n      <td>20535.000000</td>\n      <td>2.000000</td>\n      <td>223.750000</td>\n      <td>1.400000</td>\n      <td>25381.500000</td>\n      <td>12.504700</td>\n      <td>3.407225e+04</td>\n      <td>508.250000</td>\n      <td>604.000000</td>\n    </tr>\n    <tr>\n      <th>max</th>\n      <td>7.000000</td>\n      <td>128020.000000</td>\n      <td>5.000000</td>\n      <td>2715.000000</td>\n      <td>5.520000</td>\n      <td>127851.000000</td>\n      <td>44.699500</td>\n      <td>3.521882e+08</td>\n      <td>969567.000000</td>\n      <td>52943.000000</td>\n    </tr>\n  </tbody>\n</table>\n</div>"
     },
     "metadata": {},
     "execution_count": 37
    }
   ],
   "source": []
  },
  {
   "cell_type": "code",
   "execution_count": null,
   "metadata": {},
   "outputs": [],
   "source": []
  }
 ]
}