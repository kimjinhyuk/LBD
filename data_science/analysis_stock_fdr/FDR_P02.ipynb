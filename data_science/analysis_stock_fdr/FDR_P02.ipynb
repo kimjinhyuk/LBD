{
 "metadata": {
  "language_info": {
   "codemirror_mode": {
    "name": "ipython",
    "version": 3
   },
   "file_extension": ".py",
   "mimetype": "text/x-python",
   "name": "python",
   "nbconvert_exporter": "python",
   "pygments_lexer": "ipython3",
   "version": "3.8.8-final"
  },
  "orig_nbformat": 2,
  "kernelspec": {
   "name": "conda",
   "display_name": "jin_env",
   "language": "python"
  }
 },
 "nbformat": 4,
 "nbformat_minor": 2,
 "cells": [
  {
   "cell_type": "code",
   "execution_count": 1,
   "metadata": {},
   "outputs": [],
   "source": [
    "#데이터 분석을 위한 pandas, 수치계산을 위한 numpy 라이브러리 로드\n",
    "import pandas as pd\n",
    "import numpy as np\n",
    "import seaborn as sns\n",
    "import matplotlib.pyplot as plt\n",
    "import matplotlib as mpl\n"
   ]
  },
  {
   "cell_type": "code",
   "execution_count": 10,
   "metadata": {},
   "outputs": [
    {
     "output_type": "execute_result",
     "data": {
      "text/plain": [
       "'0.11.1'"
      ]
     },
     "metadata": {},
     "execution_count": 10
    }
   ],
   "source": [
    "sns.__version__"
   ]
  },
  {
   "cell_type": "code",
   "execution_count": 2,
   "metadata": {},
   "outputs": [
    {
     "output_type": "stream",
     "name": "stdout",
     "text": [
      "버전:  3.3.4\n설치 위치:  /usr/local/Caskroom/miniforge/base/envs/tf/lib/python3.8/site-packages/matplotlib/__init__.py\n설정 위치:  /Users/jin/.matplotlib\n캐시 위치:  /Users/jin/.matplotlib\n"
     ]
    }
   ],
   "source": [
    "print ('버전: ', mpl.__version__)\n",
    "print ('설치 위치: ', mpl.__file__)\n",
    "print ('설정 위치: ', mpl.get_configdir())\n",
    "print ('캐시 위치: ', mpl.get_cachedir())"
   ]
  },
  {
   "cell_type": "code",
   "execution_count": 12,
   "metadata": {},
   "outputs": [
    {
     "output_type": "execute_result",
     "data": {
      "text/plain": [
       "'1.2.3'"
      ]
     },
     "metadata": {},
     "execution_count": 12
    }
   ],
   "source": [
    "pd.__version__"
   ]
  },
  {
   "cell_type": "code",
   "execution_count": 10,
   "metadata": {},
   "outputs": [],
   "source": [
    "#시각화를 위한 폰트 설정\n",
    "def get_font_family():\n",
    "    import platform\n",
    "    system_name = platform.system()\n",
    "\n",
    "    if system_name == \"Darwin\":\n",
    "        font_family = \"AppleGothic\"\n",
    "    elif system_name == \"Windows\":\n",
    "        font_family = \"Malgun Gothic\"\n",
    "    else:\n",
    "        !apt-get update -qq\n",
    "        !apt-get install fonts-nanum -qq > /dev/null\n",
    "\n",
    "        import matplotlib.font_manager as fm\n",
    "\n",
    "        fontpath = '/usr/share/fonts/truetype/nanum/NanumBarunGothc.ttf'\n",
    "        font = fm.FontProperties(fname=fontpath, size=9)\n",
    "        fm._rebuild()\n",
    "        font_family = \"NanumBarunGothc\"\n",
    "    return font_family"
   ]
  },
  {
   "cell_type": "code",
   "execution_count": 12,
   "metadata": {},
   "outputs": [
    {
     "output_type": "execute_result",
     "data": {
      "text/plain": [
       "'AppleGotic'"
      ]
     },
     "metadata": {},
     "execution_count": 12
    }
   ],
   "source": [
    "font_family = get_font_family()\n",
    "font_family\n",
    "# import matplotlib.font_manager as fm"
   ]
  },
  {
   "cell_type": "code",
   "execution_count": 17,
   "metadata": {},
   "outputs": [],
   "source": [
    "# 글씨 선명하게 출력하는 설정\n",
    "# %config InlineBackend.figure_format = 'retina'\n",
    "#폰트 설정\n",
    "plt.rc('font', family='AppleGothic')\n",
    "# plt.rc('axes', unicode_minus=False)"
   ]
  },
  {
   "source": [
    "pd.Series([1,3,5,7,9]).plot(title=\"한글\")"
   ],
   "cell_type": "code",
   "metadata": {},
   "execution_count": 18,
   "outputs": [
    {
     "output_type": "execute_result",
     "data": {
      "text/plain": [
       "<AxesSubplot:title={'center':'한글'}>"
      ]
     },
     "metadata": {},
     "execution_count": 18
    },
    {
     "output_type": "display_data",
     "data": {
      "text/plain": "<Figure size 432x288 with 1 Axes>",
      "image/svg+xml": "<?xml version=\"1.0\" encoding=\"utf-8\" standalone=\"no\"?>\n<!DOCTYPE svg PUBLIC \"-//W3C//DTD SVG 1.1//EN\"\n  \"http://www.w3.org/Graphics/SVG/1.1/DTD/svg11.dtd\">\n<!-- Created with matplotlib (https://matplotlib.org/) -->\n<svg height=\"263.809687pt\" version=\"1.1\" viewBox=\"0 0 363 263.809687\" width=\"363pt\" xmlns=\"http://www.w3.org/2000/svg\" xmlns:xlink=\"http://www.w3.org/1999/xlink\">\n <metadata>\n  <rdf:RDF xmlns:cc=\"http://creativecommons.org/ns#\" xmlns:dc=\"http://purl.org/dc/elements/1.1/\" xmlns:rdf=\"http://www.w3.org/1999/02/22-rdf-syntax-ns#\">\n   <cc:Work>\n    <dc:type rdf:resource=\"http://purl.org/dc/dcmitype/StillImage\"/>\n    <dc:date>2021-03-12T14:00:58.247971</dc:date>\n    <dc:format>image/svg+xml</dc:format>\n    <dc:creator>\n     <cc:Agent>\n      <dc:title>Matplotlib v3.3.4, https://matplotlib.org/</dc:title>\n     </cc:Agent>\n    </dc:creator>\n   </cc:Work>\n  </rdf:RDF>\n </metadata>\n <defs>\n  <style type=\"text/css\">*{stroke-linecap:butt;stroke-linejoin:round;}</style>\n </defs>\n <g id=\"figure_1\">\n  <g id=\"patch_1\">\n   <path d=\"M 0 263.809687 \nL 363 263.809687 \nL 363 0 \nL 0 0 \nz\n\" style=\"fill:none;\"/>\n  </g>\n  <g id=\"axes_1\">\n   <g id=\"patch_2\">\n    <path d=\"M 21 240.04875 \nL 355.8 240.04875 \nL 355.8 22.60875 \nL 21 22.60875 \nz\n\" style=\"fill:#ffffff;\"/>\n   </g>\n   <g id=\"matplotlib.axis_1\">\n    <g id=\"xtick_1\">\n     <g id=\"line2d_1\">\n      <defs>\n       <path d=\"M 0 0 \nL 0 3.5 \n\" id=\"m0160fd75e7\" style=\"stroke:#000000;stroke-width:0.8;\"/>\n      </defs>\n      <g>\n       <use style=\"stroke:#000000;stroke-width:0.8;\" x=\"36.218182\" xlink:href=\"#m0160fd75e7\" y=\"240.04875\"/>\n      </g>\n     </g>\n     <g id=\"text_1\">\n      <!-- 0.0 -->\n      <g transform=\"translate(27.693182 254.889375)scale(0.1 -0.1)\">\n       <defs>\n        <path d=\"M 34.796875 -1.296875 \nQ 22.09375 -1.296875 14.59375 9 \nQ 7.203125 19.203125 7.203125 37.296875 \nQ 7.203125 55.5 15.203125 65.90625 \nQ 22.703125 75.90625 34.703125 75.90625 \nQ 47.296875 75.90625 54.40625 65.203125 \nQ 61.796875 54.59375 61.796875 37.40625 \nQ 61.796875 19.5 54.09375 9.09375 \nQ 46.5 -1.296875 34.796875 -1.296875 \nz\nM 34 5.40625 \nQ 44.703125 5.40625 50 15.5 \nQ 54.09375 24 54.09375 37.5 \nQ 54.09375 51.796875 49.40625 60.296875 \nQ 44.09375 69.203125 34.59375 69.203125 \nQ 24.59375 69.203125 19.5 59.703125 \nQ 15 51.296875 15 37.09375 \nQ 15 23.09375 19.5 14.703125 \nQ 24.59375 5.40625 34 5.40625 \nz\n\" id=\"AppleGothic-48\"/>\n        <path d=\"M 14.296875 -0.296875 \nQ 11.90625 -0.296875 10.203125 1.703125 \nQ 8.5 3.703125 8.5 6.59375 \nQ 8.5 9.59375 10.25 11.640625 \nQ 12 13.703125 14.296875 13.703125 \nQ 16.5 13.703125 18.25 11.84375 \nQ 20 10 20 6.796875 \nQ 20 3.796875 18.296875 1.75 \nQ 16.59375 -0.296875 14.296875 -0.296875 \nz\n\" id=\"AppleGothic-46\"/>\n       </defs>\n       <use xlink:href=\"#AppleGothic-48\"/>\n       <use x=\"67.999985\" xlink:href=\"#AppleGothic-46\"/>\n       <use x=\"102.499969\" xlink:href=\"#AppleGothic-48\"/>\n      </g>\n     </g>\n    </g>\n    <g id=\"xtick_2\">\n     <g id=\"line2d_2\">\n      <g>\n       <use style=\"stroke:#000000;stroke-width:0.8;\" x=\"74.263636\" xlink:href=\"#m0160fd75e7\" y=\"240.04875\"/>\n      </g>\n     </g>\n     <g id=\"text_2\">\n      <!-- 0.5 -->\n      <g transform=\"translate(65.738636 254.889375)scale(0.1 -0.1)\">\n       <defs>\n        <path d=\"M 9.703125 74.5 \nL 54.5 74.5 \nL 54.5 67.796875 \nL 17 67.796875 \nL 17 42.296875 \nQ 18.5 43.296875 20.203125 44.046875 \nQ 21.90625 44.796875 23.59375 45.5 \nQ 29.09375 47.5 35.296875 47.5 \nQ 46.703125 47.5 53.5 40.703125 \nQ 59.796875 34.40625 59.796875 24.703125 \nQ 59.796875 13.59375 51.5 6.203125 \nQ 43.203125 -1.296875 31.40625 -1.296875 \nQ 25.796875 -1.296875 19.5 0.703125 \nQ 18.09375 1.203125 15.640625 2.140625 \nQ 13.203125 3.09375 9.703125 4.703125 \nL 9.703125 13.09375 \nQ 14.5 10 18.796875 8.203125 \nQ 22 6.796875 25.203125 6.09375 \nQ 28.40625 5.40625 31.40625 5.40625 \nQ 39.5 5.40625 45.40625 10.40625 \nQ 51.90625 15.796875 51.90625 24 \nQ 51.90625 31.09375 47.203125 35.796875 \nQ 42.203125 40.796875 33.5 40.796875 \nQ 29 40.796875 24.796875 39.5 \nQ 20.59375 38.203125 17 35.5 \nL 9.703125 35.5 \nz\n\" id=\"AppleGothic-53\"/>\n       </defs>\n       <use xlink:href=\"#AppleGothic-48\"/>\n       <use x=\"67.999985\" xlink:href=\"#AppleGothic-46\"/>\n       <use x=\"102.499969\" xlink:href=\"#AppleGothic-53\"/>\n      </g>\n     </g>\n    </g>\n    <g id=\"xtick_3\">\n     <g id=\"line2d_3\">\n      <g>\n       <use style=\"stroke:#000000;stroke-width:0.8;\" x=\"112.309091\" xlink:href=\"#m0160fd75e7\" y=\"240.04875\"/>\n      </g>\n     </g>\n     <g id=\"text_3\">\n      <!-- 1.0 -->\n      <g transform=\"translate(103.784091 254.889375)scale(0.1 -0.1)\">\n       <defs>\n        <path d=\"M 36.59375 74.59375 \nL 43 74.59375 \nL 43 0 \nL 35.703125 0 \nL 35.703125 55.09375 \nL 18.09375 55.09375 \nL 18.09375 60.703125 \nL 22.09375 60.703125 \nQ 31.09375 60.703125 34.59375 65.703125 \nQ 36.59375 68.90625 36.59375 74.59375 \nz\n\" id=\"AppleGothic-49\"/>\n       </defs>\n       <use xlink:href=\"#AppleGothic-49\"/>\n       <use x=\"67.999985\" xlink:href=\"#AppleGothic-46\"/>\n       <use x=\"102.499969\" xlink:href=\"#AppleGothic-48\"/>\n      </g>\n     </g>\n    </g>\n    <g id=\"xtick_4\">\n     <g id=\"line2d_4\">\n      <g>\n       <use style=\"stroke:#000000;stroke-width:0.8;\" x=\"150.354545\" xlink:href=\"#m0160fd75e7\" y=\"240.04875\"/>\n      </g>\n     </g>\n     <g id=\"text_4\">\n      <!-- 1.5 -->\n      <g transform=\"translate(141.829545 254.889375)scale(0.1 -0.1)\">\n       <use xlink:href=\"#AppleGothic-49\"/>\n       <use x=\"67.999985\" xlink:href=\"#AppleGothic-46\"/>\n       <use x=\"102.499969\" xlink:href=\"#AppleGothic-53\"/>\n      </g>\n     </g>\n    </g>\n    <g id=\"xtick_5\">\n     <g id=\"line2d_5\">\n      <g>\n       <use style=\"stroke:#000000;stroke-width:0.8;\" x=\"188.4\" xlink:href=\"#m0160fd75e7\" y=\"240.04875\"/>\n      </g>\n     </g>\n     <g id=\"text_5\">\n      <!-- 2.0 -->\n      <g transform=\"translate(179.875 254.889375)scale(0.1 -0.1)\">\n       <defs>\n        <path d=\"M 17.203125 6.703125 \nL 61.59375 6.703125 \nL 61.59375 0 \nL 10.203125 0 \nL 10.203125 3.203125 \nQ 10.203125 15.90625 21 26 \nQ 26.09375 29.59375 31.09375 33.1875 \nQ 36.09375 36.796875 41.203125 40.5 \nQ 52.09375 48.40625 52.09375 56.203125 \nQ 52.09375 62.40625 47.09375 65.90625 \nQ 44.796875 67.59375 42.09375 68.390625 \nQ 39.40625 69.203125 36.203125 69.203125 \nQ 31.5 69.203125 27.203125 68 \nQ 20.703125 66 13.796875 61.09375 \nL 13.796875 69.296875 \nQ 20.703125 72.796875 26.046875 74.34375 \nQ 31.40625 75.90625 36.203125 75.90625 \nQ 46.296875 75.90625 53.203125 70.703125 \nQ 60 65.59375 60 56.59375 \nQ 60 46.796875 49.5 38.09375 \nQ 44.5 34.59375 39.546875 31.25 \nQ 34.59375 27.90625 29.59375 24.40625 \nQ 18.40625 16 17.203125 6.703125 \nz\n\" id=\"AppleGothic-50\"/>\n       </defs>\n       <use xlink:href=\"#AppleGothic-50\"/>\n       <use x=\"67.999985\" xlink:href=\"#AppleGothic-46\"/>\n       <use x=\"102.499969\" xlink:href=\"#AppleGothic-48\"/>\n      </g>\n     </g>\n    </g>\n    <g id=\"xtick_6\">\n     <g id=\"line2d_6\">\n      <g>\n       <use style=\"stroke:#000000;stroke-width:0.8;\" x=\"226.445455\" xlink:href=\"#m0160fd75e7\" y=\"240.04875\"/>\n      </g>\n     </g>\n     <g id=\"text_6\">\n      <!-- 2.5 -->\n      <g transform=\"translate(217.920455 254.889375)scale(0.1 -0.1)\">\n       <use xlink:href=\"#AppleGothic-50\"/>\n       <use x=\"67.999985\" xlink:href=\"#AppleGothic-46\"/>\n       <use x=\"102.499969\" xlink:href=\"#AppleGothic-53\"/>\n      </g>\n     </g>\n    </g>\n    <g id=\"xtick_7\">\n     <g id=\"line2d_7\">\n      <g>\n       <use style=\"stroke:#000000;stroke-width:0.8;\" x=\"264.490909\" xlink:href=\"#m0160fd75e7\" y=\"240.04875\"/>\n      </g>\n     </g>\n     <g id=\"text_7\">\n      <!-- 3.0 -->\n      <g transform=\"translate(255.965909 254.889375)scale(0.1 -0.1)\">\n       <defs>\n        <path d=\"M 8.59375 5.203125 \nL 8.59375 13.59375 \nQ 13.796875 9.703125 19.296875 7.546875 \nQ 24.796875 5.40625 30.796875 5.40625 \nQ 39.40625 5.40625 44.703125 10.40625 \nQ 50.296875 15.5 50.296875 22.203125 \nQ 50.296875 29.203125 44.40625 32.796875 \nQ 39.296875 36 30.703125 36 \nL 15.5 36 \nL 15.5 42.203125 \nL 25.90625 42.203125 \nQ 35.90625 42.203125 41.59375 45.75 \nQ 47.296875 49.296875 47.296875 56 \nQ 47.296875 61.5 43 65.203125 \nQ 38.40625 69.203125 30.90625 69.203125 \nQ 27.90625 69.203125 24.953125 68.640625 \nQ 22 68.09375 19.09375 66.90625 \nQ 13.90625 64.703125 8.296875 60.5 \nL 8.296875 69.09375 \nQ 11.5 70.796875 14.25 72 \nQ 17 73.203125 19.59375 74 \nQ 25.40625 75.90625 31.59375 75.90625 \nQ 41.40625 75.90625 47.90625 70.796875 \nQ 54.5 65.796875 54.5 56.90625 \nQ 54.5 49.5 49.5 44.703125 \nQ 46.5 41.796875 41.296875 39.90625 \nQ 44.90625 39.40625 47.703125 38.25 \nQ 50.5 37.09375 52.59375 35.40625 \nQ 58.09375 30.796875 58.09375 22.40625 \nQ 58.09375 12.703125 50.296875 5.703125 \nQ 42.40625 -1.296875 30.703125 -1.296875 \nQ 24.203125 -1.296875 17.59375 1.09375 \nQ 16 1.59375 13.75 2.59375 \nQ 11.5 3.59375 8.59375 5.203125 \nz\n\" id=\"AppleGothic-51\"/>\n       </defs>\n       <use xlink:href=\"#AppleGothic-51\"/>\n       <use x=\"67.999985\" xlink:href=\"#AppleGothic-46\"/>\n       <use x=\"102.499969\" xlink:href=\"#AppleGothic-48\"/>\n      </g>\n     </g>\n    </g>\n    <g id=\"xtick_8\">\n     <g id=\"line2d_8\">\n      <g>\n       <use style=\"stroke:#000000;stroke-width:0.8;\" x=\"302.536364\" xlink:href=\"#m0160fd75e7\" y=\"240.04875\"/>\n      </g>\n     </g>\n     <g id=\"text_8\">\n      <!-- 3.5 -->\n      <g transform=\"translate(294.011364 254.889375)scale(0.1 -0.1)\">\n       <use xlink:href=\"#AppleGothic-51\"/>\n       <use x=\"67.999985\" xlink:href=\"#AppleGothic-46\"/>\n       <use x=\"102.499969\" xlink:href=\"#AppleGothic-53\"/>\n      </g>\n     </g>\n    </g>\n    <g id=\"xtick_9\">\n     <g id=\"line2d_9\">\n      <g>\n       <use style=\"stroke:#000000;stroke-width:0.8;\" x=\"340.581818\" xlink:href=\"#m0160fd75e7\" y=\"240.04875\"/>\n      </g>\n     </g>\n     <g id=\"text_9\">\n      <!-- 4.0 -->\n      <g transform=\"translate(332.056818 254.889375)scale(0.1 -0.1)\">\n       <defs>\n        <path d=\"M 41.59375 74.59375 \nL 48.90625 74.59375 \nL 48.90625 28.296875 \nL 62.5 28.296875 \nL 62.5 21.59375 \nL 48.90625 21.59375 \nL 48.90625 0 \nL 41.59375 0 \nL 41.59375 21.59375 \nL 5.5 21.59375 \nL 5.5 28.296875 \nz\nM 41.59375 28.296875 \nL 41.59375 65.09375 \nL 13.09375 28.296875 \nz\n\" id=\"AppleGothic-52\"/>\n       </defs>\n       <use xlink:href=\"#AppleGothic-52\"/>\n       <use x=\"67.999985\" xlink:href=\"#AppleGothic-46\"/>\n       <use x=\"102.499969\" xlink:href=\"#AppleGothic-48\"/>\n      </g>\n     </g>\n    </g>\n   </g>\n   <g id=\"matplotlib.axis_2\">\n    <g id=\"ytick_1\">\n     <g id=\"line2d_10\">\n      <defs>\n       <path d=\"M 0 0 \nL -3.5 0 \n\" id=\"ma5ee79bdc1\" style=\"stroke:#000000;stroke-width:0.8;\"/>\n      </defs>\n      <g>\n       <use style=\"stroke:#000000;stroke-width:0.8;\" x=\"21\" xlink:href=\"#ma5ee79bdc1\" y=\"230.165114\"/>\n      </g>\n     </g>\n     <g id=\"text_10\">\n      <!-- 1 -->\n      <g transform=\"translate(7.2 234.085426)scale(0.1 -0.1)\">\n       <use xlink:href=\"#AppleGothic-49\"/>\n      </g>\n     </g>\n    </g>\n    <g id=\"ytick_2\">\n     <g id=\"line2d_11\">\n      <g>\n       <use style=\"stroke:#000000;stroke-width:0.8;\" x=\"21\" xlink:href=\"#ma5ee79bdc1\" y=\"205.456023\"/>\n      </g>\n     </g>\n     <g id=\"text_11\">\n      <!-- 2 -->\n      <g transform=\"translate(7.2 209.376335)scale(0.1 -0.1)\">\n       <use xlink:href=\"#AppleGothic-50\"/>\n      </g>\n     </g>\n    </g>\n    <g id=\"ytick_3\">\n     <g id=\"line2d_12\">\n      <g>\n       <use style=\"stroke:#000000;stroke-width:0.8;\" x=\"21\" xlink:href=\"#ma5ee79bdc1\" y=\"180.746932\"/>\n      </g>\n     </g>\n     <g id=\"text_12\">\n      <!-- 3 -->\n      <g transform=\"translate(7.2 184.667244)scale(0.1 -0.1)\">\n       <use xlink:href=\"#AppleGothic-51\"/>\n      </g>\n     </g>\n    </g>\n    <g id=\"ytick_4\">\n     <g id=\"line2d_13\">\n      <g>\n       <use style=\"stroke:#000000;stroke-width:0.8;\" x=\"21\" xlink:href=\"#ma5ee79bdc1\" y=\"156.037841\"/>\n      </g>\n     </g>\n     <g id=\"text_13\">\n      <!-- 4 -->\n      <g transform=\"translate(7.2 159.958153)scale(0.1 -0.1)\">\n       <use xlink:href=\"#AppleGothic-52\"/>\n      </g>\n     </g>\n    </g>\n    <g id=\"ytick_5\">\n     <g id=\"line2d_14\">\n      <g>\n       <use style=\"stroke:#000000;stroke-width:0.8;\" x=\"21\" xlink:href=\"#ma5ee79bdc1\" y=\"131.32875\"/>\n      </g>\n     </g>\n     <g id=\"text_14\">\n      <!-- 5 -->\n      <g transform=\"translate(7.2 135.249063)scale(0.1 -0.1)\">\n       <use xlink:href=\"#AppleGothic-53\"/>\n      </g>\n     </g>\n    </g>\n    <g id=\"ytick_6\">\n     <g id=\"line2d_15\">\n      <g>\n       <use style=\"stroke:#000000;stroke-width:0.8;\" x=\"21\" xlink:href=\"#ma5ee79bdc1\" y=\"106.619659\"/>\n      </g>\n     </g>\n     <g id=\"text_15\">\n      <!-- 6 -->\n      <g transform=\"translate(7.2 110.539972)scale(0.1 -0.1)\">\n       <defs>\n        <path d=\"M 57.796875 71.203125 \nL 57.796875 62.703125 \nQ 56 64.09375 54.296875 65.046875 \nQ 52.59375 66 50.90625 66.796875 \nQ 48.203125 68.09375 45.59375 68.640625 \nQ 43 69.203125 40.40625 69.203125 \nQ 38.59375 69.203125 36.75 68.890625 \nQ 34.90625 68.59375 33.09375 67.796875 \nQ 26.09375 64.90625 21.796875 58.40625 \nQ 15.796875 49.203125 15.796875 34.203125 \nQ 20.5 38.90625 24.5 41.5 \nQ 31.59375 45.796875 39.59375 45.796875 \nQ 49.40625 45.796875 56 40.09375 \nQ 63.09375 33.796875 63.09375 23.296875 \nQ 63.09375 12.59375 55.59375 5.59375 \nQ 48.09375 -1.296875 37.40625 -1.296875 \nQ 26.09375 -1.296875 17.90625 7.09375 \nQ 8.09375 17 8.09375 35.203125 \nQ 8.09375 53.296875 17.5 64.59375 \nQ 26.796875 75.90625 40.703125 75.90625 \nQ 45.90625 75.90625 50.40625 74.40625 \nQ 51.703125 73.90625 53.546875 73.15625 \nQ 55.40625 72.40625 57.796875 71.203125 \nz\nM 16.59375 26.59375 \nQ 18 18 23.40625 12 \nQ 29.40625 5.40625 37.796875 5.40625 \nQ 45.296875 5.40625 50.203125 10.296875 \nQ 55.296875 15.203125 55.296875 22.796875 \nQ 55.296875 30 50.40625 34.59375 \nQ 45.59375 39.09375 39 39.09375 \nQ 31.09375 39.09375 24.09375 34 \nQ 22.09375 32.5 20.1875 30.703125 \nQ 18.296875 28.90625 16.59375 26.59375 \nz\n\" id=\"AppleGothic-54\"/>\n       </defs>\n       <use xlink:href=\"#AppleGothic-54\"/>\n      </g>\n     </g>\n    </g>\n    <g id=\"ytick_7\">\n     <g id=\"line2d_16\">\n      <g>\n       <use style=\"stroke:#000000;stroke-width:0.8;\" x=\"21\" xlink:href=\"#ma5ee79bdc1\" y=\"81.910568\"/>\n      </g>\n     </g>\n     <g id=\"text_16\">\n      <!-- 7 -->\n      <g transform=\"translate(7.2 85.830881)scale(0.1 -0.1)\">\n       <defs>\n        <path d=\"M 9.296875 74.59375 \nL 59.40625 74.59375 \nL 59.40625 68.90625 \nL 27.09375 0 \nL 19.296875 0 \nL 51.203125 68 \nL 9.296875 68 \nz\n\" id=\"AppleGothic-55\"/>\n       </defs>\n       <use xlink:href=\"#AppleGothic-55\"/>\n      </g>\n     </g>\n    </g>\n    <g id=\"ytick_8\">\n     <g id=\"line2d_17\">\n      <g>\n       <use style=\"stroke:#000000;stroke-width:0.8;\" x=\"21\" xlink:href=\"#ma5ee79bdc1\" y=\"57.201477\"/>\n      </g>\n     </g>\n     <g id=\"text_17\">\n      <!-- 8 -->\n      <g transform=\"translate(7.2 61.12179)scale(0.1 -0.1)\">\n       <defs>\n        <path d=\"M 46.203125 40.703125 \nQ 50.296875 39.5 53.1875 38.203125 \nQ 56.09375 36.90625 57.90625 35.5 \nQ 65.5 30.09375 65.5 21.40625 \nQ 65.5 11.703125 56.90625 5.203125 \nQ 48.40625 -1.296875 35.703125 -1.296875 \nQ 22.40625 -1.296875 14.796875 5.09375 \nQ 8 10.796875 8 19.203125 \nQ 8 28.09375 15.59375 33.203125 \nQ 17.90625 34.796875 20.953125 36 \nQ 24 37.203125 27.796875 38.296875 \nQ 24.59375 39.59375 22.34375 40.890625 \nQ 20.09375 42.203125 18.703125 43.5 \nQ 12.796875 48.5 12.796875 56.296875 \nQ 12.796875 65.203125 19.703125 70.5 \nQ 26.59375 75.90625 37.203125 75.90625 \nQ 47.09375 75.90625 53.703125 71.40625 \nQ 60.90625 66.59375 60.90625 58.40625 \nQ 60.90625 52.703125 57.34375 48.140625 \nQ 53.796875 43.59375 46.203125 40.703125 \nz\nM 37.59375 43 \nQ 41 44.296875 43.453125 45.546875 \nQ 45.90625 46.796875 47.5 47.90625 \nQ 53.09375 51.90625 53.09375 57.296875 \nQ 53.09375 62.40625 48.5 65.703125 \nQ 44.09375 69.203125 36.90625 69.203125 \nQ 29.59375 69.203125 25.203125 65.703125 \nQ 20.703125 62.40625 20.703125 56.796875 \nQ 20.703125 51.90625 24.703125 48.40625 \nQ 26.5 46.90625 29.703125 45.5 \nQ 32.90625 44.09375 37.59375 43 \nz\nM 37 36 \nQ 32.203125 34.40625 28.75 32.90625 \nQ 25.296875 31.40625 23 30 \nQ 15.796875 25.40625 15.796875 19.296875 \nQ 15.796875 13.203125 21.5 9.296875 \nQ 27 5.40625 36.09375 5.40625 \nQ 45.90625 5.40625 51.796875 10 \nQ 57.703125 14.59375 57.703125 20.90625 \nQ 57.703125 27.203125 50.59375 31.203125 \nQ 48.5 32.296875 45.09375 33.546875 \nQ 41.703125 34.796875 37 36 \nz\n\" id=\"AppleGothic-56\"/>\n       </defs>\n       <use xlink:href=\"#AppleGothic-56\"/>\n      </g>\n     </g>\n    </g>\n    <g id=\"ytick_9\">\n     <g id=\"line2d_18\">\n      <g>\n       <use style=\"stroke:#000000;stroke-width:0.8;\" x=\"21\" xlink:href=\"#ma5ee79bdc1\" y=\"32.492386\"/>\n      </g>\n     </g>\n     <g id=\"text_18\">\n      <!-- 9 -->\n      <g transform=\"translate(7.2 36.412699)scale(0.1 -0.1)\">\n       <defs>\n        <path d=\"M 14.5 3.296875 \nL 14.5 11.90625 \nQ 16.40625 10.5 18.046875 9.390625 \nQ 19.703125 8.296875 21.296875 7.5 \nQ 26.59375 5 31.5 5 \nQ 35.796875 5 39.703125 6.796875 \nQ 42.796875 8.203125 45.4375 10.546875 \nQ 48.09375 12.90625 50.203125 16.203125 \nQ 54 22 55.5 28.796875 \nQ 56.5 33.5 56.5 40.203125 \nQ 51.796875 35.5 47.90625 33.203125 \nQ 40.703125 28.90625 32.703125 28.90625 \nQ 22.796875 28.90625 16.203125 34.59375 \nQ 9.203125 40.59375 9.203125 51.09375 \nQ 9.203125 62.296875 16.90625 69 \nQ 24.203125 75.5 34.90625 75.5 \nQ 46.40625 75.5 54.59375 67.203125 \nQ 64.40625 57.203125 64.40625 39.5 \nQ 64.40625 20.703125 54.296875 9.09375 \nQ 44.90625 -1.703125 31.796875 -1.703125 \nQ 26.90625 -1.703125 21.203125 0.296875 \nQ 19.59375 0.796875 17.9375 1.59375 \nQ 16.296875 2.40625 14.5 3.296875 \nz\nM 55.90625 47.90625 \nQ 54.09375 58.09375 47.703125 63.703125 \nQ 41.796875 68.796875 34.796875 68.796875 \nQ 26.796875 68.796875 21.90625 63.796875 \nQ 16.90625 58.59375 16.90625 51.59375 \nQ 16.90625 44.703125 21.40625 40.09375 \nQ 25.90625 35.59375 33.203125 35.59375 \nQ 40.203125 35.59375 45.546875 38.640625 \nQ 50.90625 41.703125 55.90625 47.90625 \nz\n\" id=\"AppleGothic-57\"/>\n       </defs>\n       <use xlink:href=\"#AppleGothic-57\"/>\n      </g>\n     </g>\n    </g>\n   </g>\n   <g id=\"line2d_19\">\n    <path clip-path=\"url(#pd8222652b8)\" d=\"M 36.218182 230.165114 \nL 112.309091 180.746932 \nL 188.4 131.32875 \nL 264.490909 81.910568 \nL 340.581818 32.492386 \n\" style=\"fill:none;stroke:#1f77b4;stroke-linecap:square;stroke-width:1.5;\"/>\n   </g>\n   <g id=\"patch_3\">\n    <path d=\"M 21 240.04875 \nL 21 22.60875 \n\" style=\"fill:none;stroke:#000000;stroke-linecap:square;stroke-linejoin:miter;stroke-width:0.8;\"/>\n   </g>\n   <g id=\"patch_4\">\n    <path d=\"M 355.8 240.04875 \nL 355.8 22.60875 \n\" style=\"fill:none;stroke:#000000;stroke-linecap:square;stroke-linejoin:miter;stroke-width:0.8;\"/>\n   </g>\n   <g id=\"patch_5\">\n    <path d=\"M 21 240.04875 \nL 355.8 240.04875 \n\" style=\"fill:none;stroke:#000000;stroke-linecap:square;stroke-linejoin:miter;stroke-width:0.8;\"/>\n   </g>\n   <g id=\"patch_6\">\n    <path d=\"M 21 22.60875 \nL 355.8 22.60875 \n\" style=\"fill:none;stroke:#000000;stroke-linecap:square;stroke-linejoin:miter;stroke-width:0.8;\"/>\n   </g>\n   <g id=\"text_19\">\n    <!-- 한글 -->\n    <g transform=\"translate(176.4 16.60875)scale(0.12 -0.12)\">\n     <defs>\n      <path d=\"M 49.796875 37.703125 \nQ 49.796875 42.203125 46.5 44.90625 \nQ 42.703125 48 35.59375 48 \nQ 28.296875 48 24.546875 45.296875 \nQ 20.796875 42.59375 20.796875 38.5 \nQ 20.796875 33.796875 24.75 31.390625 \nQ 28.703125 29 35.703125 29 \nQ 43 29 46.796875 32 \nQ 49.796875 34.5 49.796875 37.703125 \nz\nM 85.40625 -6.796875 \nL 51.796875 -6.296875 \nL 20.203125 -6.5 \nL 20.296875 3.5 \nL 19.90625 17.5 \nL 21.09375 17.5 \nQ 24.09375 17.5 26.09375 17.203125 \nQ 28.09375 16.90625 28.09375 15.796875 \nQ 28.09375 15.5 27.796875 14.34375 \nQ 27.5 13.203125 27.5 12.296875 \nL 27.5 -0.40625 \nQ 29.5 -0.40625 32.34375 -0.40625 \nQ 35.203125 -0.40625 39 -0.5 \nQ 42.703125 -0.59375 46.25 -0.59375 \nQ 49.796875 -0.59375 53.296875 -0.703125 \nQ 62.796875 -0.703125 70.890625 -0.59375 \nQ 79 -0.5 85.40625 -0.296875 \nz\nM 56.703125 38.40625 \nQ 56.703125 31.90625 51.390625 27.953125 \nQ 46.09375 24 35.796875 24 \nQ 24.90625 24 19.546875 28.140625 \nQ 14.203125 32.296875 14.203125 39 \nQ 14.203125 46.40625 20.796875 50 \nQ 23.5 51.59375 27.09375 52.296875 \nQ 30.703125 53 35.203125 53 \nQ 45.203125 53 50.953125 49 \nQ 56.703125 45 56.703125 38.40625 \nz\nM 93.796875 38.796875 \nL 80.09375 38.796875 \nL 79.90625 18.796875 \nQ 79.90625 17.09375 79.90625 15.640625 \nQ 79.90625 14.203125 80.203125 12.40625 \nL 72.90625 12 \nL 73 80.59375 \nQ 75.59375 80.59375 78.203125 80.296875 \nQ 81 80 81 79 \nQ 81 78.703125 80.59375 77.546875 \nQ 80.203125 76.40625 80.203125 75.40625 \nL 79.90625 64.40625 \nL 80 45.296875 \nL 93.796875 45.09375 \nz\nM 64.796875 58.5 \nQ 61.40625 58.703125 58.703125 58.75 \nQ 56 58.796875 54 58.90625 \nQ 47.796875 59.09375 42.9375 59.1875 \nQ 38.09375 59.296875 34.5 59.296875 \nQ 27.796875 59.296875 20.59375 59.1875 \nQ 13.40625 59.09375 7.40625 58.90625 \nL 7.40625 64.703125 \nQ 10.296875 64.59375 13.796875 64.546875 \nQ 17.296875 64.5 21.5 64.296875 \nQ 25.703125 64.203125 28.796875 64.140625 \nQ 31.90625 64.09375 34.09375 64.09375 \nQ 43.796875 64.09375 51.390625 64.1875 \nQ 59 64.296875 64.796875 64.5 \nz\nM 47.40625 71 \nQ 44.90625 71.203125 41.953125 71.296875 \nQ 39 71.40625 36.09375 71.40625 \nL 23.5 71.09375 \nL 23.5 76.90625 \nL 36.203125 76.703125 \nL 47.40625 76.90625 \nz\n\" id=\"AppleGothic-54620\"/>\n      <path d=\"M 81.40625 -7.296875 \nL 75.90625 -7.296875 \nQ 55 -7 50.796875 -7 \nQ 41.40625 -7 33.84375 -7.09375 \nQ 26.296875 -7.203125 19.203125 -7.5 \nL 19.40625 -1.40625 \nL 19.203125 14 \nL 51 14 \nQ 55.296875 14 58.59375 14.046875 \nQ 61.90625 14.09375 64.40625 14.203125 \nQ 66.796875 14.296875 68.890625 14.390625 \nQ 71 14.5 72.90625 14.59375 \nL 72.90625 24.09375 \nL 50.296875 24 \nQ 42.796875 24 34.546875 23.796875 \nQ 26.296875 23.59375 19.296875 23.40625 \nL 19.296875 29.59375 \nL 50.5 29.296875 \nQ 57.59375 29.296875 65.1875 29.390625 \nQ 72.796875 29.5 79.203125 29.703125 \nL 79.296875 9.09375 \nL 51.40625 9 \nQ 46.703125 9 43 9 \nQ 39.296875 9 36.40625 8.90625 \nQ 33.5 8.796875 30.84375 8.75 \nQ 28.203125 8.703125 25.703125 8.5 \nL 25.703125 -1.5 \nL 50.203125 -1.5 \nQ 61 -1.5 68.453125 -1.390625 \nQ 75.90625 -1.296875 81.40625 -1.09375 \nz\nM 93.90625 37.40625 \nL 86.59375 37.40625 \nQ 59.59375 37.703125 54.90625 37.703125 \nQ 50.703125 37.703125 46.953125 37.796875 \nQ 43.203125 37.90625 39.5 38 \nL 6 38 \nL 6 43.203125 \nQ 12 43 19.453125 42.890625 \nQ 26.90625 42.796875 35.40625 42.796875 \nL 70 42.90625 \nL 73.09375 57.09375 \nQ 73.59375 59.90625 74.046875 62.546875 \nQ 74.5 65.203125 74.703125 67.59375 \nQ 74.796875 68.40625 74.84375 69.34375 \nQ 74.90625 70.296875 75 71.40625 \nL 48.296875 71.296875 \nQ 38.40625 71.296875 30.5 71.09375 \nQ 22.59375 70.90625 15.59375 70.59375 \nL 15.59375 76.59375 \nL 42.203125 76.40625 \nL 82.59375 76.90625 \nQ 82.40625 74.90625 82.203125 73.25 \nQ 82 71.59375 81.796875 70.296875 \nQ 81.296875 66.5 80.75 63.25 \nQ 80.203125 60 79.5 57.09375 \nL 76.5 43.203125 \nL 93.90625 43.5 \nz\n\" id=\"AppleGothic-44544\"/>\n     </defs>\n     <use xlink:href=\"#AppleGothic-54620\"/>\n     <use x=\"99.999985\" xlink:href=\"#AppleGothic-44544\"/>\n    </g>\n   </g>\n  </g>\n </g>\n <defs>\n  <clipPath id=\"pd8222652b8\">\n   <rect height=\"217.44\" width=\"334.8\" x=\"21\" y=\"22.60875\"/>\n  </clipPath>\n </defs>\n</svg>\n",
      "image/png": "[encoded data removed]"
     },
     "metadata": {
      "needs_background": "light"
     }
    }
   ]
  },
  {
   "cell_type": "code",
   "execution_count": 5,
   "metadata": {},
   "outputs": [
    {
     "output_type": "execute_result",
     "data": {
      "text/plain": [
       "  itemcode  etfTabCode          itemname  nowVal  risefall  changeVal  \\\n",
       "0   069500           1         KODEX 200   41215         5       -260   \n",
       "1   102110           1         TIGER 200   41040         5       -295   \n",
       "2   252670           3  KODEX 200선물인버스2X    2215         2         30   \n",
       "3   153130           6        KODEX 단기채권  102725         5        -15   \n",
       "4   102780           2        KODEX 삼성그룹    9680         5       -120   \n",
       "\n",
       "   changeRate       nav  threeMonthEarnRate      quant   amonut  marketSum  \n",
       "0       -0.63   41266.0             14.1995   10741831   441008      51230  \n",
       "1       -0.71   41108.0             14.3556    1126933    46126      25629  \n",
       "2        1.37    2232.0            -27.0451  494560618  1103961      21893  \n",
       "3       -0.01  102729.0              0.1510       7549      775      19141  \n",
       "4       -1.22    9709.0              9.0100     363691     3505      16901  "
      ],
      "text/html": "<div>\n<style scoped>\n    .dataframe tbody tr th:only-of-type {\n        vertical-align: middle;\n    }\n\n    .dataframe tbody tr th {\n        vertical-align: top;\n    }\n\n    .dataframe thead th {\n        text-align: right;\n    }\n</style>\n<table border=\"1\" class=\"dataframe\">\n  <thead>\n    <tr style=\"text-align: right;\">\n      <th></th>\n      <th>itemcode</th>\n      <th>etfTabCode</th>\n      <th>itemname</th>\n      <th>nowVal</th>\n      <th>risefall</th>\n      <th>changeVal</th>\n      <th>changeRate</th>\n      <th>nav</th>\n      <th>threeMonthEarnRate</th>\n      <th>quant</th>\n      <th>amonut</th>\n      <th>marketSum</th>\n    </tr>\n  </thead>\n  <tbody>\n    <tr>\n      <th>0</th>\n      <td>069500</td>\n      <td>1</td>\n      <td>KODEX 200</td>\n      <td>41215</td>\n      <td>5</td>\n      <td>-260</td>\n      <td>-0.63</td>\n      <td>41266.0</td>\n      <td>14.1995</td>\n      <td>10741831</td>\n      <td>441008</td>\n      <td>51230</td>\n    </tr>\n    <tr>\n      <th>1</th>\n      <td>102110</td>\n      <td>1</td>\n      <td>TIGER 200</td>\n      <td>41040</td>\n      <td>5</td>\n      <td>-295</td>\n      <td>-0.71</td>\n      <td>41108.0</td>\n      <td>14.3556</td>\n      <td>1126933</td>\n      <td>46126</td>\n      <td>25629</td>\n    </tr>\n    <tr>\n      <th>2</th>\n      <td>252670</td>\n      <td>3</td>\n      <td>KODEX 200선물인버스2X</td>\n      <td>2215</td>\n      <td>2</td>\n      <td>30</td>\n      <td>1.37</td>\n      <td>2232.0</td>\n      <td>-27.0451</td>\n      <td>494560618</td>\n      <td>1103961</td>\n      <td>21893</td>\n    </tr>\n    <tr>\n      <th>3</th>\n      <td>153130</td>\n      <td>6</td>\n      <td>KODEX 단기채권</td>\n      <td>102725</td>\n      <td>5</td>\n      <td>-15</td>\n      <td>-0.01</td>\n      <td>102729.0</td>\n      <td>0.1510</td>\n      <td>7549</td>\n      <td>775</td>\n      <td>19141</td>\n    </tr>\n    <tr>\n      <th>4</th>\n      <td>102780</td>\n      <td>2</td>\n      <td>KODEX 삼성그룹</td>\n      <td>9680</td>\n      <td>5</td>\n      <td>-120</td>\n      <td>-1.22</td>\n      <td>9709.0</td>\n      <td>9.0100</td>\n      <td>363691</td>\n      <td>3505</td>\n      <td>16901</td>\n    </tr>\n  </tbody>\n</table>\n</div>"
     },
     "metadata": {},
     "execution_count": 5
    }
   ],
   "source": [
    "df = pd.read_csv('etf_2021-03-09_raw.csv', dtype={\"itemcode\": object})\n",
    "df.head()"
   ]
  },
  {
   "cell_type": "code",
   "execution_count": 7,
   "metadata": {},
   "outputs": [
    {
     "output_type": "execute_result",
     "data": {
      "text/plain": [
       "   itemcode  etfTabCode           itemname  nowVal  risefall  changeVal  \\\n",
       "2    252670           3   KODEX 200선물인버스2X    2215         2         30   \n",
       "10   114800           3          KODEX 인버스    4030         2         25   \n",
       "29   251340           3  KODEX 코스닥150선물인버스    4885         2         35   \n",
       "6    122630           3         KODEX 레버리지   25250         5       -345   \n",
       "14   233740           1  KODEX 코스닥150 레버리지   13120         5       -140   \n",
       "0    069500           1          KODEX 200   41215         5       -260   \n",
       "75   252710           3   TIGER 200선물인버스2X    2300         2         30   \n",
       "33   229200           1      KODEX 코스닥 150   13570         5        -90   \n",
       "42   091170           2           KODEX 은행    7015         2        160   \n",
       "12   305720           2       KODEX 2차전지산업   17515         5       -635   \n",
       "\n",
       "    changeRate      nav  threeMonthEarnRate      quant   amonut  marketSum  \n",
       "2         1.37   2232.0            -27.0451  494560618  1103961      21893  \n",
       "10        0.62   4044.0            -13.7783   93707981   378961      12199  \n",
       "29        0.72   4930.0              2.1052   73959414   363978       4465  \n",
       "6        -1.35  25292.0             28.0390   57182653  1434126      16211  \n",
       "14       -1.06  13041.0             -9.7038   17951068   231252       9683  \n",
       "0        -0.63  41266.0             14.1995   10741831   441008      51230  \n",
       "75        1.32   2311.0            -26.7742    9776084    22610       1210  \n",
       "33       -0.66  13660.0             -4.0731    4826286    64914       3996  \n",
       "42        2.33   7032.0             11.1922    3462456    24256       2546  \n",
       "12       -3.50  17515.0             28.4046    2544896    44167      11034  "
      ],
      "text/html": "<div>\n<style scoped>\n    .dataframe tbody tr th:only-of-type {\n        vertical-align: middle;\n    }\n\n    .dataframe tbody tr th {\n        vertical-align: top;\n    }\n\n    .dataframe thead th {\n        text-align: right;\n    }\n</style>\n<table border=\"1\" class=\"dataframe\">\n  <thead>\n    <tr style=\"text-align: right;\">\n      <th></th>\n      <th>itemcode</th>\n      <th>etfTabCode</th>\n      <th>itemname</th>\n      <th>nowVal</th>\n      <th>risefall</th>\n      <th>changeVal</th>\n      <th>changeRate</th>\n      <th>nav</th>\n      <th>threeMonthEarnRate</th>\n      <th>quant</th>\n      <th>amonut</th>\n      <th>marketSum</th>\n    </tr>\n  </thead>\n  <tbody>\n    <tr>\n      <th>2</th>\n      <td>252670</td>\n      <td>3</td>\n      <td>KODEX 200선물인버스2X</td>\n      <td>2215</td>\n      <td>2</td>\n      <td>30</td>\n      <td>1.37</td>\n      <td>2232.0</td>\n      <td>-27.0451</td>\n      <td>494560618</td>\n      <td>1103961</td>\n      <td>21893</td>\n    </tr>\n    <tr>\n      <th>10</th>\n      <td>114800</td>\n      <td>3</td>\n      <td>KODEX 인버스</td>\n      <td>4030</td>\n      <td>2</td>\n      <td>25</td>\n      <td>0.62</td>\n      <td>4044.0</td>\n      <td>-13.7783</td>\n      <td>93707981</td>\n      <td>378961</td>\n      <td>12199</td>\n    </tr>\n    <tr>\n      <th>29</th>\n      <td>251340</td>\n      <td>3</td>\n      <td>KODEX 코스닥150선물인버스</td>\n      <td>4885</td>\n      <td>2</td>\n      <td>35</td>\n      <td>0.72</td>\n      <td>4930.0</td>\n      <td>2.1052</td>\n      <td>73959414</td>\n      <td>363978</td>\n      <td>4465</td>\n    </tr>\n    <tr>\n      <th>6</th>\n      <td>122630</td>\n      <td>3</td>\n      <td>KODEX 레버리지</td>\n      <td>25250</td>\n      <td>5</td>\n      <td>-345</td>\n      <td>-1.35</td>\n      <td>25292.0</td>\n      <td>28.0390</td>\n      <td>57182653</td>\n      <td>1434126</td>\n      <td>16211</td>\n    </tr>\n    <tr>\n      <th>14</th>\n      <td>233740</td>\n      <td>1</td>\n      <td>KODEX 코스닥150 레버리지</td>\n      <td>13120</td>\n      <td>5</td>\n      <td>-140</td>\n      <td>-1.06</td>\n      <td>13041.0</td>\n      <td>-9.7038</td>\n      <td>17951068</td>\n      <td>231252</td>\n      <td>9683</td>\n    </tr>\n    <tr>\n      <th>0</th>\n      <td>069500</td>\n      <td>1</td>\n      <td>KODEX 200</td>\n      <td>41215</td>\n      <td>5</td>\n      <td>-260</td>\n      <td>-0.63</td>\n      <td>41266.0</td>\n      <td>14.1995</td>\n      <td>10741831</td>\n      <td>441008</td>\n      <td>51230</td>\n    </tr>\n    <tr>\n      <th>75</th>\n      <td>252710</td>\n      <td>3</td>\n      <td>TIGER 200선물인버스2X</td>\n      <td>2300</td>\n      <td>2</td>\n      <td>30</td>\n      <td>1.32</td>\n      <td>2311.0</td>\n      <td>-26.7742</td>\n      <td>9776084</td>\n      <td>22610</td>\n      <td>1210</td>\n    </tr>\n    <tr>\n      <th>33</th>\n      <td>229200</td>\n      <td>1</td>\n      <td>KODEX 코스닥 150</td>\n      <td>13570</td>\n      <td>5</td>\n      <td>-90</td>\n      <td>-0.66</td>\n      <td>13660.0</td>\n      <td>-4.0731</td>\n      <td>4826286</td>\n      <td>64914</td>\n      <td>3996</td>\n    </tr>\n    <tr>\n      <th>42</th>\n      <td>091170</td>\n      <td>2</td>\n      <td>KODEX 은행</td>\n      <td>7015</td>\n      <td>2</td>\n      <td>160</td>\n      <td>2.33</td>\n      <td>7032.0</td>\n      <td>11.1922</td>\n      <td>3462456</td>\n      <td>24256</td>\n      <td>2546</td>\n    </tr>\n    <tr>\n      <th>12</th>\n      <td>305720</td>\n      <td>2</td>\n      <td>KODEX 2차전지산업</td>\n      <td>17515</td>\n      <td>5</td>\n      <td>-635</td>\n      <td>-3.50</td>\n      <td>17515.0</td>\n      <td>28.4046</td>\n      <td>2544896</td>\n      <td>44167</td>\n      <td>11034</td>\n    </tr>\n  </tbody>\n</table>\n</div>"
     },
     "metadata": {},
     "execution_count": 7
    }
   ],
   "source": [
    "df.sort_values('quant', ascending=False).head(10)"
   ]
  },
  {
   "cell_type": "code",
   "execution_count": 20,
   "metadata": {},
   "outputs": [
    {
     "output_type": "execute_result",
     "data": {
      "text/plain": [
       "1     64\n",
       "2    179\n",
       "3     31\n",
       "4     97\n",
       "5     14\n",
       "6     55\n",
       "7     34\n",
       "Name: etfTabCode, dtype: int64"
      ]
     },
     "metadata": {},
     "execution_count": 20
    }
   ],
   "source": [
    "df['etfTabCode'].value_counts().sort_index()"
   ]
  },
  {
   "cell_type": "code",
   "execution_count": 21,
   "metadata": {},
   "outputs": [
    {
     "output_type": "execute_result",
     "data": {
      "text/plain": [
       "    itemcode  etfTabCode                  itemname  nowVal  risefall  \\\n",
       "38    357870           7       TIGER CD금리투자KIS(합성)   50230         2   \n",
       "104   182480           7      TIGER 미국MSCI리츠(합성 H)   12780         2   \n",
       "117   261240           7              KODEX 미국달러선물   10110         2   \n",
       "158   261250           7          KODEX 미국달러선물레버리지    9435         2   \n",
       "164   138230           7              KOSEF 미국달러선물   11995         2   \n",
       "182   329650           7             KODEX TRF3070   10920         2   \n",
       "199   237370           7            KODEX 배당성장채권혼합   11675         5   \n",
       "207   341850           7       TIGER KIS부동산인프라채권TR    5245         5   \n",
       "233   183700           7               KBSTAR 채권혼합   63680         5   \n",
       "265   261120           7         TIGER 미국달러선물인버스2X    9555         5   \n",
       "269   253290           7           KBSTAR 헬스케어채권혼합   12190         5   \n",
       "274   329670           7             KODEX TRF7030   11915         5   \n",
       "275   251600           7          ARIRANG 고배당주채권혼합   10785         2   \n",
       "281   139660           7           KOSEF 미국달러선물인버스   10495         5   \n",
       "284   329660           7             KODEX TRF5050   11410         5   \n",
       "286   316300           7             KINDEX 싱가포르리츠   11195         5   \n",
       "290   183710           7               KBSTAR 주식혼합   43780         5   \n",
       "291   237440           7            TIGER 경기방어채권혼합    9875         5   \n",
       "296   352560           7         KODEX 다우존스미국리츠(H)   11595         2   \n",
       "311   241390           7       KBSTAR V&S셀렉트밸류채권혼합   12180         5   \n",
       "312   342140           7     KINDEX 모닝스타싱가포르리츠채권혼합    9710         5   \n",
       "316   352540           7          KODEX TSE일본리츠(H)   11800         2   \n",
       "319   292560           7               TIGER 일본엔선물   10300         5   \n",
       "330   354240           7   KBSTAR 미국고정배당우선증권ICE TR    9965         2   \n",
       "340   181480           7     KINDEX 미국다우존스리츠(합성 H)   79060         2   \n",
       "342   375270           7  KBSTAR 글로벌데이터센터리츠나스닥(합성)    9750         2   \n",
       "348   261110           7          TIGER 미국달러선물레버리지    9520         2   \n",
       "374   238670           7  ARIRANG 스마트베타Quality채권혼합   10955         5   \n",
       "422   261270           7           KODEX 미국달러선물인버스   10060         5   \n",
       "435   261260           7         KODEX 미국달러선물인버스2X    9605         5   \n",
       "441   321410           7         KODEX 멀티에셋하이인컴(H)   10350         5   \n",
       "444   292570           7           TIGER 일본엔선물레버리지   10010         2   \n",
       "449   292580           7            TIGER 일본엔선물인버스    9585         2   \n",
       "457   292590           7          TIGER 일본엔선물인버스2X    8725         5   \n",
       "\n",
       "     changeVal  changeRate      nav  threeMonthEarnRate   quant  amonut  \\\n",
       "38           5        0.01  50229.0              0.1495   42125    2115   \n",
       "104        205        1.63      NaN              2.6865   25309     322   \n",
       "117         65        0.65  10114.0              4.5809  178524    1803   \n",
       "158        110        1.18   9453.0              9.1281  331383    3134   \n",
       "164         60        0.50  12018.0              4.4547   26111     313   \n",
       "182         30        0.28  10881.0              2.2535   62415     681   \n",
       "199        -40       -0.34  11666.0              4.0408    7160      83   \n",
       "207        -10       -0.19   5251.0              1.5458    8968      47   \n",
       "233       -115       -0.18  63660.0              4.0446     217      13   \n",
       "265       -155       -1.60   9570.0             -8.9119    1072      10   \n",
       "269        -55       -0.45  12191.0             -5.5170    7425      90   \n",
       "274        -20       -0.17  11811.0              6.2778    1131      13   \n",
       "275         40        0.37  10782.0              3.9671    7328      78   \n",
       "281        -70       -0.66  10495.0             -4.5619     254       2   \n",
       "284        -10       -0.09  11359.0              4.5787    3426      38   \n",
       "286        -80       -0.71      NaN              3.2036    4299      48   \n",
       "290       -120       -0.27  43750.0              9.6266      14       0   \n",
       "291        -25       -0.25   9867.0             -1.5416    4861      47   \n",
       "296         25        0.22      NaN              2.2084     919      10   \n",
       "311        -40       -0.33  12175.0              6.0763   14084     171   \n",
       "312       -160       -1.62      NaN             -0.1013      98       0   \n",
       "316         45        0.38      NaN             12.3268     566       6   \n",
       "319        -10       -0.10  10337.0              0.0485   15304     157   \n",
       "330         95        0.96      NaN              2.3858    1941      19   \n",
       "340        500        0.64      NaN              1.5643     234      18   \n",
       "342         60        0.62      NaN                 NaN    1928      18   \n",
       "348        120        1.28   9529.0              8.9855    7155      68   \n",
       "374        -45       -0.41  10976.0              3.9206     322       3   \n",
       "422        -75       -0.74  10069.0             -4.4770    2820      28   \n",
       "435       -135       -1.39   9604.0             -8.8442   44244     424   \n",
       "441        -20       -0.19      NaN             -0.4321     237       2   \n",
       "444         15        0.15  10004.0             -0.2993    1385      13   \n",
       "449         30        0.31   9602.0             -1.1382       3       0   \n",
       "457        -40       -0.46   8752.0             -1.0164      14       0   \n",
       "\n",
       "     marketSum  \n",
       "38        3147  \n",
       "104        703  \n",
       "117        608  \n",
       "158        327  \n",
       "164        299  \n",
       "182        251  \n",
       "199        210  \n",
       "207        199  \n",
       "233        153  \n",
       "265        124  \n",
       "269        122  \n",
       "274        119  \n",
       "275        119  \n",
       "281        116  \n",
       "284        114  \n",
       "286        112  \n",
       "290        109  \n",
       "291        109  \n",
       "296        104  \n",
       "311         97  \n",
       "312         97  \n",
       "316         94  \n",
       "319         93  \n",
       "330         85  \n",
       "340         79  \n",
       "342         78  \n",
       "348         76  \n",
       "374         66  \n",
       "422         50  \n",
       "435         46  \n",
       "441         41  \n",
       "444         40  \n",
       "449         38  \n",
       "457         35  "
      ],
      "text/html": "<div>\n<style scoped>\n    .dataframe tbody tr th:only-of-type {\n        vertical-align: middle;\n    }\n\n    .dataframe tbody tr th {\n        vertical-align: top;\n    }\n\n    .dataframe thead th {\n        text-align: right;\n    }\n</style>\n<table border=\"1\" class=\"dataframe\">\n  <thead>\n    <tr style=\"text-align: right;\">\n      <th></th>\n      <th>itemcode</th>\n      <th>etfTabCode</th>\n      <th>itemname</th>\n      <th>nowVal</th>\n      <th>risefall</th>\n      <th>changeVal</th>\n      <th>changeRate</th>\n      <th>nav</th>\n      <th>threeMonthEarnRate</th>\n      <th>quant</th>\n      <th>amonut</th>\n      <th>marketSum</th>\n    </tr>\n  </thead>\n  <tbody>\n    <tr>\n      <th>38</th>\n      <td>357870</td>\n      <td>7</td>\n      <td>TIGER CD금리투자KIS(합성)</td>\n      <td>50230</td>\n      <td>2</td>\n      <td>5</td>\n      <td>0.01</td>\n      <td>50229.0</td>\n      <td>0.1495</td>\n      <td>42125</td>\n      <td>2115</td>\n      <td>3147</td>\n    </tr>\n    <tr>\n      <th>104</th>\n      <td>182480</td>\n      <td>7</td>\n      <td>TIGER 미국MSCI리츠(합성 H)</td>\n      <td>12780</td>\n      <td>2</td>\n      <td>205</td>\n      <td>1.63</td>\n      <td>NaN</td>\n      <td>2.6865</td>\n      <td>25309</td>\n      <td>322</td>\n      <td>703</td>\n    </tr>\n    <tr>\n      <th>117</th>\n      <td>261240</td>\n      <td>7</td>\n      <td>KODEX 미국달러선물</td>\n      <td>10110</td>\n      <td>2</td>\n      <td>65</td>\n      <td>0.65</td>\n      <td>10114.0</td>\n      <td>4.5809</td>\n      <td>178524</td>\n      <td>1803</td>\n      <td>608</td>\n    </tr>\n    <tr>\n      <th>158</th>\n      <td>261250</td>\n      <td>7</td>\n      <td>KODEX 미국달러선물레버리지</td>\n      <td>9435</td>\n      <td>2</td>\n      <td>110</td>\n      <td>1.18</td>\n      <td>9453.0</td>\n      <td>9.1281</td>\n      <td>331383</td>\n      <td>3134</td>\n      <td>327</td>\n    </tr>\n    <tr>\n      <th>164</th>\n      <td>138230</td>\n      <td>7</td>\n      <td>KOSEF 미국달러선물</td>\n      <td>11995</td>\n      <td>2</td>\n      <td>60</td>\n      <td>0.50</td>\n      <td>12018.0</td>\n      <td>4.4547</td>\n      <td>26111</td>\n      <td>313</td>\n      <td>299</td>\n    </tr>\n    <tr>\n      <th>182</th>\n      <td>329650</td>\n      <td>7</td>\n      <td>KODEX TRF3070</td>\n      <td>10920</td>\n      <td>2</td>\n      <td>30</td>\n      <td>0.28</td>\n      <td>10881.0</td>\n      <td>2.2535</td>\n      <td>62415</td>\n      <td>681</td>\n      <td>251</td>\n    </tr>\n    <tr>\n      <th>199</th>\n      <td>237370</td>\n      <td>7</td>\n      <td>KODEX 배당성장채권혼합</td>\n      <td>11675</td>\n      <td>5</td>\n      <td>-40</td>\n      <td>-0.34</td>\n      <td>11666.0</td>\n      <td>4.0408</td>\n      <td>7160</td>\n      <td>83</td>\n      <td>210</td>\n    </tr>\n    <tr>\n      <th>207</th>\n      <td>341850</td>\n      <td>7</td>\n      <td>TIGER KIS부동산인프라채권TR</td>\n      <td>5245</td>\n      <td>5</td>\n      <td>-10</td>\n      <td>-0.19</td>\n      <td>5251.0</td>\n      <td>1.5458</td>\n      <td>8968</td>\n      <td>47</td>\n      <td>199</td>\n    </tr>\n    <tr>\n      <th>233</th>\n      <td>183700</td>\n      <td>7</td>\n      <td>KBSTAR 채권혼합</td>\n      <td>63680</td>\n      <td>5</td>\n      <td>-115</td>\n      <td>-0.18</td>\n      <td>63660.0</td>\n      <td>4.0446</td>\n      <td>217</td>\n      <td>13</td>\n      <td>153</td>\n    </tr>\n    <tr>\n      <th>265</th>\n      <td>261120</td>\n      <td>7</td>\n      <td>TIGER 미국달러선물인버스2X</td>\n      <td>9555</td>\n      <td>5</td>\n      <td>-155</td>\n      <td>-1.60</td>\n      <td>9570.0</td>\n      <td>-8.9119</td>\n      <td>1072</td>\n      <td>10</td>\n      <td>124</td>\n    </tr>\n    <tr>\n      <th>269</th>\n      <td>253290</td>\n      <td>7</td>\n      <td>KBSTAR 헬스케어채권혼합</td>\n      <td>12190</td>\n      <td>5</td>\n      <td>-55</td>\n      <td>-0.45</td>\n      <td>12191.0</td>\n      <td>-5.5170</td>\n      <td>7425</td>\n      <td>90</td>\n      <td>122</td>\n    </tr>\n    <tr>\n      <th>274</th>\n      <td>329670</td>\n      <td>7</td>\n      <td>KODEX TRF7030</td>\n      <td>11915</td>\n      <td>5</td>\n      <td>-20</td>\n      <td>-0.17</td>\n      <td>11811.0</td>\n      <td>6.2778</td>\n      <td>1131</td>\n      <td>13</td>\n      <td>119</td>\n    </tr>\n    <tr>\n      <th>275</th>\n      <td>251600</td>\n      <td>7</td>\n      <td>ARIRANG 고배당주채권혼합</td>\n      <td>10785</td>\n      <td>2</td>\n      <td>40</td>\n      <td>0.37</td>\n      <td>10782.0</td>\n      <td>3.9671</td>\n      <td>7328</td>\n      <td>78</td>\n      <td>119</td>\n    </tr>\n    <tr>\n      <th>281</th>\n      <td>139660</td>\n      <td>7</td>\n      <td>KOSEF 미국달러선물인버스</td>\n      <td>10495</td>\n      <td>5</td>\n      <td>-70</td>\n      <td>-0.66</td>\n      <td>10495.0</td>\n      <td>-4.5619</td>\n      <td>254</td>\n      <td>2</td>\n      <td>116</td>\n    </tr>\n    <tr>\n      <th>284</th>\n      <td>329660</td>\n      <td>7</td>\n      <td>KODEX TRF5050</td>\n      <td>11410</td>\n      <td>5</td>\n      <td>-10</td>\n      <td>-0.09</td>\n      <td>11359.0</td>\n      <td>4.5787</td>\n      <td>3426</td>\n      <td>38</td>\n      <td>114</td>\n    </tr>\n    <tr>\n      <th>286</th>\n      <td>316300</td>\n      <td>7</td>\n      <td>KINDEX 싱가포르리츠</td>\n      <td>11195</td>\n      <td>5</td>\n      <td>-80</td>\n      <td>-0.71</td>\n      <td>NaN</td>\n      <td>3.2036</td>\n      <td>4299</td>\n      <td>48</td>\n      <td>112</td>\n    </tr>\n    <tr>\n      <th>290</th>\n      <td>183710</td>\n      <td>7</td>\n      <td>KBSTAR 주식혼합</td>\n      <td>43780</td>\n      <td>5</td>\n      <td>-120</td>\n      <td>-0.27</td>\n      <td>43750.0</td>\n      <td>9.6266</td>\n      <td>14</td>\n      <td>0</td>\n      <td>109</td>\n    </tr>\n    <tr>\n      <th>291</th>\n      <td>237440</td>\n      <td>7</td>\n      <td>TIGER 경기방어채권혼합</td>\n      <td>9875</td>\n      <td>5</td>\n      <td>-25</td>\n      <td>-0.25</td>\n      <td>9867.0</td>\n      <td>-1.5416</td>\n      <td>4861</td>\n      <td>47</td>\n      <td>109</td>\n    </tr>\n    <tr>\n      <th>296</th>\n      <td>352560</td>\n      <td>7</td>\n      <td>KODEX 다우존스미국리츠(H)</td>\n      <td>11595</td>\n      <td>2</td>\n      <td>25</td>\n      <td>0.22</td>\n      <td>NaN</td>\n      <td>2.2084</td>\n      <td>919</td>\n      <td>10</td>\n      <td>104</td>\n    </tr>\n    <tr>\n      <th>311</th>\n      <td>241390</td>\n      <td>7</td>\n      <td>KBSTAR V&amp;S셀렉트밸류채권혼합</td>\n      <td>12180</td>\n      <td>5</td>\n      <td>-40</td>\n      <td>-0.33</td>\n      <td>12175.0</td>\n      <td>6.0763</td>\n      <td>14084</td>\n      <td>171</td>\n      <td>97</td>\n    </tr>\n    <tr>\n      <th>312</th>\n      <td>342140</td>\n      <td>7</td>\n      <td>KINDEX 모닝스타싱가포르리츠채권혼합</td>\n      <td>9710</td>\n      <td>5</td>\n      <td>-160</td>\n      <td>-1.62</td>\n      <td>NaN</td>\n      <td>-0.1013</td>\n      <td>98</td>\n      <td>0</td>\n      <td>97</td>\n    </tr>\n    <tr>\n      <th>316</th>\n      <td>352540</td>\n      <td>7</td>\n      <td>KODEX TSE일본리츠(H)</td>\n      <td>11800</td>\n      <td>2</td>\n      <td>45</td>\n      <td>0.38</td>\n      <td>NaN</td>\n      <td>12.3268</td>\n      <td>566</td>\n      <td>6</td>\n      <td>94</td>\n    </tr>\n    <tr>\n      <th>319</th>\n      <td>292560</td>\n      <td>7</td>\n      <td>TIGER 일본엔선물</td>\n      <td>10300</td>\n      <td>5</td>\n      <td>-10</td>\n      <td>-0.10</td>\n      <td>10337.0</td>\n      <td>0.0485</td>\n      <td>15304</td>\n      <td>157</td>\n      <td>93</td>\n    </tr>\n    <tr>\n      <th>330</th>\n      <td>354240</td>\n      <td>7</td>\n      <td>KBSTAR 미국고정배당우선증권ICE TR</td>\n      <td>9965</td>\n      <td>2</td>\n      <td>95</td>\n      <td>0.96</td>\n      <td>NaN</td>\n      <td>2.3858</td>\n      <td>1941</td>\n      <td>19</td>\n      <td>85</td>\n    </tr>\n    <tr>\n      <th>340</th>\n      <td>181480</td>\n      <td>7</td>\n      <td>KINDEX 미국다우존스리츠(합성 H)</td>\n      <td>79060</td>\n      <td>2</td>\n      <td>500</td>\n      <td>0.64</td>\n      <td>NaN</td>\n      <td>1.5643</td>\n      <td>234</td>\n      <td>18</td>\n      <td>79</td>\n    </tr>\n    <tr>\n      <th>342</th>\n      <td>375270</td>\n      <td>7</td>\n      <td>KBSTAR 글로벌데이터센터리츠나스닥(합성)</td>\n      <td>9750</td>\n      <td>2</td>\n      <td>60</td>\n      <td>0.62</td>\n      <td>NaN</td>\n      <td>NaN</td>\n      <td>1928</td>\n      <td>18</td>\n      <td>78</td>\n    </tr>\n    <tr>\n      <th>348</th>\n      <td>261110</td>\n      <td>7</td>\n      <td>TIGER 미국달러선물레버리지</td>\n      <td>9520</td>\n      <td>2</td>\n      <td>120</td>\n      <td>1.28</td>\n      <td>9529.0</td>\n      <td>8.9855</td>\n      <td>7155</td>\n      <td>68</td>\n      <td>76</td>\n    </tr>\n    <tr>\n      <th>374</th>\n      <td>238670</td>\n      <td>7</td>\n      <td>ARIRANG 스마트베타Quality채권혼합</td>\n      <td>10955</td>\n      <td>5</td>\n      <td>-45</td>\n      <td>-0.41</td>\n      <td>10976.0</td>\n      <td>3.9206</td>\n      <td>322</td>\n      <td>3</td>\n      <td>66</td>\n    </tr>\n    <tr>\n      <th>422</th>\n      <td>261270</td>\n      <td>7</td>\n      <td>KODEX 미국달러선물인버스</td>\n      <td>10060</td>\n      <td>5</td>\n      <td>-75</td>\n      <td>-0.74</td>\n      <td>10069.0</td>\n      <td>-4.4770</td>\n      <td>2820</td>\n      <td>28</td>\n      <td>50</td>\n    </tr>\n    <tr>\n      <th>435</th>\n      <td>261260</td>\n      <td>7</td>\n      <td>KODEX 미국달러선물인버스2X</td>\n      <td>9605</td>\n      <td>5</td>\n      <td>-135</td>\n      <td>-1.39</td>\n      <td>9604.0</td>\n      <td>-8.8442</td>\n      <td>44244</td>\n      <td>424</td>\n      <td>46</td>\n    </tr>\n    <tr>\n      <th>441</th>\n      <td>321410</td>\n      <td>7</td>\n      <td>KODEX 멀티에셋하이인컴(H)</td>\n      <td>10350</td>\n      <td>5</td>\n      <td>-20</td>\n      <td>-0.19</td>\n      <td>NaN</td>\n      <td>-0.4321</td>\n      <td>237</td>\n      <td>2</td>\n      <td>41</td>\n    </tr>\n    <tr>\n      <th>444</th>\n      <td>292570</td>\n      <td>7</td>\n      <td>TIGER 일본엔선물레버리지</td>\n      <td>10010</td>\n      <td>2</td>\n      <td>15</td>\n      <td>0.15</td>\n      <td>10004.0</td>\n      <td>-0.2993</td>\n      <td>1385</td>\n      <td>13</td>\n      <td>40</td>\n    </tr>\n    <tr>\n      <th>449</th>\n      <td>292580</td>\n      <td>7</td>\n      <td>TIGER 일본엔선물인버스</td>\n      <td>9585</td>\n      <td>2</td>\n      <td>30</td>\n      <td>0.31</td>\n      <td>9602.0</td>\n      <td>-1.1382</td>\n      <td>3</td>\n      <td>0</td>\n      <td>38</td>\n    </tr>\n    <tr>\n      <th>457</th>\n      <td>292590</td>\n      <td>7</td>\n      <td>TIGER 일본엔선물인버스2X</td>\n      <td>8725</td>\n      <td>5</td>\n      <td>-40</td>\n      <td>-0.46</td>\n      <td>8752.0</td>\n      <td>-1.0164</td>\n      <td>14</td>\n      <td>0</td>\n      <td>35</td>\n    </tr>\n  </tbody>\n</table>\n</div>"
     },
     "metadata": {},
     "execution_count": 21
    }
   ],
   "source": [
    "df[df['etfTabCode'] == 7]"
   ]
  },
  {
   "cell_type": "code",
   "execution_count": null,
   "metadata": {},
   "outputs": [],
   "source": []
  },
  {
   "cell_type": "code",
   "execution_count": null,
   "metadata": {},
   "outputs": [],
   "source": []
  }
 ]
}