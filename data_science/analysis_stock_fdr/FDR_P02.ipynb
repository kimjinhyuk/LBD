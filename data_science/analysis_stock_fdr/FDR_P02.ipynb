{
 "metadata": {
  "language_info": {
   "codemirror_mode": {
    "name": "ipython",
    "version": 3
   },
   "file_extension": ".py",
   "mimetype": "text/x-python",
   "name": "python",
   "nbconvert_exporter": "python",
   "pygments_lexer": "ipython3",
   "version": "3.8.8-final"
  },
  "orig_nbformat": 2,
  "kernelspec": {
   "name": "python3",
   "display_name": "Python 3.8.8 64-bit ('tf': conda)",
   "metadata": {
    "interpreter": {
     "hash": "36abe285ff8731882665f4c5209b8197457efe98c32ed56e120d6781117a0a1c"
    }
   }
  }
 },
 "nbformat": 4,
 "nbformat_minor": 2,
 "cells": [
  {
   "cell_type": "code",
   "execution_count": 2,
   "metadata": {},
   "outputs": [],
   "source": [
    "#데이터 분석을 위한 pandas, 수치계산을 위한 numpy 라이브러리 로드\n",
    "import pandas as pd\n",
    "import numpy as np\n",
    "import seaborn as sns\n",
    "import matplotlib.pyplot as plt\n"
   ]
  },
  {
   "cell_type": "code",
   "execution_count": 4,
   "metadata": {},
   "outputs": [
    {
     "output_type": "execute_result",
     "data": {
      "text/plain": [
       "'0.11.1'"
      ]
     },
     "metadata": {},
     "execution_count": 4
    }
   ],
   "source": [
    "sns.__version__"
   ]
  },
  {
   "cell_type": "code",
   "execution_count": 5,
   "metadata": {},
   "outputs": [
    {
     "output_type": "execute_result",
     "data": {
      "text/plain": [
       "'1.2.3'"
      ]
     },
     "metadata": {},
     "execution_count": 5
    }
   ],
   "source": [
    "pd.__version__"
   ]
  },
  {
   "cell_type": "code",
   "execution_count": null,
   "metadata": {},
   "outputs": [],
   "source": [
    "#시각화를 위한 폰트 설정\n",
    "def get_font_family():\n",
    "    import platform\n",
    "    system_name = platform.system()\n",
    "\n",
    "    if system_name == \"Dawwin\":\n",
    "        font_family = \"AppleGotic\"\n",
    "    elif system_name == \"Windows\":\n",
    "        font_family = \"Malgun Gothic\"\n",
    "    else:\n",
    "        !apt-get update -qq\n",
    "        !apt-get install fonts-nanum -qq > /dev/null\n",
    "\n",
    "        import matplotlib.font_manager as fm\n",
    "\n",
    "        fontpath = '/usr/share/fonts/truetype/nanum/NanumBarunGothc.ttf'\n",
    "        font = fm.FontProperties(fname=fontpath, size=9)\n",
    "        fm._rebuild()\n",
    "        font_family = \"NanumBarunGothc\"\n",
    "    return font_family"
   ]
  },
  {
   "cell_type": "code",
   "execution_count": 5,
   "metadata": {},
   "outputs": [
    {
     "output_type": "execute_result",
     "data": {
      "text/plain": [
       "  itemcode  etfTabCode          itemname  nowVal  risefall  changeVal  \\\n",
       "0   069500           1         KODEX 200   41215         5       -260   \n",
       "1   102110           1         TIGER 200   41040         5       -295   \n",
       "2   252670           3  KODEX 200선물인버스2X    2215         2         30   \n",
       "3   153130           6        KODEX 단기채권  102725         5        -15   \n",
       "4   102780           2        KODEX 삼성그룹    9680         5       -120   \n",
       "\n",
       "   changeRate       nav  threeMonthEarnRate      quant   amonut  marketSum  \n",
       "0       -0.63   41266.0             14.1995   10741831   441008      51230  \n",
       "1       -0.71   41108.0             14.3556    1126933    46126      25629  \n",
       "2        1.37    2232.0            -27.0451  494560618  1103961      21893  \n",
       "3       -0.01  102729.0              0.1510       7549      775      19141  \n",
       "4       -1.22    9709.0              9.0100     363691     3505      16901  "
      ],
      "text/html": "<div>\n<style scoped>\n    .dataframe tbody tr th:only-of-type {\n        vertical-align: middle;\n    }\n\n    .dataframe tbody tr th {\n        vertical-align: top;\n    }\n\n    .dataframe thead th {\n        text-align: right;\n    }\n</style>\n<table border=\"1\" class=\"dataframe\">\n  <thead>\n    <tr style=\"text-align: right;\">\n      <th></th>\n      <th>itemcode</th>\n      <th>etfTabCode</th>\n      <th>itemname</th>\n      <th>nowVal</th>\n      <th>risefall</th>\n      <th>changeVal</th>\n      <th>changeRate</th>\n      <th>nav</th>\n      <th>threeMonthEarnRate</th>\n      <th>quant</th>\n      <th>amonut</th>\n      <th>marketSum</th>\n    </tr>\n  </thead>\n  <tbody>\n    <tr>\n      <th>0</th>\n      <td>069500</td>\n      <td>1</td>\n      <td>KODEX 200</td>\n      <td>41215</td>\n      <td>5</td>\n      <td>-260</td>\n      <td>-0.63</td>\n      <td>41266.0</td>\n      <td>14.1995</td>\n      <td>10741831</td>\n      <td>441008</td>\n      <td>51230</td>\n    </tr>\n    <tr>\n      <th>1</th>\n      <td>102110</td>\n      <td>1</td>\n      <td>TIGER 200</td>\n      <td>41040</td>\n      <td>5</td>\n      <td>-295</td>\n      <td>-0.71</td>\n      <td>41108.0</td>\n      <td>14.3556</td>\n      <td>1126933</td>\n      <td>46126</td>\n      <td>25629</td>\n    </tr>\n    <tr>\n      <th>2</th>\n      <td>252670</td>\n      <td>3</td>\n      <td>KODEX 200선물인버스2X</td>\n      <td>2215</td>\n      <td>2</td>\n      <td>30</td>\n      <td>1.37</td>\n      <td>2232.0</td>\n      <td>-27.0451</td>\n      <td>494560618</td>\n      <td>1103961</td>\n      <td>21893</td>\n    </tr>\n    <tr>\n      <th>3</th>\n      <td>153130</td>\n      <td>6</td>\n      <td>KODEX 단기채권</td>\n      <td>102725</td>\n      <td>5</td>\n      <td>-15</td>\n      <td>-0.01</td>\n      <td>102729.0</td>\n      <td>0.1510</td>\n      <td>7549</td>\n      <td>775</td>\n      <td>19141</td>\n    </tr>\n    <tr>\n      <th>4</th>\n      <td>102780</td>\n      <td>2</td>\n      <td>KODEX 삼성그룹</td>\n      <td>9680</td>\n      <td>5</td>\n      <td>-120</td>\n      <td>-1.22</td>\n      <td>9709.0</td>\n      <td>9.0100</td>\n      <td>363691</td>\n      <td>3505</td>\n      <td>16901</td>\n    </tr>\n  </tbody>\n</table>\n</div>"
     },
     "metadata": {},
     "execution_count": 5
    }
   ],
   "source": [
    "df = pd.read_csv('etf_2021-03-09_raw.csv', dtype={\"itemcode\": object})\n",
    "df.head()"
   ]
  },
  {
   "cell_type": "code",
   "execution_count": 6,
   "metadata": {},
   "outputs": [
    {
     "output_type": "stream",
     "name": "stdout",
     "text": [
      "<class 'pandas.core.frame.DataFrame'>\nRangeIndex: 474 entries, 0 to 473\nData columns (total 12 columns):\n #   Column              Non-Null Count  Dtype  \n---  ------              --------------  -----  \n 0   itemcode            474 non-null    object \n 1   etfTabCode          474 non-null    int64  \n 2   itemname            474 non-null    object \n 3   nowVal              474 non-null    int64  \n 4   risefall            474 non-null    int64  \n 5   changeVal           474 non-null    int64  \n 6   changeRate          474 non-null    float64\n 7   nav                 346 non-null    float64\n 8   threeMonthEarnRate  461 non-null    float64\n 9   quant               474 non-null    int64  \n 10  amonut              474 non-null    int64  \n 11  marketSum           474 non-null    int64  \ndtypes: float64(3), int64(7), object(2)\nmemory usage: 44.6+ KB\n"
     ]
    }
   ],
   "source": [
    "df.info()"
   ]
  },
  {
   "cell_type": "code",
   "execution_count": 8,
   "metadata": {},
   "outputs": [
    {
     "output_type": "execute_result",
     "data": {
      "text/plain": [
       "0       10741831\n",
       "1        1126933\n",
       "2      494560618\n",
       "3           7549\n",
       "4         363691\n",
       "         ...    \n",
       "469          102\n",
       "470         9220\n",
       "471         2140\n",
       "472         8614\n",
       "473          139\n",
       "Name: quant, Length: 474, dtype: int64"
      ]
     },
     "metadata": {},
     "execution_count": 8
    }
   ],
   "source": [
    "df['quant']"
   ]
  },
  {
   "cell_type": "code",
   "execution_count": 11,
   "metadata": {},
   "outputs": [
    {
     "output_type": "execute_result",
     "data": {
      "text/plain": [
       "   itemcode  etfTabCode           itemname  nowVal  risefall  changeVal  \\\n",
       "2    252670           3   KODEX 200선물인버스2X    2215         2         30   \n",
       "10   114800           3          KODEX 인버스    4030         2         25   \n",
       "29   251340           3  KODEX 코스닥150선물인버스    4885         2         35   \n",
       "6    122630           3         KODEX 레버리지   25250         5       -345   \n",
       "14   233740           1  KODEX 코스닥150 레버리지   13120         5       -140   \n",
       "0    069500           1          KODEX 200   41215         5       -260   \n",
       "75   252710           3   TIGER 200선물인버스2X    2300         2         30   \n",
       "33   229200           1      KODEX 코스닥 150   13570         5        -90   \n",
       "42   091170           2           KODEX 은행    7015         2        160   \n",
       "12   305720           2       KODEX 2차전지산업   17515         5       -635   \n",
       "\n",
       "    changeRate      nav  threeMonthEarnRate      quant   amonut  marketSum  \n",
       "2         1.37   2232.0            -27.0451  494560618  1103961      21893  \n",
       "10        0.62   4044.0            -13.7783   93707981   378961      12199  \n",
       "29        0.72   4930.0              2.1052   73959414   363978       4465  \n",
       "6        -1.35  25292.0             28.0390   57182653  1434126      16211  \n",
       "14       -1.06  13041.0             -9.7038   17951068   231252       9683  \n",
       "0        -0.63  41266.0             14.1995   10741831   441008      51230  \n",
       "75        1.32   2311.0            -26.7742    9776084    22610       1210  \n",
       "33       -0.66  13660.0             -4.0731    4826286    64914       3996  \n",
       "42        2.33   7032.0             11.1922    3462456    24256       2546  \n",
       "12       -3.50  17515.0             28.4046    2544896    44167      11034  "
      ],
      "text/html": "<div>\n<style scoped>\n    .dataframe tbody tr th:only-of-type {\n        vertical-align: middle;\n    }\n\n    .dataframe tbody tr th {\n        vertical-align: top;\n    }\n\n    .dataframe thead th {\n        text-align: right;\n    }\n</style>\n<table border=\"1\" class=\"dataframe\">\n  <thead>\n    <tr style=\"text-align: right;\">\n      <th></th>\n      <th>itemcode</th>\n      <th>etfTabCode</th>\n      <th>itemname</th>\n      <th>nowVal</th>\n      <th>risefall</th>\n      <th>changeVal</th>\n      <th>changeRate</th>\n      <th>nav</th>\n      <th>threeMonthEarnRate</th>\n      <th>quant</th>\n      <th>amonut</th>\n      <th>marketSum</th>\n    </tr>\n  </thead>\n  <tbody>\n    <tr>\n      <th>2</th>\n      <td>252670</td>\n      <td>3</td>\n      <td>KODEX 200선물인버스2X</td>\n      <td>2215</td>\n      <td>2</td>\n      <td>30</td>\n      <td>1.37</td>\n      <td>2232.0</td>\n      <td>-27.0451</td>\n      <td>494560618</td>\n      <td>1103961</td>\n      <td>21893</td>\n    </tr>\n    <tr>\n      <th>10</th>\n      <td>114800</td>\n      <td>3</td>\n      <td>KODEX 인버스</td>\n      <td>4030</td>\n      <td>2</td>\n      <td>25</td>\n      <td>0.62</td>\n      <td>4044.0</td>\n      <td>-13.7783</td>\n      <td>93707981</td>\n      <td>378961</td>\n      <td>12199</td>\n    </tr>\n    <tr>\n      <th>29</th>\n      <td>251340</td>\n      <td>3</td>\n      <td>KODEX 코스닥150선물인버스</td>\n      <td>4885</td>\n      <td>2</td>\n      <td>35</td>\n      <td>0.72</td>\n      <td>4930.0</td>\n      <td>2.1052</td>\n      <td>73959414</td>\n      <td>363978</td>\n      <td>4465</td>\n    </tr>\n    <tr>\n      <th>6</th>\n      <td>122630</td>\n      <td>3</td>\n      <td>KODEX 레버리지</td>\n      <td>25250</td>\n      <td>5</td>\n      <td>-345</td>\n      <td>-1.35</td>\n      <td>25292.0</td>\n      <td>28.0390</td>\n      <td>57182653</td>\n      <td>1434126</td>\n      <td>16211</td>\n    </tr>\n    <tr>\n      <th>14</th>\n      <td>233740</td>\n      <td>1</td>\n      <td>KODEX 코스닥150 레버리지</td>\n      <td>13120</td>\n      <td>5</td>\n      <td>-140</td>\n      <td>-1.06</td>\n      <td>13041.0</td>\n      <td>-9.7038</td>\n      <td>17951068</td>\n      <td>231252</td>\n      <td>9683</td>\n    </tr>\n    <tr>\n      <th>0</th>\n      <td>069500</td>\n      <td>1</td>\n      <td>KODEX 200</td>\n      <td>41215</td>\n      <td>5</td>\n      <td>-260</td>\n      <td>-0.63</td>\n      <td>41266.0</td>\n      <td>14.1995</td>\n      <td>10741831</td>\n      <td>441008</td>\n      <td>51230</td>\n    </tr>\n    <tr>\n      <th>75</th>\n      <td>252710</td>\n      <td>3</td>\n      <td>TIGER 200선물인버스2X</td>\n      <td>2300</td>\n      <td>2</td>\n      <td>30</td>\n      <td>1.32</td>\n      <td>2311.0</td>\n      <td>-26.7742</td>\n      <td>9776084</td>\n      <td>22610</td>\n      <td>1210</td>\n    </tr>\n    <tr>\n      <th>33</th>\n      <td>229200</td>\n      <td>1</td>\n      <td>KODEX 코스닥 150</td>\n      <td>13570</td>\n      <td>5</td>\n      <td>-90</td>\n      <td>-0.66</td>\n      <td>13660.0</td>\n      <td>-4.0731</td>\n      <td>4826286</td>\n      <td>64914</td>\n      <td>3996</td>\n    </tr>\n    <tr>\n      <th>42</th>\n      <td>091170</td>\n      <td>2</td>\n      <td>KODEX 은행</td>\n      <td>7015</td>\n      <td>2</td>\n      <td>160</td>\n      <td>2.33</td>\n      <td>7032.0</td>\n      <td>11.1922</td>\n      <td>3462456</td>\n      <td>24256</td>\n      <td>2546</td>\n    </tr>\n    <tr>\n      <th>12</th>\n      <td>305720</td>\n      <td>2</td>\n      <td>KODEX 2차전지산업</td>\n      <td>17515</td>\n      <td>5</td>\n      <td>-635</td>\n      <td>-3.50</td>\n      <td>17515.0</td>\n      <td>28.4046</td>\n      <td>2544896</td>\n      <td>44167</td>\n      <td>11034</td>\n    </tr>\n  </tbody>\n</table>\n</div>"
     },
     "metadata": {},
     "execution_count": 11
    }
   ],
   "source": [
    "df.sort_values('quant', ascending=False).head(10)"
   ]
  },
  {
   "cell_type": "code",
   "execution_count": 14,
   "metadata": {},
   "outputs": [
    {
     "output_type": "execute_result",
     "data": {
      "text/plain": [
       "1     64\n",
       "2    179\n",
       "3     31\n",
       "4     97\n",
       "5     14\n",
       "6     55\n",
       "7     34\n",
       "Name: etfTabCode, dtype: int64"
      ]
     },
     "metadata": {},
     "execution_count": 14
    }
   ],
   "source": [
    "df['etfTabCode'].value_counts().sort_index()"
   ]
  },
  {
   "cell_type": "code",
   "execution_count": 20,
   "metadata": {},
   "outputs": [
    {
     "output_type": "execute_result",
     "data": {
      "text/plain": [
       "    itemcode  etfTabCode                  itemname  nowVal  risefall  \\\n",
       "38    357870           7       TIGER CD금리투자KIS(합성)   50230         2   \n",
       "104   182480           7      TIGER 미국MSCI리츠(합성 H)   12780         2   \n",
       "117   261240           7              KODEX 미국달러선물   10110         2   \n",
       "158   261250           7          KODEX 미국달러선물레버리지    9435         2   \n",
       "164   138230           7              KOSEF 미국달러선물   11995         2   \n",
       "182   329650           7             KODEX TRF3070   10920         2   \n",
       "199   237370           7            KODEX 배당성장채권혼합   11675         5   \n",
       "207   341850           7       TIGER KIS부동산인프라채권TR    5245         5   \n",
       "233   183700           7               KBSTAR 채권혼합   63680         5   \n",
       "265   261120           7         TIGER 미국달러선물인버스2X    9555         5   \n",
       "269   253290           7           KBSTAR 헬스케어채권혼합   12190         5   \n",
       "274   329670           7             KODEX TRF7030   11915         5   \n",
       "275   251600           7          ARIRANG 고배당주채권혼합   10785         2   \n",
       "281   139660           7           KOSEF 미국달러선물인버스   10495         5   \n",
       "284   329660           7             KODEX TRF5050   11410         5   \n",
       "286   316300           7             KINDEX 싱가포르리츠   11195         5   \n",
       "290   183710           7               KBSTAR 주식혼합   43780         5   \n",
       "291   237440           7            TIGER 경기방어채권혼합    9875         5   \n",
       "296   352560           7         KODEX 다우존스미국리츠(H)   11595         2   \n",
       "311   241390           7       KBSTAR V&S셀렉트밸류채권혼합   12180         5   \n",
       "312   342140           7     KINDEX 모닝스타싱가포르리츠채권혼합    9710         5   \n",
       "316   352540           7          KODEX TSE일본리츠(H)   11800         2   \n",
       "319   292560           7               TIGER 일본엔선물   10300         5   \n",
       "330   354240           7   KBSTAR 미국고정배당우선증권ICE TR    9965         2   \n",
       "340   181480           7     KINDEX 미국다우존스리츠(합성 H)   79060         2   \n",
       "342   375270           7  KBSTAR 글로벌데이터센터리츠나스닥(합성)    9750         2   \n",
       "348   261110           7          TIGER 미국달러선물레버리지    9520         2   \n",
       "374   238670           7  ARIRANG 스마트베타Quality채권혼합   10955         5   \n",
       "422   261270           7           KODEX 미국달러선물인버스   10060         5   \n",
       "435   261260           7         KODEX 미국달러선물인버스2X    9605         5   \n",
       "441   321410           7         KODEX 멀티에셋하이인컴(H)   10350         5   \n",
       "444   292570           7           TIGER 일본엔선물레버리지   10010         2   \n",
       "449   292580           7            TIGER 일본엔선물인버스    9585         2   \n",
       "457   292590           7          TIGER 일본엔선물인버스2X    8725         5   \n",
       "\n",
       "     changeVal  changeRate      nav  threeMonthEarnRate   quant  amonut  \\\n",
       "38           5        0.01  50229.0              0.1495   42125    2115   \n",
       "104        205        1.63      NaN              2.6865   25309     322   \n",
       "117         65        0.65  10114.0              4.5809  178524    1803   \n",
       "158        110        1.18   9453.0              9.1281  331383    3134   \n",
       "164         60        0.50  12018.0              4.4547   26111     313   \n",
       "182         30        0.28  10881.0              2.2535   62415     681   \n",
       "199        -40       -0.34  11666.0              4.0408    7160      83   \n",
       "207        -10       -0.19   5251.0              1.5458    8968      47   \n",
       "233       -115       -0.18  63660.0              4.0446     217      13   \n",
       "265       -155       -1.60   9570.0             -8.9119    1072      10   \n",
       "269        -55       -0.45  12191.0             -5.5170    7425      90   \n",
       "274        -20       -0.17  11811.0              6.2778    1131      13   \n",
       "275         40        0.37  10782.0              3.9671    7328      78   \n",
       "281        -70       -0.66  10495.0             -4.5619     254       2   \n",
       "284        -10       -0.09  11359.0              4.5787    3426      38   \n",
       "286        -80       -0.71      NaN              3.2036    4299      48   \n",
       "290       -120       -0.27  43750.0              9.6266      14       0   \n",
       "291        -25       -0.25   9867.0             -1.5416    4861      47   \n",
       "296         25        0.22      NaN              2.2084     919      10   \n",
       "311        -40       -0.33  12175.0              6.0763   14084     171   \n",
       "312       -160       -1.62      NaN             -0.1013      98       0   \n",
       "316         45        0.38      NaN             12.3268     566       6   \n",
       "319        -10       -0.10  10337.0              0.0485   15304     157   \n",
       "330         95        0.96      NaN              2.3858    1941      19   \n",
       "340        500        0.64      NaN              1.5643     234      18   \n",
       "342         60        0.62      NaN                 NaN    1928      18   \n",
       "348        120        1.28   9529.0              8.9855    7155      68   \n",
       "374        -45       -0.41  10976.0              3.9206     322       3   \n",
       "422        -75       -0.74  10069.0             -4.4770    2820      28   \n",
       "435       -135       -1.39   9604.0             -8.8442   44244     424   \n",
       "441        -20       -0.19      NaN             -0.4321     237       2   \n",
       "444         15        0.15  10004.0             -0.2993    1385      13   \n",
       "449         30        0.31   9602.0             -1.1382       3       0   \n",
       "457        -40       -0.46   8752.0             -1.0164      14       0   \n",
       "\n",
       "     marketSum  \n",
       "38        3147  \n",
       "104        703  \n",
       "117        608  \n",
       "158        327  \n",
       "164        299  \n",
       "182        251  \n",
       "199        210  \n",
       "207        199  \n",
       "233        153  \n",
       "265        124  \n",
       "269        122  \n",
       "274        119  \n",
       "275        119  \n",
       "281        116  \n",
       "284        114  \n",
       "286        112  \n",
       "290        109  \n",
       "291        109  \n",
       "296        104  \n",
       "311         97  \n",
       "312         97  \n",
       "316         94  \n",
       "319         93  \n",
       "330         85  \n",
       "340         79  \n",
       "342         78  \n",
       "348         76  \n",
       "374         66  \n",
       "422         50  \n",
       "435         46  \n",
       "441         41  \n",
       "444         40  \n",
       "449         38  \n",
       "457         35  "
      ],
      "text/html": "<div>\n<style scoped>\n    .dataframe tbody tr th:only-of-type {\n        vertical-align: middle;\n    }\n\n    .dataframe tbody tr th {\n        vertical-align: top;\n    }\n\n    .dataframe thead th {\n        text-align: right;\n    }\n</style>\n<table border=\"1\" class=\"dataframe\">\n  <thead>\n    <tr style=\"text-align: right;\">\n      <th></th>\n      <th>itemcode</th>\n      <th>etfTabCode</th>\n      <th>itemname</th>\n      <th>nowVal</th>\n      <th>risefall</th>\n      <th>changeVal</th>\n      <th>changeRate</th>\n      <th>nav</th>\n      <th>threeMonthEarnRate</th>\n      <th>quant</th>\n      <th>amonut</th>\n      <th>marketSum</th>\n    </tr>\n  </thead>\n  <tbody>\n    <tr>\n      <th>38</th>\n      <td>357870</td>\n      <td>7</td>\n      <td>TIGER CD금리투자KIS(합성)</td>\n      <td>50230</td>\n      <td>2</td>\n      <td>5</td>\n      <td>0.01</td>\n      <td>50229.0</td>\n      <td>0.1495</td>\n      <td>42125</td>\n      <td>2115</td>\n      <td>3147</td>\n    </tr>\n    <tr>\n      <th>104</th>\n      <td>182480</td>\n      <td>7</td>\n      <td>TIGER 미국MSCI리츠(합성 H)</td>\n      <td>12780</td>\n      <td>2</td>\n      <td>205</td>\n      <td>1.63</td>\n      <td>NaN</td>\n      <td>2.6865</td>\n      <td>25309</td>\n      <td>322</td>\n      <td>703</td>\n    </tr>\n    <tr>\n      <th>117</th>\n      <td>261240</td>\n      <td>7</td>\n      <td>KODEX 미국달러선물</td>\n      <td>10110</td>\n      <td>2</td>\n      <td>65</td>\n      <td>0.65</td>\n      <td>10114.0</td>\n      <td>4.5809</td>\n      <td>178524</td>\n      <td>1803</td>\n      <td>608</td>\n    </tr>\n    <tr>\n      <th>158</th>\n      <td>261250</td>\n      <td>7</td>\n      <td>KODEX 미국달러선물레버리지</td>\n      <td>9435</td>\n      <td>2</td>\n      <td>110</td>\n      <td>1.18</td>\n      <td>9453.0</td>\n      <td>9.1281</td>\n      <td>331383</td>\n      <td>3134</td>\n      <td>327</td>\n    </tr>\n    <tr>\n      <th>164</th>\n      <td>138230</td>\n      <td>7</td>\n      <td>KOSEF 미국달러선물</td>\n      <td>11995</td>\n      <td>2</td>\n      <td>60</td>\n      <td>0.50</td>\n      <td>12018.0</td>\n      <td>4.4547</td>\n      <td>26111</td>\n      <td>313</td>\n      <td>299</td>\n    </tr>\n    <tr>\n      <th>182</th>\n      <td>329650</td>\n      <td>7</td>\n      <td>KODEX TRF3070</td>\n      <td>10920</td>\n      <td>2</td>\n      <td>30</td>\n      <td>0.28</td>\n      <td>10881.0</td>\n      <td>2.2535</td>\n      <td>62415</td>\n      <td>681</td>\n      <td>251</td>\n    </tr>\n    <tr>\n      <th>199</th>\n      <td>237370</td>\n      <td>7</td>\n      <td>KODEX 배당성장채권혼합</td>\n      <td>11675</td>\n      <td>5</td>\n      <td>-40</td>\n      <td>-0.34</td>\n      <td>11666.0</td>\n      <td>4.0408</td>\n      <td>7160</td>\n      <td>83</td>\n      <td>210</td>\n    </tr>\n    <tr>\n      <th>207</th>\n      <td>341850</td>\n      <td>7</td>\n      <td>TIGER KIS부동산인프라채권TR</td>\n      <td>5245</td>\n      <td>5</td>\n      <td>-10</td>\n      <td>-0.19</td>\n      <td>5251.0</td>\n      <td>1.5458</td>\n      <td>8968</td>\n      <td>47</td>\n      <td>199</td>\n    </tr>\n    <tr>\n      <th>233</th>\n      <td>183700</td>\n      <td>7</td>\n      <td>KBSTAR 채권혼합</td>\n      <td>63680</td>\n      <td>5</td>\n      <td>-115</td>\n      <td>-0.18</td>\n      <td>63660.0</td>\n      <td>4.0446</td>\n      <td>217</td>\n      <td>13</td>\n      <td>153</td>\n    </tr>\n    <tr>\n      <th>265</th>\n      <td>261120</td>\n      <td>7</td>\n      <td>TIGER 미국달러선물인버스2X</td>\n      <td>9555</td>\n      <td>5</td>\n      <td>-155</td>\n      <td>-1.60</td>\n      <td>9570.0</td>\n      <td>-8.9119</td>\n      <td>1072</td>\n      <td>10</td>\n      <td>124</td>\n    </tr>\n    <tr>\n      <th>269</th>\n      <td>253290</td>\n      <td>7</td>\n      <td>KBSTAR 헬스케어채권혼합</td>\n      <td>12190</td>\n      <td>5</td>\n      <td>-55</td>\n      <td>-0.45</td>\n      <td>12191.0</td>\n      <td>-5.5170</td>\n      <td>7425</td>\n      <td>90</td>\n      <td>122</td>\n    </tr>\n    <tr>\n      <th>274</th>\n      <td>329670</td>\n      <td>7</td>\n      <td>KODEX TRF7030</td>\n      <td>11915</td>\n      <td>5</td>\n      <td>-20</td>\n      <td>-0.17</td>\n      <td>11811.0</td>\n      <td>6.2778</td>\n      <td>1131</td>\n      <td>13</td>\n      <td>119</td>\n    </tr>\n    <tr>\n      <th>275</th>\n      <td>251600</td>\n      <td>7</td>\n      <td>ARIRANG 고배당주채권혼합</td>\n      <td>10785</td>\n      <td>2</td>\n      <td>40</td>\n      <td>0.37</td>\n      <td>10782.0</td>\n      <td>3.9671</td>\n      <td>7328</td>\n      <td>78</td>\n      <td>119</td>\n    </tr>\n    <tr>\n      <th>281</th>\n      <td>139660</td>\n      <td>7</td>\n      <td>KOSEF 미국달러선물인버스</td>\n      <td>10495</td>\n      <td>5</td>\n      <td>-70</td>\n      <td>-0.66</td>\n      <td>10495.0</td>\n      <td>-4.5619</td>\n      <td>254</td>\n      <td>2</td>\n      <td>116</td>\n    </tr>\n    <tr>\n      <th>284</th>\n      <td>329660</td>\n      <td>7</td>\n      <td>KODEX TRF5050</td>\n      <td>11410</td>\n      <td>5</td>\n      <td>-10</td>\n      <td>-0.09</td>\n      <td>11359.0</td>\n      <td>4.5787</td>\n      <td>3426</td>\n      <td>38</td>\n      <td>114</td>\n    </tr>\n    <tr>\n      <th>286</th>\n      <td>316300</td>\n      <td>7</td>\n      <td>KINDEX 싱가포르리츠</td>\n      <td>11195</td>\n      <td>5</td>\n      <td>-80</td>\n      <td>-0.71</td>\n      <td>NaN</td>\n      <td>3.2036</td>\n      <td>4299</td>\n      <td>48</td>\n      <td>112</td>\n    </tr>\n    <tr>\n      <th>290</th>\n      <td>183710</td>\n      <td>7</td>\n      <td>KBSTAR 주식혼합</td>\n      <td>43780</td>\n      <td>5</td>\n      <td>-120</td>\n      <td>-0.27</td>\n      <td>43750.0</td>\n      <td>9.6266</td>\n      <td>14</td>\n      <td>0</td>\n      <td>109</td>\n    </tr>\n    <tr>\n      <th>291</th>\n      <td>237440</td>\n      <td>7</td>\n      <td>TIGER 경기방어채권혼합</td>\n      <td>9875</td>\n      <td>5</td>\n      <td>-25</td>\n      <td>-0.25</td>\n      <td>9867.0</td>\n      <td>-1.5416</td>\n      <td>4861</td>\n      <td>47</td>\n      <td>109</td>\n    </tr>\n    <tr>\n      <th>296</th>\n      <td>352560</td>\n      <td>7</td>\n      <td>KODEX 다우존스미국리츠(H)</td>\n      <td>11595</td>\n      <td>2</td>\n      <td>25</td>\n      <td>0.22</td>\n      <td>NaN</td>\n      <td>2.2084</td>\n      <td>919</td>\n      <td>10</td>\n      <td>104</td>\n    </tr>\n    <tr>\n      <th>311</th>\n      <td>241390</td>\n      <td>7</td>\n      <td>KBSTAR V&amp;S셀렉트밸류채권혼합</td>\n      <td>12180</td>\n      <td>5</td>\n      <td>-40</td>\n      <td>-0.33</td>\n      <td>12175.0</td>\n      <td>6.0763</td>\n      <td>14084</td>\n      <td>171</td>\n      <td>97</td>\n    </tr>\n    <tr>\n      <th>312</th>\n      <td>342140</td>\n      <td>7</td>\n      <td>KINDEX 모닝스타싱가포르리츠채권혼합</td>\n      <td>9710</td>\n      <td>5</td>\n      <td>-160</td>\n      <td>-1.62</td>\n      <td>NaN</td>\n      <td>-0.1013</td>\n      <td>98</td>\n      <td>0</td>\n      <td>97</td>\n    </tr>\n    <tr>\n      <th>316</th>\n      <td>352540</td>\n      <td>7</td>\n      <td>KODEX TSE일본리츠(H)</td>\n      <td>11800</td>\n      <td>2</td>\n      <td>45</td>\n      <td>0.38</td>\n      <td>NaN</td>\n      <td>12.3268</td>\n      <td>566</td>\n      <td>6</td>\n      <td>94</td>\n    </tr>\n    <tr>\n      <th>319</th>\n      <td>292560</td>\n      <td>7</td>\n      <td>TIGER 일본엔선물</td>\n      <td>10300</td>\n      <td>5</td>\n      <td>-10</td>\n      <td>-0.10</td>\n      <td>10337.0</td>\n      <td>0.0485</td>\n      <td>15304</td>\n      <td>157</td>\n      <td>93</td>\n    </tr>\n    <tr>\n      <th>330</th>\n      <td>354240</td>\n      <td>7</td>\n      <td>KBSTAR 미국고정배당우선증권ICE TR</td>\n      <td>9965</td>\n      <td>2</td>\n      <td>95</td>\n      <td>0.96</td>\n      <td>NaN</td>\n      <td>2.3858</td>\n      <td>1941</td>\n      <td>19</td>\n      <td>85</td>\n    </tr>\n    <tr>\n      <th>340</th>\n      <td>181480</td>\n      <td>7</td>\n      <td>KINDEX 미국다우존스리츠(합성 H)</td>\n      <td>79060</td>\n      <td>2</td>\n      <td>500</td>\n      <td>0.64</td>\n      <td>NaN</td>\n      <td>1.5643</td>\n      <td>234</td>\n      <td>18</td>\n      <td>79</td>\n    </tr>\n    <tr>\n      <th>342</th>\n      <td>375270</td>\n      <td>7</td>\n      <td>KBSTAR 글로벌데이터센터리츠나스닥(합성)</td>\n      <td>9750</td>\n      <td>2</td>\n      <td>60</td>\n      <td>0.62</td>\n      <td>NaN</td>\n      <td>NaN</td>\n      <td>1928</td>\n      <td>18</td>\n      <td>78</td>\n    </tr>\n    <tr>\n      <th>348</th>\n      <td>261110</td>\n      <td>7</td>\n      <td>TIGER 미국달러선물레버리지</td>\n      <td>9520</td>\n      <td>2</td>\n      <td>120</td>\n      <td>1.28</td>\n      <td>9529.0</td>\n      <td>8.9855</td>\n      <td>7155</td>\n      <td>68</td>\n      <td>76</td>\n    </tr>\n    <tr>\n      <th>374</th>\n      <td>238670</td>\n      <td>7</td>\n      <td>ARIRANG 스마트베타Quality채권혼합</td>\n      <td>10955</td>\n      <td>5</td>\n      <td>-45</td>\n      <td>-0.41</td>\n      <td>10976.0</td>\n      <td>3.9206</td>\n      <td>322</td>\n      <td>3</td>\n      <td>66</td>\n    </tr>\n    <tr>\n      <th>422</th>\n      <td>261270</td>\n      <td>7</td>\n      <td>KODEX 미국달러선물인버스</td>\n      <td>10060</td>\n      <td>5</td>\n      <td>-75</td>\n      <td>-0.74</td>\n      <td>10069.0</td>\n      <td>-4.4770</td>\n      <td>2820</td>\n      <td>28</td>\n      <td>50</td>\n    </tr>\n    <tr>\n      <th>435</th>\n      <td>261260</td>\n      <td>7</td>\n      <td>KODEX 미국달러선물인버스2X</td>\n      <td>9605</td>\n      <td>5</td>\n      <td>-135</td>\n      <td>-1.39</td>\n      <td>9604.0</td>\n      <td>-8.8442</td>\n      <td>44244</td>\n      <td>424</td>\n      <td>46</td>\n    </tr>\n    <tr>\n      <th>441</th>\n      <td>321410</td>\n      <td>7</td>\n      <td>KODEX 멀티에셋하이인컴(H)</td>\n      <td>10350</td>\n      <td>5</td>\n      <td>-20</td>\n      <td>-0.19</td>\n      <td>NaN</td>\n      <td>-0.4321</td>\n      <td>237</td>\n      <td>2</td>\n      <td>41</td>\n    </tr>\n    <tr>\n      <th>444</th>\n      <td>292570</td>\n      <td>7</td>\n      <td>TIGER 일본엔선물레버리지</td>\n      <td>10010</td>\n      <td>2</td>\n      <td>15</td>\n      <td>0.15</td>\n      <td>10004.0</td>\n      <td>-0.2993</td>\n      <td>1385</td>\n      <td>13</td>\n      <td>40</td>\n    </tr>\n    <tr>\n      <th>449</th>\n      <td>292580</td>\n      <td>7</td>\n      <td>TIGER 일본엔선물인버스</td>\n      <td>9585</td>\n      <td>2</td>\n      <td>30</td>\n      <td>0.31</td>\n      <td>9602.0</td>\n      <td>-1.1382</td>\n      <td>3</td>\n      <td>0</td>\n      <td>38</td>\n    </tr>\n    <tr>\n      <th>457</th>\n      <td>292590</td>\n      <td>7</td>\n      <td>TIGER 일본엔선물인버스2X</td>\n      <td>8725</td>\n      <td>5</td>\n      <td>-40</td>\n      <td>-0.46</td>\n      <td>8752.0</td>\n      <td>-1.0164</td>\n      <td>14</td>\n      <td>0</td>\n      <td>35</td>\n    </tr>\n  </tbody>\n</table>\n</div>"
     },
     "metadata": {},
     "execution_count": 20
    }
   ],
   "source": [
    "df[df['etfTabCode'] == 7]"
   ]
  },
  {
   "cell_type": "code",
   "execution_count": null,
   "metadata": {},
   "outputs": [],
   "source": []
  }
 ]
}