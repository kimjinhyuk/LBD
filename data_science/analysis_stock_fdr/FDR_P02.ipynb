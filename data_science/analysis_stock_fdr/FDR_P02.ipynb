{
 "metadata": {
  "language_info": {
   "codemirror_mode": {
    "name": "ipython",
    "version": 3
   },
   "file_extension": ".py",
   "mimetype": "text/x-python",
   "name": "python",
   "nbconvert_exporter": "python",
   "pygments_lexer": "ipython3",
   "version": "3.8.8-final"
  },
  "orig_nbformat": 2,
  "kernelspec": {
   "name": "python3",
   "display_name": "Python 3.8.8 64-bit ('tf': conda)",
   "metadata": {
    "interpreter": {
     "hash": "36abe285ff8731882665f4c5209b8197457efe98c32ed56e120d6781117a0a1c"
    }
   }
  }
 },
 "nbformat": 4,
 "nbformat_minor": 2,
 "cells": [
  {
   "cell_type": "code",
   "execution_count": 2,
   "metadata": {},
   "outputs": [],
   "source": [
    "#데이터 분석을 위한 pandas, 수치계산을 위한 numpy 라이브러리 로드\n",
    "import pandas as pd\n",
    "import numpy as np\n",
    "import seaborn as sns\n",
    "import matplotlib.pyplot as plt\n"
   ]
  },
  {
   "cell_type": "code",
   "execution_count": 4,
   "metadata": {},
   "outputs": [
    {
     "output_type": "execute_result",
     "data": {
      "text/plain": [
       "'0.11.1'"
      ]
     },
     "metadata": {},
     "execution_count": 4
    }
   ],
   "source": [
    "sns.__version__"
   ]
  },
  {
   "cell_type": "code",
   "execution_count": 5,
   "metadata": {},
   "outputs": [
    {
     "output_type": "execute_result",
     "data": {
      "text/plain": [
       "'1.2.3'"
      ]
     },
     "metadata": {},
     "execution_count": 5
    }
   ],
   "source": [
    "pd.__version__"
   ]
  },
  {
   "cell_type": "code",
   "execution_count": null,
   "metadata": {},
   "outputs": [],
   "source": [
    "#시각화를 위한 폰트 설정\n",
    "def get_font_family():\n",
    "    import platform\n",
    "    system_name = platform.system()\n",
    "\n",
    "    if system_name == \"Dawwin\":\n",
    "        font_family = \"AppleGotic\"\n",
    "    elif system_name == \"Windows\":\n",
    "        font_family = \"Malgun Gothic\"\n",
    "    else:\n",
    "        !apt-get update -qq\n",
    "        !apt-get install fonts-nanum -qq > /dev/null\n",
    "\n",
    "        import matplotlib.font_manager as fm\n",
    "\n",
    "        fontpath = '/usr/share/fonts/truetype/nanum/NanumBarunGothc.ttf'\n",
    "        font = fm.FontProperties(fname=fontpath, size=9)\n",
    "        fm._rebuild()\n",
    "        font_family = \"NanumBarunGothc\"\n",
    "    return font_family"
   ]
  },
  {
   "cell_type": "code",
   "execution_count": 5,
   "metadata": {},
   "outputs": [
    {
     "output_type": "execute_result",
     "data": {
      "text/plain": [
       "  itemcode  etfTabCode          itemname  nowVal  risefall  changeVal  \\\n",
       "0   069500           1         KODEX 200   41215         5       -260   \n",
       "1   102110           1         TIGER 200   41040         5       -295   \n",
       "2   252670           3  KODEX 200선물인버스2X    2215         2         30   \n",
       "3   153130           6        KODEX 단기채권  102725         5        -15   \n",
       "4   102780           2        KODEX 삼성그룹    9680         5       -120   \n",
       "\n",
       "   changeRate       nav  threeMonthEarnRate      quant   amonut  marketSum  \n",
       "0       -0.63   41266.0             14.1995   10741831   441008      51230  \n",
       "1       -0.71   41108.0             14.3556    1126933    46126      25629  \n",
       "2        1.37    2232.0            -27.0451  494560618  1103961      21893  \n",
       "3       -0.01  102729.0              0.1510       7549      775      19141  \n",
       "4       -1.22    9709.0              9.0100     363691     3505      16901  "
      ],
      "text/html": "<div>\n<style scoped>\n    .dataframe tbody tr th:only-of-type {\n        vertical-align: middle;\n    }\n\n    .dataframe tbody tr th {\n        vertical-align: top;\n    }\n\n    .dataframe thead th {\n        text-align: right;\n    }\n</style>\n<table border=\"1\" class=\"dataframe\">\n  <thead>\n    <tr style=\"text-align: right;\">\n      <th></th>\n      <th>itemcode</th>\n      <th>etfTabCode</th>\n      <th>itemname</th>\n      <th>nowVal</th>\n      <th>risefall</th>\n      <th>changeVal</th>\n      <th>changeRate</th>\n      <th>nav</th>\n      <th>threeMonthEarnRate</th>\n      <th>quant</th>\n      <th>amonut</th>\n      <th>marketSum</th>\n    </tr>\n  </thead>\n  <tbody>\n    <tr>\n      <th>0</th>\n      <td>069500</td>\n      <td>1</td>\n      <td>KODEX 200</td>\n      <td>41215</td>\n      <td>5</td>\n      <td>-260</td>\n      <td>-0.63</td>\n      <td>41266.0</td>\n      <td>14.1995</td>\n      <td>10741831</td>\n      <td>441008</td>\n      <td>51230</td>\n    </tr>\n    <tr>\n      <th>1</th>\n      <td>102110</td>\n      <td>1</td>\n      <td>TIGER 200</td>\n      <td>41040</td>\n      <td>5</td>\n      <td>-295</td>\n      <td>-0.71</td>\n      <td>41108.0</td>\n      <td>14.3556</td>\n      <td>1126933</td>\n      <td>46126</td>\n      <td>25629</td>\n    </tr>\n    <tr>\n      <th>2</th>\n      <td>252670</td>\n      <td>3</td>\n      <td>KODEX 200선물인버스2X</td>\n      <td>2215</td>\n      <td>2</td>\n      <td>30</td>\n      <td>1.37</td>\n      <td>2232.0</td>\n      <td>-27.0451</td>\n      <td>494560618</td>\n      <td>1103961</td>\n      <td>21893</td>\n    </tr>\n    <tr>\n      <th>3</th>\n      <td>153130</td>\n      <td>6</td>\n      <td>KODEX 단기채권</td>\n      <td>102725</td>\n      <td>5</td>\n      <td>-15</td>\n      <td>-0.01</td>\n      <td>102729.0</td>\n      <td>0.1510</td>\n      <td>7549</td>\n      <td>775</td>\n      <td>19141</td>\n    </tr>\n    <tr>\n      <th>4</th>\n      <td>102780</td>\n      <td>2</td>\n      <td>KODEX 삼성그룹</td>\n      <td>9680</td>\n      <td>5</td>\n      <td>-120</td>\n      <td>-1.22</td>\n      <td>9709.0</td>\n      <td>9.0100</td>\n      <td>363691</td>\n      <td>3505</td>\n      <td>16901</td>\n    </tr>\n  </tbody>\n</table>\n</div>"
     },
     "metadata": {},
     "execution_count": 5
    }
   ],
   "source": [
    "df = pd.read_csv('etf_2021-03-09_raw.csv', dtype={\"itemcode\": object})\n",
    "df.head()"
   ]
  },
  {
   "cell_type": "code",
   "execution_count": null,
   "metadata": {},
   "outputs": [],
   "source": []
  }
 ]
}