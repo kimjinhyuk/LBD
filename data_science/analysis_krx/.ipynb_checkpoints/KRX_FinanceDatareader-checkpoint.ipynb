{
 "cells": [
  {
   "cell_type": "markdown",
   "id": "retired-cherry",
   "metadata": {},
   "source": [
    "### FinanceDataReader ?\n",
    "* 한국 주식 가격, 미국 주식 가격, 지수, 환율, 암호화폐 가격, 종목 리스팅 등 금융 데이터 수집 라이브러리"
   ]
  },
  {
   "cell_type": "code",
   "execution_count": 7,
   "id": "southwest-entrepreneur",
   "metadata": {
    "ExecuteTime": {
     "end_time": "2021-02-11T01:04:25.038447Z",
     "start_time": "2021-02-11T01:04:22.991610Z"
    }
   },
   "outputs": [
    {
     "name": "stdout",
     "output_type": "stream",
     "text": [
      "Collecting finance-datareader\n",
      "  Downloading finance_datareader-0.9.20-py3-none-any.whl (16 kB)\n",
      "Requirement already satisfied: lxml in /Users/jin/opt/anaconda3/envs/jin_env/lib/python3.7/site-packages (from finance-datareader) (4.6.2)\n",
      "Requirement already satisfied: requests>=2.3.0 in /Users/jin/opt/anaconda3/envs/jin_env/lib/python3.7/site-packages (from finance-datareader) (2.25.1)\n",
      "Requirement already satisfied: pandas>=0.19.2 in /Users/jin/opt/anaconda3/envs/jin_env/lib/python3.7/site-packages (from finance-datareader) (1.2.1)\n",
      "Requirement already satisfied: numpy>=1.16.5 in /Users/jin/opt/anaconda3/envs/jin_env/lib/python3.7/site-packages (from pandas>=0.19.2->finance-datareader) (1.20.1)\n",
      "Requirement already satisfied: python-dateutil>=2.7.3 in /Users/jin/opt/anaconda3/envs/jin_env/lib/python3.7/site-packages (from pandas>=0.19.2->finance-datareader) (2.8.1)\n",
      "Requirement already satisfied: pytz>=2017.3 in /Users/jin/opt/anaconda3/envs/jin_env/lib/python3.7/site-packages (from pandas>=0.19.2->finance-datareader) (2021.1)\n",
      "Requirement already satisfied: six>=1.5 in /Users/jin/opt/anaconda3/envs/jin_env/lib/python3.7/site-packages (from python-dateutil>=2.7.3->pandas>=0.19.2->finance-datareader) (1.15.0)\n",
      "Requirement already satisfied: chardet<5,>=3.0.2 in /Users/jin/opt/anaconda3/envs/jin_env/lib/python3.7/site-packages (from requests>=2.3.0->finance-datareader) (4.0.0)\n",
      "Requirement already satisfied: idna<3,>=2.5 in /Users/jin/opt/anaconda3/envs/jin_env/lib/python3.7/site-packages (from requests>=2.3.0->finance-datareader) (2.10)\n",
      "Requirement already satisfied: urllib3<1.27,>=1.21.1 in /Users/jin/opt/anaconda3/envs/jin_env/lib/python3.7/site-packages (from requests>=2.3.0->finance-datareader) (1.26.3)\n",
      "Requirement already satisfied: certifi>=2017.4.17 in /Users/jin/opt/anaconda3/envs/jin_env/lib/python3.7/site-packages (from requests>=2.3.0->finance-datareader) (2020.12.5)\n",
      "Collecting requests-file\n",
      "  Downloading requests_file-1.5.1-py2.py3-none-any.whl (3.7 kB)\n",
      "Collecting tqdm\n",
      "  Downloading tqdm-4.56.2-py2.py3-none-any.whl (72 kB)\n",
      "\u001b[K     |████████████████████████████████| 72 kB 1.3 MB/s eta 0:00:011\n",
      "\u001b[?25hInstalling collected packages: tqdm, requests-file, finance-datareader\n",
      "Successfully installed finance-datareader-0.9.20 requests-file-1.5.1 tqdm-4.56.2\n"
     ]
    }
   ],
   "source": [
    "# 설치\n",
    "!pip install -U finance-datareader"
   ]
  },
  {
   "cell_type": "code",
   "execution_count": 8,
   "id": "instant-alloy",
   "metadata": {
    "ExecuteTime": {
     "end_time": "2021-02-11T01:05:39.018079Z",
     "start_time": "2021-02-11T01:05:38.637256Z"
    }
   },
   "outputs": [],
   "source": [
    "import pandas as pd"
   ]
  },
  {
   "cell_type": "code",
   "execution_count": 11,
   "id": "intermediate-declaration",
   "metadata": {
    "ExecuteTime": {
     "end_time": "2021-02-11T01:07:25.885253Z",
     "start_time": "2021-02-11T01:07:23.208858Z"
    },
    "code_folding": [
     0
    ]
   },
   "outputs": [
    {
     "data": {
      "text/plain": [
       "'0.9.20'"
      ]
     },
     "execution_count": 11,
     "metadata": {},
     "output_type": "execute_result"
    }
   ],
   "source": [
    "#FinanceeDataReader as pdr\n",
    "import FinanceDataReader as fdr\n",
    "\n",
    "fdr.__version__"
   ]
  },
  {
   "cell_type": "code",
   "execution_count": 10,
   "id": "overall-overall",
   "metadata": {
    "ExecuteTime": {
     "end_time": "2021-02-11T01:07:17.486801Z",
     "start_time": "2021-02-11T01:07:16.052955Z"
    },
    "code_folding": []
   },
   "outputs": [
    {
     "name": "stdout",
     "output_type": "stream",
     "text": [
      "Collecting beautifulsoup4\n",
      "  Downloading beautifulsoup4-4.9.3-py3-none-any.whl (115 kB)\n",
      "\u001b[K     |████████████████████████████████| 115 kB 2.0 MB/s eta 0:00:01\n",
      "\u001b[?25hCollecting soupsieve>1.2\n",
      "  Downloading soupsieve-2.2-py3-none-any.whl (33 kB)\n",
      "Installing collected packages: soupsieve, beautifulsoup4\n",
      "Successfully installed beautifulsoup4-4.9.3 soupsieve-2.2\n"
     ]
    }
   ],
   "source": [
    "#!pip install beautifulsoup4"
   ]
  },
  {
   "cell_type": "markdown",
   "id": "serial-distributor",
   "metadata": {},
   "source": [
    "### 한국거래소 상장 종목 전체 가져오기"
   ]
  },
  {
   "cell_type": "code",
   "execution_count": 12,
   "id": "strange-camcorder",
   "metadata": {
    "ExecuteTime": {
     "end_time": "2021-02-11T01:10:05.229138Z",
     "start_time": "2021-02-11T01:10:05.154328Z"
    }
   },
   "outputs": [],
   "source": [
    "#도움말을 볼때는 ? 를 사용하고 소스코드를 볼때는 ??\n",
    "#주피터 노트북에서는 함수나 메소드의 괄호 안에서 shift+ tab 키를 누르면 도움말을 볼 수 있음\n",
    "fdr.StockListing??"
   ]
  },
  {
   "cell_type": "code",
   "execution_count": 14,
   "id": "brave-spouse",
   "metadata": {
    "ExecuteTime": {
     "end_time": "2021-02-11T01:13:59.341154Z",
     "start_time": "2021-02-11T01:13:54.527476Z"
    }
   },
   "outputs": [
    {
     "data": {
      "text/plain": [
       "(7105, 10)"
      ]
     },
     "execution_count": 14,
     "metadata": {},
     "output_type": "execute_result"
    }
   ],
   "source": [
    "#KRX \n",
    "#KOSPI\n",
    "#KOSDAQ \n",
    "#KONEX \n",
    "#NASDAQ\n",
    "#NYSE\n",
    "#SP500\n",
    "\n",
    "df_krx = fdr.StockListing(\"KRX\")\n",
    "df_krx.shape"
   ]
  },
  {
   "cell_type": "code",
   "execution_count": 15,
   "id": "adjusted-thumbnail",
   "metadata": {
    "ExecuteTime": {
     "end_time": "2021-02-11T01:14:16.167541Z",
     "start_time": "2021-02-11T01:14:16.137269Z"
    }
   },
   "outputs": [
    {
     "name": "stdout",
     "output_type": "stream",
     "text": [
      "<class 'pandas.core.frame.DataFrame'>\n",
      "Int64Index: 7105 entries, 0 to 7104\n",
      "Data columns (total 10 columns):\n",
      " #   Column          Non-Null Count  Dtype         \n",
      "---  ------          --------------  -----         \n",
      " 0   Symbol          7105 non-null   object        \n",
      " 1   Market          7105 non-null   object        \n",
      " 2   Name            7105 non-null   object        \n",
      " 3   Sector          2422 non-null   object        \n",
      " 4   Industry        2403 non-null   object        \n",
      " 5   ListingDate     2422 non-null   datetime64[ns]\n",
      " 6   SettleMonth     2422 non-null   object        \n",
      " 7   Representative  2422 non-null   object        \n",
      " 8   HomePage        2246 non-null   object        \n",
      " 9   Region          2422 non-null   object        \n",
      "dtypes: datetime64[ns](1), object(9)\n",
      "memory usage: 868.6+ KB\n"
     ]
    }
   ],
   "source": [
    "df_krx.info()"
   ]
  },
  {
   "cell_type": "code",
   "execution_count": 16,
   "id": "accessible-arnold",
   "metadata": {
    "ExecuteTime": {
     "end_time": "2021-02-11T01:15:53.911970Z",
     "start_time": "2021-02-11T01:15:53.846429Z"
    }
   },
   "outputs": [
    {
     "name": "stderr",
     "output_type": "stream",
     "text": [
      "/Users/jin/opt/anaconda3/envs/jin_env/lib/python3.7/site-packages/ipykernel_launcher.py:4: FutureWarning: Treating datetime data as categorical rather than numeric in `.describe` is deprecated and will be removed in a future version of pandas. Specify `datetime_is_numeric=True` to silence this warning and adopt the future behavior now.\n",
      "  after removing the cwd from sys.path.\n"
     ]
    },
    {
     "data": {
      "text/html": [
       "<div>\n",
       "<style scoped>\n",
       "    .dataframe tbody tr th:only-of-type {\n",
       "        vertical-align: middle;\n",
       "    }\n",
       "\n",
       "    .dataframe tbody tr th {\n",
       "        vertical-align: top;\n",
       "    }\n",
       "\n",
       "    .dataframe thead th {\n",
       "        text-align: right;\n",
       "    }\n",
       "</style>\n",
       "<table border=\"1\" class=\"dataframe\">\n",
       "  <thead>\n",
       "    <tr style=\"text-align: right;\">\n",
       "      <th></th>\n",
       "      <th>Symbol</th>\n",
       "      <th>Market</th>\n",
       "      <th>Name</th>\n",
       "      <th>Sector</th>\n",
       "      <th>Industry</th>\n",
       "      <th>ListingDate</th>\n",
       "      <th>SettleMonth</th>\n",
       "      <th>Representative</th>\n",
       "      <th>HomePage</th>\n",
       "      <th>Region</th>\n",
       "    </tr>\n",
       "  </thead>\n",
       "  <tbody>\n",
       "    <tr>\n",
       "      <th>count</th>\n",
       "      <td>7105</td>\n",
       "      <td>7105</td>\n",
       "      <td>7105</td>\n",
       "      <td>2422</td>\n",
       "      <td>2403</td>\n",
       "      <td>2422</td>\n",
       "      <td>2422</td>\n",
       "      <td>2422</td>\n",
       "      <td>2246</td>\n",
       "      <td>2422</td>\n",
       "    </tr>\n",
       "    <tr>\n",
       "      <th>unique</th>\n",
       "      <td>7105</td>\n",
       "      <td>3</td>\n",
       "      <td>7105</td>\n",
       "      <td>158</td>\n",
       "      <td>2250</td>\n",
       "      <td>1784</td>\n",
       "      <td>9</td>\n",
       "      <td>2308</td>\n",
       "      <td>2225</td>\n",
       "      <td>22</td>\n",
       "    </tr>\n",
       "    <tr>\n",
       "      <th>top</th>\n",
       "      <td>57G102</td>\n",
       "      <td>KOSPI</td>\n",
       "      <td>TIGER 단기채권액티브</td>\n",
       "      <td>특수 목적용 기계 제조업</td>\n",
       "      <td>기업인수합병</td>\n",
       "      <td>1996-07-03 00:00:00</td>\n",
       "      <td>12월</td>\n",
       "      <td>-</td>\n",
       "      <td>http://www.taegugas.co.kr</td>\n",
       "      <td>서울특별시</td>\n",
       "    </tr>\n",
       "    <tr>\n",
       "      <th>freq</th>\n",
       "      <td>1</td>\n",
       "      <td>5459</td>\n",
       "      <td>1</td>\n",
       "      <td>142</td>\n",
       "      <td>37</td>\n",
       "      <td>8</td>\n",
       "      <td>2361</td>\n",
       "      <td>5</td>\n",
       "      <td>2</td>\n",
       "      <td>978</td>\n",
       "    </tr>\n",
       "    <tr>\n",
       "      <th>first</th>\n",
       "      <td>NaN</td>\n",
       "      <td>NaN</td>\n",
       "      <td>NaN</td>\n",
       "      <td>NaN</td>\n",
       "      <td>NaN</td>\n",
       "      <td>1956-03-03 00:00:00</td>\n",
       "      <td>NaN</td>\n",
       "      <td>NaN</td>\n",
       "      <td>NaN</td>\n",
       "      <td>NaN</td>\n",
       "    </tr>\n",
       "    <tr>\n",
       "      <th>last</th>\n",
       "      <td>NaN</td>\n",
       "      <td>NaN</td>\n",
       "      <td>NaN</td>\n",
       "      <td>NaN</td>\n",
       "      <td>NaN</td>\n",
       "      <td>2021-02-10 00:00:00</td>\n",
       "      <td>NaN</td>\n",
       "      <td>NaN</td>\n",
       "      <td>NaN</td>\n",
       "      <td>NaN</td>\n",
       "    </tr>\n",
       "  </tbody>\n",
       "</table>\n",
       "</div>"
      ],
      "text/plain": [
       "        Symbol Market           Name         Sector Industry  \\\n",
       "count     7105   7105           7105           2422     2403   \n",
       "unique    7105      3           7105            158     2250   \n",
       "top     57G102  KOSPI  TIGER 단기채권액티브  특수 목적용 기계 제조업   기업인수합병   \n",
       "freq         1   5459              1            142       37   \n",
       "first      NaN    NaN            NaN            NaN      NaN   \n",
       "last       NaN    NaN            NaN            NaN      NaN   \n",
       "\n",
       "                ListingDate SettleMonth Representative  \\\n",
       "count                  2422        2422           2422   \n",
       "unique                 1784           9           2308   \n",
       "top     1996-07-03 00:00:00         12월              -   \n",
       "freq                      8        2361              5   \n",
       "first   1956-03-03 00:00:00         NaN            NaN   \n",
       "last    2021-02-10 00:00:00         NaN            NaN   \n",
       "\n",
       "                         HomePage Region  \n",
       "count                        2246   2422  \n",
       "unique                       2225     22  \n",
       "top     http://www.taegugas.co.kr  서울특별시  \n",
       "freq                            2    978  \n",
       "first                         NaN    NaN  \n",
       "last                          NaN    NaN  "
      ]
     },
     "execution_count": 16,
     "metadata": {},
     "output_type": "execute_result"
    }
   ],
   "source": [
    "#object 타입은 문자열\n",
    "#기술통계 값을 요약\n",
    "\n",
    "df_krx.describe()"
   ]
  },
  {
   "cell_type": "markdown",
   "id": "realistic-device",
   "metadata": {},
   "source": [
    "### 파일로 저장하고 불러오기"
   ]
  },
  {
   "cell_type": "code",
   "execution_count": null,
   "id": "baking-boulder",
   "metadata": {},
   "outputs": [],
   "source": []
  },
  {
   "cell_type": "code",
   "execution_count": 19,
   "id": "criminal-evidence",
   "metadata": {
    "ExecuteTime": {
     "end_time": "2021-02-11T01:24:39.959707Z",
     "start_time": "2021-02-11T01:24:39.899281Z"
    }
   },
   "outputs": [],
   "source": [
    "#to_csv 로 Dataframe을 데이터 저장 파일 csv 파일로 바꿈\n",
    "df_krx.to_csv(\"krx.csv\", index=False)"
   ]
  },
  {
   "cell_type": "code",
   "execution_count": 20,
   "id": "accomplished-volunteer",
   "metadata": {
    "ExecuteTime": {
     "end_time": "2021-02-11T01:24:42.903285Z",
     "start_time": "2021-02-11T01:24:42.858320Z"
    }
   },
   "outputs": [
    {
     "data": {
      "text/html": [
       "<div>\n",
       "<style scoped>\n",
       "    .dataframe tbody tr th:only-of-type {\n",
       "        vertical-align: middle;\n",
       "    }\n",
       "\n",
       "    .dataframe tbody tr th {\n",
       "        vertical-align: top;\n",
       "    }\n",
       "\n",
       "    .dataframe thead th {\n",
       "        text-align: right;\n",
       "    }\n",
       "</style>\n",
       "<table border=\"1\" class=\"dataframe\">\n",
       "  <thead>\n",
       "    <tr style=\"text-align: right;\">\n",
       "      <th></th>\n",
       "      <th>Symbol</th>\n",
       "      <th>Market</th>\n",
       "      <th>Name</th>\n",
       "      <th>Sector</th>\n",
       "      <th>Industry</th>\n",
       "      <th>ListingDate</th>\n",
       "      <th>SettleMonth</th>\n",
       "      <th>Representative</th>\n",
       "      <th>HomePage</th>\n",
       "      <th>Region</th>\n",
       "    </tr>\n",
       "  </thead>\n",
       "  <tbody>\n",
       "    <tr>\n",
       "      <th>0</th>\n",
       "      <td>060310</td>\n",
       "      <td>KOSDAQ</td>\n",
       "      <td>3S</td>\n",
       "      <td>특수 목적용 기계 제조업</td>\n",
       "      <td>반도체 웨이퍼 캐리어</td>\n",
       "      <td>2002-04-23</td>\n",
       "      <td>03월</td>\n",
       "      <td>박종익, 김세완 (각자 대표이사)</td>\n",
       "      <td>http://www.3sref.com</td>\n",
       "      <td>서울특별시</td>\n",
       "    </tr>\n",
       "    <tr>\n",
       "      <th>1</th>\n",
       "      <td>095570</td>\n",
       "      <td>KOSPI</td>\n",
       "      <td>AJ네트웍스</td>\n",
       "      <td>산업용 기계 및 장비 임대업</td>\n",
       "      <td>렌탈(파렛트, OA장비, 건설장비)</td>\n",
       "      <td>2015-08-21</td>\n",
       "      <td>12월</td>\n",
       "      <td>이현우</td>\n",
       "      <td>http://www.ajnet.co.kr</td>\n",
       "      <td>서울특별시</td>\n",
       "    </tr>\n",
       "    <tr>\n",
       "      <th>2</th>\n",
       "      <td>006840</td>\n",
       "      <td>KOSPI</td>\n",
       "      <td>AK홀딩스</td>\n",
       "      <td>기타 금융업</td>\n",
       "      <td>지주사업</td>\n",
       "      <td>1999-08-11</td>\n",
       "      <td>12월</td>\n",
       "      <td>채형석, 이석주(각자 대표이사)</td>\n",
       "      <td>http://www.aekyunggroup.co.kr</td>\n",
       "      <td>서울특별시</td>\n",
       "    </tr>\n",
       "    <tr>\n",
       "      <th>3</th>\n",
       "      <td>054620</td>\n",
       "      <td>KOSDAQ</td>\n",
       "      <td>APS홀딩스</td>\n",
       "      <td>기타 금융업</td>\n",
       "      <td>인터넷 트래픽 솔루션</td>\n",
       "      <td>2001-12-04</td>\n",
       "      <td>12월</td>\n",
       "      <td>정기로</td>\n",
       "      <td>http://www.apsholdings.co.kr</td>\n",
       "      <td>경기도</td>\n",
       "    </tr>\n",
       "    <tr>\n",
       "      <th>4</th>\n",
       "      <td>265520</td>\n",
       "      <td>KOSDAQ</td>\n",
       "      <td>AP시스템</td>\n",
       "      <td>특수 목적용 기계 제조업</td>\n",
       "      <td>디스플레이 제조 장비</td>\n",
       "      <td>2017-04-07</td>\n",
       "      <td>12월</td>\n",
       "      <td>김영주</td>\n",
       "      <td>http://www.apsystems.co.kr</td>\n",
       "      <td>경기도</td>\n",
       "    </tr>\n",
       "    <tr>\n",
       "      <th>...</th>\n",
       "      <td>...</td>\n",
       "      <td>...</td>\n",
       "      <td>...</td>\n",
       "      <td>...</td>\n",
       "      <td>...</td>\n",
       "      <td>...</td>\n",
       "      <td>...</td>\n",
       "      <td>...</td>\n",
       "      <td>...</td>\n",
       "      <td>...</td>\n",
       "    </tr>\n",
       "    <tr>\n",
       "      <th>7100</th>\n",
       "      <td>000547</td>\n",
       "      <td>KOSPI</td>\n",
       "      <td>흥국화재2우B</td>\n",
       "      <td>NaN</td>\n",
       "      <td>NaN</td>\n",
       "      <td>NaN</td>\n",
       "      <td>NaN</td>\n",
       "      <td>NaN</td>\n",
       "      <td>NaN</td>\n",
       "      <td>NaN</td>\n",
       "    </tr>\n",
       "    <tr>\n",
       "      <th>7101</th>\n",
       "      <td>000545</td>\n",
       "      <td>KOSPI</td>\n",
       "      <td>흥국화재우</td>\n",
       "      <td>NaN</td>\n",
       "      <td>NaN</td>\n",
       "      <td>NaN</td>\n",
       "      <td>NaN</td>\n",
       "      <td>NaN</td>\n",
       "      <td>NaN</td>\n",
       "      <td>NaN</td>\n",
       "    </tr>\n",
       "    <tr>\n",
       "      <th>7102</th>\n",
       "      <td>003280</td>\n",
       "      <td>KOSPI</td>\n",
       "      <td>흥아해운</td>\n",
       "      <td>해상 운송업</td>\n",
       "      <td>외항화물운송업(케미컬탱커)</td>\n",
       "      <td>1976-06-29</td>\n",
       "      <td>12월</td>\n",
       "      <td>이환구</td>\n",
       "      <td>http://www.heung-a.com</td>\n",
       "      <td>서울특별시</td>\n",
       "    </tr>\n",
       "    <tr>\n",
       "      <th>7103</th>\n",
       "      <td>037440</td>\n",
       "      <td>KOSDAQ</td>\n",
       "      <td>희림</td>\n",
       "      <td>건축기술, 엔지니어링 및 관련 기술 서비스업</td>\n",
       "      <td>설계 및 감리용역</td>\n",
       "      <td>2000-02-03</td>\n",
       "      <td>12월</td>\n",
       "      <td>정영균, 이목운, 허철호, 염두성 (각자대표)</td>\n",
       "      <td>http://www.heerim.com</td>\n",
       "      <td>서울특별시</td>\n",
       "    </tr>\n",
       "    <tr>\n",
       "      <th>7104</th>\n",
       "      <td>238490</td>\n",
       "      <td>KOSDAQ</td>\n",
       "      <td>힘스</td>\n",
       "      <td>특수 목적용 기계 제조업</td>\n",
       "      <td>OLED Mask 인장기, OLED Mask 검사기 등</td>\n",
       "      <td>2017-07-20</td>\n",
       "      <td>12월</td>\n",
       "      <td>김주환</td>\n",
       "      <td>http://www.hims.co.kr</td>\n",
       "      <td>인천광역시</td>\n",
       "    </tr>\n",
       "  </tbody>\n",
       "</table>\n",
       "<p>7105 rows × 10 columns</p>\n",
       "</div>"
      ],
      "text/plain": [
       "      Symbol  Market     Name                    Sector  \\\n",
       "0     060310  KOSDAQ       3S             특수 목적용 기계 제조업   \n",
       "1     095570   KOSPI   AJ네트웍스           산업용 기계 및 장비 임대업   \n",
       "2     006840   KOSPI    AK홀딩스                    기타 금융업   \n",
       "3     054620  KOSDAQ   APS홀딩스                    기타 금융업   \n",
       "4     265520  KOSDAQ    AP시스템             특수 목적용 기계 제조업   \n",
       "...      ...     ...      ...                       ...   \n",
       "7100  000547   KOSPI  흥국화재2우B                       NaN   \n",
       "7101  000545   KOSPI    흥국화재우                       NaN   \n",
       "7102  003280   KOSPI     흥아해운                    해상 운송업   \n",
       "7103  037440  KOSDAQ       희림  건축기술, 엔지니어링 및 관련 기술 서비스업   \n",
       "7104  238490  KOSDAQ       힘스             특수 목적용 기계 제조업   \n",
       "\n",
       "                            Industry ListingDate SettleMonth  \\\n",
       "0                        반도체 웨이퍼 캐리어  2002-04-23         03월   \n",
       "1                렌탈(파렛트, OA장비, 건설장비)  2015-08-21         12월   \n",
       "2                               지주사업  1999-08-11         12월   \n",
       "3                        인터넷 트래픽 솔루션  2001-12-04         12월   \n",
       "4                        디스플레이 제조 장비  2017-04-07         12월   \n",
       "...                              ...         ...         ...   \n",
       "7100                             NaN         NaN         NaN   \n",
       "7101                             NaN         NaN         NaN   \n",
       "7102                  외항화물운송업(케미컬탱커)  1976-06-29         12월   \n",
       "7103                       설계 및 감리용역  2000-02-03         12월   \n",
       "7104  OLED Mask 인장기, OLED Mask 검사기 등  2017-07-20         12월   \n",
       "\n",
       "                 Representative                       HomePage Region  \n",
       "0            박종익, 김세완 (각자 대표이사)           http://www.3sref.com  서울특별시  \n",
       "1                           이현우         http://www.ajnet.co.kr  서울특별시  \n",
       "2             채형석, 이석주(각자 대표이사)  http://www.aekyunggroup.co.kr  서울특별시  \n",
       "3                           정기로   http://www.apsholdings.co.kr    경기도  \n",
       "4                           김영주     http://www.apsystems.co.kr    경기도  \n",
       "...                         ...                            ...    ...  \n",
       "7100                        NaN                            NaN    NaN  \n",
       "7101                        NaN                            NaN    NaN  \n",
       "7102                        이환구         http://www.heung-a.com  서울특별시  \n",
       "7103  정영균, 이목운, 허철호, 염두성 (각자대표)          http://www.heerim.com  서울특별시  \n",
       "7104                        김주환          http://www.hims.co.kr  인천광역시  \n",
       "\n",
       "[7105 rows x 10 columns]"
      ]
     },
     "execution_count": 20,
     "metadata": {},
     "output_type": "execute_result"
    }
   ],
   "source": [
    "#csv로 저장된 파일 df로 읽어서 확인\n",
    "pd.read_csv(\"krx.csv\")"
   ]
  }
 ],
 "metadata": {
  "kernelspec": {
   "display_name": "Python 3",
   "language": "python",
   "name": "python3"
  },
  "language_info": {
   "codemirror_mode": {
    "name": "ipython",
    "version": 3
   },
   "file_extension": ".py",
   "mimetype": "text/x-python",
   "name": "python",
   "nbconvert_exporter": "python",
   "pygments_lexer": "ipython3",
   "version": "3.7.9"
  },
  "toc": {
   "base_numbering": 1,
   "nav_menu": {},
   "number_sections": true,
   "sideBar": true,
   "skip_h1_title": false,
   "title_cell": "Table of Contents",
   "title_sidebar": "Contents",
   "toc_cell": false,
   "toc_position": {},
   "toc_section_display": true,
   "toc_window_display": false
  },
  "varInspector": {
   "cols": {
    "lenName": 16,
    "lenType": 16,
    "lenVar": 40
   },
   "kernels_config": {
    "python": {
     "delete_cmd_postfix": "",
     "delete_cmd_prefix": "del ",
     "library": "var_list.py",
     "varRefreshCmd": "print(var_dic_list())"
    },
    "r": {
     "delete_cmd_postfix": ") ",
     "delete_cmd_prefix": "rm(",
     "library": "var_list.r",
     "varRefreshCmd": "cat(var_dic_list()) "
    }
   },
   "types_to_exclude": [
    "module",
    "function",
    "builtin_function_or_method",
    "instance",
    "_Feature"
   ],
   "window_display": false
  }
 },
 "nbformat": 4,
 "nbformat_minor": 5
}
